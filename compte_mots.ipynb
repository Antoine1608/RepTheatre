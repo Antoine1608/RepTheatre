{
 "cells": [
  {
   "cell_type": "code",
   "execution_count": 1,
   "id": "84c5fa8e",
   "metadata": {},
   "outputs": [
    {
     "name": "stdout",
     "output_type": "stream",
     "text": [
      "Requirement already satisfied: tqdm in c:\\users\\john\\desktop\\formation\\venv\\lib\\site-packages (4.64.1)\n",
      "Requirement already satisfied: colorama in c:\\users\\john\\desktop\\formation\\venv\\lib\\site-packages (from tqdm) (0.4.6)\n",
      "Note: you may need to restart the kernel to use updated packages.\n"
     ]
    }
   ],
   "source": [
    "pip install tqdm"
   ]
  },
  {
   "cell_type": "code",
   "execution_count": 2,
   "id": "2bbeb24e",
   "metadata": {},
   "outputs": [],
   "source": [
    "import pandas as pd\n",
    "import numpy as np\n",
    "import re\n",
    "import tqdm as tqdm\n",
    "import matplotlib.pyplot as plt"
   ]
  },
  {
   "cell_type": "code",
   "execution_count": 93,
   "id": "41709200",
   "metadata": {
    "scrolled": true
   },
   "outputs": [],
   "source": [
    "df=pd.read_csv(r\"C:\\Users\\John\\Desktop\\Formation\\10-Analyser la charge des acteurs d'une pièce de théâtre\\1-Projet 10\\Le_malade_imaginairea.csv\",encoding='latin1',sep=';',header=None)"
   ]
  },
  {
   "cell_type": "code",
   "execution_count": 94,
   "id": "c29a817d",
   "metadata": {},
   "outputs": [
    {
     "data": {
      "text/html": [
       "<div>\n",
       "<style scoped>\n",
       "    .dataframe tbody tr th:only-of-type {\n",
       "        vertical-align: middle;\n",
       "    }\n",
       "\n",
       "    .dataframe tbody tr th {\n",
       "        vertical-align: top;\n",
       "    }\n",
       "\n",
       "    .dataframe thead th {\n",
       "        text-align: right;\n",
       "    }\n",
       "</style>\n",
       "<table border=\"1\" class=\"dataframe\">\n",
       "  <thead>\n",
       "    <tr style=\"text-align: right;\">\n",
       "      <th></th>\n",
       "      <th>0</th>\n",
       "      <th>1</th>\n",
       "      <th>2</th>\n",
       "      <th>3</th>\n",
       "      <th>4</th>\n",
       "      <th>5</th>\n",
       "      <th>6</th>\n",
       "      <th>7</th>\n",
       "      <th>8</th>\n",
       "      <th>9</th>\n",
       "      <th>...</th>\n",
       "      <th>227</th>\n",
       "      <th>228</th>\n",
       "      <th>229</th>\n",
       "      <th>230</th>\n",
       "      <th>231</th>\n",
       "      <th>232</th>\n",
       "      <th>233</th>\n",
       "      <th>234</th>\n",
       "      <th>235</th>\n",
       "      <th>236</th>\n",
       "    </tr>\n",
       "  </thead>\n",
       "  <tbody>\n",
       "    <tr>\n",
       "      <th>0</th>\n",
       "      <td>MALADE</td>\n",
       "      <td>IMAGINAIRE</td>\n",
       "      <td>NaN</td>\n",
       "      <td>NaN</td>\n",
       "      <td>NaN</td>\n",
       "      <td>NaN</td>\n",
       "      <td>NaN</td>\n",
       "      <td>NaN</td>\n",
       "      <td>NaN</td>\n",
       "      <td>NaN</td>\n",
       "      <td>...</td>\n",
       "      <td>NaN</td>\n",
       "      <td>NaN</td>\n",
       "      <td>NaN</td>\n",
       "      <td>NaN</td>\n",
       "      <td>NaN</td>\n",
       "      <td>NaN</td>\n",
       "      <td>NaN</td>\n",
       "      <td>NaN</td>\n",
       "      <td>NaN</td>\n",
       "      <td>NaN</td>\n",
       "    </tr>\n",
       "    <tr>\n",
       "      <th>1</th>\n",
       "      <td>du</td>\n",
       "      <td>PROLOGUE</td>\n",
       "      <td>NaN</td>\n",
       "      <td>NaN</td>\n",
       "      <td>NaN</td>\n",
       "      <td>NaN</td>\n",
       "      <td>NaN</td>\n",
       "      <td>NaN</td>\n",
       "      <td>NaN</td>\n",
       "      <td>NaN</td>\n",
       "      <td>...</td>\n",
       "      <td>NaN</td>\n",
       "      <td>NaN</td>\n",
       "      <td>NaN</td>\n",
       "      <td>NaN</td>\n",
       "      <td>NaN</td>\n",
       "      <td>NaN</td>\n",
       "      <td>NaN</td>\n",
       "      <td>NaN</td>\n",
       "      <td>NaN</td>\n",
       "      <td>NaN</td>\n",
       "    </tr>\n",
       "    <tr>\n",
       "      <th>2</th>\n",
       "      <td>NaN</td>\n",
       "      <td>NaN</td>\n",
       "      <td>NaN</td>\n",
       "      <td>NaN</td>\n",
       "      <td>NaN</td>\n",
       "      <td>NaN</td>\n",
       "      <td>NaN</td>\n",
       "      <td>NaN</td>\n",
       "      <td>NaN</td>\n",
       "      <td>NaN</td>\n",
       "      <td>...</td>\n",
       "      <td>NaN</td>\n",
       "      <td>NaN</td>\n",
       "      <td>NaN</td>\n",
       "      <td>NaN</td>\n",
       "      <td>NaN</td>\n",
       "      <td>NaN</td>\n",
       "      <td>NaN</td>\n",
       "      <td>NaN</td>\n",
       "      <td>NaN</td>\n",
       "      <td>NaN</td>\n",
       "    </tr>\n",
       "    <tr>\n",
       "      <th>3</th>\n",
       "      <td>NaN</td>\n",
       "      <td>NaN</td>\n",
       "      <td>NaN</td>\n",
       "      <td>NaN</td>\n",
       "      <td>NaN</td>\n",
       "      <td>NaN</td>\n",
       "      <td>NaN</td>\n",
       "      <td>NaN</td>\n",
       "      <td>NaN</td>\n",
       "      <td>NaN</td>\n",
       "      <td>...</td>\n",
       "      <td>NaN</td>\n",
       "      <td>NaN</td>\n",
       "      <td>NaN</td>\n",
       "      <td>NaN</td>\n",
       "      <td>NaN</td>\n",
       "      <td>NaN</td>\n",
       "      <td>NaN</td>\n",
       "      <td>NaN</td>\n",
       "      <td>NaN</td>\n",
       "      <td>NaN</td>\n",
       "    </tr>\n",
       "    <tr>\n",
       "      <th>4</th>\n",
       "      <td>NaN</td>\n",
       "      <td>NaN</td>\n",
       "      <td>NaN</td>\n",
       "      <td>NaN</td>\n",
       "      <td>NaN</td>\n",
       "      <td>NaN</td>\n",
       "      <td>NaN</td>\n",
       "      <td>NaN</td>\n",
       "      <td>NaN</td>\n",
       "      <td>NaN</td>\n",
       "      <td>...</td>\n",
       "      <td>NaN</td>\n",
       "      <td>NaN</td>\n",
       "      <td>NaN</td>\n",
       "      <td>NaN</td>\n",
       "      <td>NaN</td>\n",
       "      <td>NaN</td>\n",
       "      <td>NaN</td>\n",
       "      <td>NaN</td>\n",
       "      <td>NaN</td>\n",
       "      <td>NaN</td>\n",
       "    </tr>\n",
       "    <tr>\n",
       "      <th>...</th>\n",
       "      <td>...</td>\n",
       "      <td>...</td>\n",
       "      <td>...</td>\n",
       "      <td>...</td>\n",
       "      <td>...</td>\n",
       "      <td>...</td>\n",
       "      <td>...</td>\n",
       "      <td>...</td>\n",
       "      <td>...</td>\n",
       "      <td>...</td>\n",
       "      <td>...</td>\n",
       "      <td>...</td>\n",
       "      <td>...</td>\n",
       "      <td>...</td>\n",
       "      <td>...</td>\n",
       "      <td>...</td>\n",
       "      <td>...</td>\n",
       "      <td>...</td>\n",
       "      <td>...</td>\n",
       "      <td>...</td>\n",
       "      <td>...</td>\n",
       "    </tr>\n",
       "    <tr>\n",
       "      <th>2726</th>\n",
       "      <td>DERNIERE</td>\n",
       "      <td>ENTREE</td>\n",
       "      <td>DE</td>\n",
       "      <td>BALLET.</td>\n",
       "      <td>NaN</td>\n",
       "      <td>NaN</td>\n",
       "      <td>NaN</td>\n",
       "      <td>NaN</td>\n",
       "      <td>NaN</td>\n",
       "      <td>NaN</td>\n",
       "      <td>...</td>\n",
       "      <td>NaN</td>\n",
       "      <td>NaN</td>\n",
       "      <td>NaN</td>\n",
       "      <td>NaN</td>\n",
       "      <td>NaN</td>\n",
       "      <td>NaN</td>\n",
       "      <td>NaN</td>\n",
       "      <td>NaN</td>\n",
       "      <td>NaN</td>\n",
       "      <td>NaN</td>\n",
       "    </tr>\n",
       "    <tr>\n",
       "      <th>2727</th>\n",
       "      <td>NaN</td>\n",
       "      <td>NaN</td>\n",
       "      <td>NaN</td>\n",
       "      <td>NaN</td>\n",
       "      <td>NaN</td>\n",
       "      <td>NaN</td>\n",
       "      <td>NaN</td>\n",
       "      <td>NaN</td>\n",
       "      <td>NaN</td>\n",
       "      <td>NaN</td>\n",
       "      <td>...</td>\n",
       "      <td>NaN</td>\n",
       "      <td>NaN</td>\n",
       "      <td>NaN</td>\n",
       "      <td>NaN</td>\n",
       "      <td>NaN</td>\n",
       "      <td>NaN</td>\n",
       "      <td>NaN</td>\n",
       "      <td>NaN</td>\n",
       "      <td>NaN</td>\n",
       "      <td>NaN</td>\n",
       "    </tr>\n",
       "    <tr>\n",
       "      <th>2728</th>\n",
       "      <td>Des</td>\n",
       "      <td>medecins,</td>\n",
       "      <td>des</td>\n",
       "      <td>chirurgiens</td>\n",
       "      <td>et</td>\n",
       "      <td>des</td>\n",
       "      <td>apothicaires,</td>\n",
       "      <td>qui</td>\n",
       "      <td>sortent</td>\n",
       "      <td>tous</td>\n",
       "      <td>...</td>\n",
       "      <td>NaN</td>\n",
       "      <td>NaN</td>\n",
       "      <td>NaN</td>\n",
       "      <td>NaN</td>\n",
       "      <td>NaN</td>\n",
       "      <td>NaN</td>\n",
       "      <td>NaN</td>\n",
       "      <td>NaN</td>\n",
       "      <td>NaN</td>\n",
       "      <td>NaN</td>\n",
       "    </tr>\n",
       "    <tr>\n",
       "      <th>2729</th>\n",
       "      <td>NaN</td>\n",
       "      <td>NaN</td>\n",
       "      <td>NaN</td>\n",
       "      <td>NaN</td>\n",
       "      <td>NaN</td>\n",
       "      <td>NaN</td>\n",
       "      <td>NaN</td>\n",
       "      <td>NaN</td>\n",
       "      <td>NaN</td>\n",
       "      <td>NaN</td>\n",
       "      <td>...</td>\n",
       "      <td>NaN</td>\n",
       "      <td>NaN</td>\n",
       "      <td>NaN</td>\n",
       "      <td>NaN</td>\n",
       "      <td>NaN</td>\n",
       "      <td>NaN</td>\n",
       "      <td>NaN</td>\n",
       "      <td>NaN</td>\n",
       "      <td>NaN</td>\n",
       "      <td>NaN</td>\n",
       "    </tr>\n",
       "    <tr>\n",
       "      <th>2730</th>\n",
       "      <td>==============================================...</td>\n",
       "      <td>NaN</td>\n",
       "      <td>NaN</td>\n",
       "      <td>NaN</td>\n",
       "      <td>NaN</td>\n",
       "      <td>NaN</td>\n",
       "      <td>NaN</td>\n",
       "      <td>NaN</td>\n",
       "      <td>NaN</td>\n",
       "      <td>NaN</td>\n",
       "      <td>...</td>\n",
       "      <td>NaN</td>\n",
       "      <td>NaN</td>\n",
       "      <td>NaN</td>\n",
       "      <td>NaN</td>\n",
       "      <td>NaN</td>\n",
       "      <td>NaN</td>\n",
       "      <td>NaN</td>\n",
       "      <td>NaN</td>\n",
       "      <td>NaN</td>\n",
       "      <td>NaN</td>\n",
       "    </tr>\n",
       "  </tbody>\n",
       "</table>\n",
       "<p>2731 rows × 237 columns</p>\n",
       "</div>"
      ],
      "text/plain": [
       "                                                    0           1    2    \\\n",
       "0                                                MALADE  IMAGINAIRE  NaN   \n",
       "1                                                    du    PROLOGUE  NaN   \n",
       "2                                                   NaN         NaN  NaN   \n",
       "3                                                   NaN         NaN  NaN   \n",
       "4                                                   NaN         NaN  NaN   \n",
       "...                                                 ...         ...  ...   \n",
       "2726                                           DERNIERE      ENTREE   DE   \n",
       "2727                                                NaN         NaN  NaN   \n",
       "2728                                                Des   medecins,  des   \n",
       "2729                                                NaN         NaN  NaN   \n",
       "2730  ==============================================...         NaN  NaN   \n",
       "\n",
       "              3    4    5              6    7        8     9    ...  227  228  \\\n",
       "0             NaN  NaN  NaN            NaN  NaN      NaN   NaN  ...  NaN  NaN   \n",
       "1             NaN  NaN  NaN            NaN  NaN      NaN   NaN  ...  NaN  NaN   \n",
       "2             NaN  NaN  NaN            NaN  NaN      NaN   NaN  ...  NaN  NaN   \n",
       "3             NaN  NaN  NaN            NaN  NaN      NaN   NaN  ...  NaN  NaN   \n",
       "4             NaN  NaN  NaN            NaN  NaN      NaN   NaN  ...  NaN  NaN   \n",
       "...           ...  ...  ...            ...  ...      ...   ...  ...  ...  ...   \n",
       "2726      BALLET.  NaN  NaN            NaN  NaN      NaN   NaN  ...  NaN  NaN   \n",
       "2727          NaN  NaN  NaN            NaN  NaN      NaN   NaN  ...  NaN  NaN   \n",
       "2728  chirurgiens   et  des  apothicaires,  qui  sortent  tous  ...  NaN  NaN   \n",
       "2729          NaN  NaN  NaN            NaN  NaN      NaN   NaN  ...  NaN  NaN   \n",
       "2730          NaN  NaN  NaN            NaN  NaN      NaN   NaN  ...  NaN  NaN   \n",
       "\n",
       "      229  230  231  232  233  234  235  236  \n",
       "0     NaN  NaN  NaN  NaN  NaN  NaN  NaN  NaN  \n",
       "1     NaN  NaN  NaN  NaN  NaN  NaN  NaN  NaN  \n",
       "2     NaN  NaN  NaN  NaN  NaN  NaN  NaN  NaN  \n",
       "3     NaN  NaN  NaN  NaN  NaN  NaN  NaN  NaN  \n",
       "4     NaN  NaN  NaN  NaN  NaN  NaN  NaN  NaN  \n",
       "...   ...  ...  ...  ...  ...  ...  ...  ...  \n",
       "2726  NaN  NaN  NaN  NaN  NaN  NaN  NaN  NaN  \n",
       "2727  NaN  NaN  NaN  NaN  NaN  NaN  NaN  NaN  \n",
       "2728  NaN  NaN  NaN  NaN  NaN  NaN  NaN  NaN  \n",
       "2729  NaN  NaN  NaN  NaN  NaN  NaN  NaN  NaN  \n",
       "2730  NaN  NaN  NaN  NaN  NaN  NaN  NaN  NaN  \n",
       "\n",
       "[2731 rows x 237 columns]"
      ]
     },
     "execution_count": 94,
     "metadata": {},
     "output_type": "execute_result"
    }
   ],
   "source": [
    "df"
   ]
  },
  {
   "cell_type": "markdown",
   "id": "cdbe05e0",
   "metadata": {},
   "source": [
    "   if 'MONSIEUR' in str(df.iloc[r, :])==False:\n",
    "                    data.append([0, 0, df.iloc[r, 0], 0])\n",
    "                else:\n",
    "                    data.append([0, 0, df.iloc[r, 0]+df.iloc[r, 1], 0])"
   ]
  },
  {
   "cell_type": "code",
   "execution_count": 95,
   "id": "ac182fe2",
   "metadata": {},
   "outputs": [
    {
     "name": "stderr",
     "output_type": "stream",
     "text": [
      "  0%|▎                                                                               | 12/2731 [00:00<00:48, 56.34it/s]"
     ]
    },
    {
     "name": "stdout",
     "output_type": "stream",
     "text": [
      "nb de mots enregistrés :  2 in row  0\n",
      "step  du   PROLOGUE  detecté in row  1\n",
      "nb de mots enregistrés :  0 in row  2\n",
      "nb de mots enregistrés :  0 in row  3\n",
      "nb de mots enregistrés :  0 in row  4\n",
      "nb de mots enregistrés :  0 in row  5\n",
      "nb de mots enregistrés :  0 in row  6\n",
      "nb de mots enregistrés :  0 in row  7\n",
      "nb de mots enregistrés :  0 in row  8\n",
      "nb de mots enregistrés :  1 in row  9\n",
      "nb de mots enregistrés :  3 in row  10\n",
      "nb de mots enregistrés :  5 in row  11\n"
     ]
    },
    {
     "name": "stderr",
     "output_type": "stream",
     "text": [
      "  1%|▋                                                                               | 25/2731 [00:00<00:48, 55.39it/s]"
     ]
    },
    {
     "name": "stdout",
     "output_type": "stream",
     "text": [
      "nb de mots enregistrés :  8 in row  12\n",
      "nb de mots enregistrés :  10 in row  13\n",
      "nb de mots enregistrés :  13 in row  14\n",
      "nb de mots enregistrés :  19 in row  15\n",
      "nb de mots enregistrés :  25 in row  16\n",
      "nb de mots enregistrés :  27 in row  17\n",
      "nb de mots enregistrés :  29 in row  18\n",
      "nb de mots enregistrés :  31 in row  22\n",
      "nb de mots enregistrés :  33 in row  23\n",
      "nb de mots enregistrés :  34 in row  24\n"
     ]
    },
    {
     "name": "stderr",
     "output_type": "stream",
     "text": [
      "  1%|█                                                                               | 37/2731 [00:00<00:47, 56.79it/s]"
     ]
    },
    {
     "name": "stdout",
     "output_type": "stream",
     "text": [
      "nb de mots enregistrés :  38 in row  25\n",
      "nb de mots enregistrés :  38 in row  26\n",
      "nb de mots enregistrés :  38 in row  27\n",
      "nb de mots enregistrés :  38 in row  28\n",
      "step  LE   PROLOGUE  detecté in row  29\n",
      "nb de mots enregistrés :  0 in row  30\n",
      "nb de mots enregistrés :  72 in row  31\n",
      "nb de mots enregistrés :  81 in row  32\n",
      "nb de mots enregistrés :  81 in row  33\n",
      "nb de mots enregistrés :  81 in row  34\n",
      "nb de mots enregistrés :  81 in row  35\n",
      "nb de mots enregistrés :  101 in row  36\n",
      "nb de mots enregistrés :  101 in row  37\n",
      "nb de mots enregistrés :  101 in row  38\n",
      "nb de mots enregistrés :  102 in row  39\n"
     ]
    },
    {
     "name": "stderr",
     "output_type": "stream",
     "text": [
      "  2%|█▍                                                                              | 49/2731 [00:00<00:53, 50.52it/s]"
     ]
    },
    {
     "name": "stdout",
     "output_type": "stream",
     "text": [
      "nb de mots enregistrés :  116 in row  40\n",
      "nb de mots enregistrés :  130 in row  41\n",
      "nb de mots enregistrés :  133 in row  42\n",
      "nb de mots enregistrés :  143 in row  43\n",
      "nb de mots enregistrés :  143 in row  44\n",
      "nb de mots enregistrés :  146 in row  45\n",
      "nb de mots enregistrés :  151 in row  46\n",
      "nb de mots enregistrés :  152 in row  47\n",
      "nb de mots enregistrés :  161 in row  48\n",
      "nb de mots enregistrés :  162 in row  49\n",
      "nb de mots enregistrés :  171 in row  50\n",
      "nb de mots enregistrés :  174 in row  51\n",
      "nb de mots enregistrés :  194 in row  52\n",
      "nb de mots enregistrés :  197 in row  53\n",
      "nb de mots enregistrés :  209 in row  54\n"
     ]
    },
    {
     "name": "stderr",
     "output_type": "stream",
     "text": [
      "  2%|█▉                                                                              | 67/2731 [00:01<00:52, 50.72it/s]"
     ]
    },
    {
     "name": "stdout",
     "output_type": "stream",
     "text": [
      "nb de mots enregistrés :  209 in row  55\n",
      "nb de mots enregistrés :  210 in row  56\n",
      "nb de mots enregistrés :  217 in row  57\n",
      "nb de mots enregistrés :  218 in row  58\n",
      "nb de mots enregistrés :  227 in row  59\n",
      "nb de mots enregistrés :  230 in row  60\n",
      "nb de mots enregistrés :  235 in row  61\n",
      "nb de mots enregistrés :  235 in row  62\n",
      "nb de mots enregistrés :  238 in row  63\n",
      "nb de mots enregistrés :  238 in row  64\n",
      "nb de mots enregistrés :  254 in row  65\n",
      "nb de mots enregistrés :  254 in row  66\n"
     ]
    },
    {
     "name": "stderr",
     "output_type": "stream",
     "text": [
      "  3%|██▎                                                                             | 79/2731 [00:01<00:53, 49.71it/s]"
     ]
    },
    {
     "name": "stdout",
     "output_type": "stream",
     "text": [
      "nb de mots enregistrés :  255 in row  67\n",
      "nb de mots enregistrés :  266 in row  68\n",
      "nb de mots enregistrés :  266 in row  69\n",
      "nb de mots enregistrés :  267 in row  70\n",
      "nb de mots enregistrés :  275 in row  71\n",
      "nb de mots enregistrés :  276 in row  72\n",
      "nb de mots enregistrés :  281 in row  73\n",
      "nb de mots enregistrés :  284 in row  74\n",
      "nb de mots enregistrés :  288 in row  75\n",
      "nb de mots enregistrés :  289 in row  76\n",
      "nb de mots enregistrés :  293 in row  77\n",
      "nb de mots enregistrés :  328 in row  78\n"
     ]
    },
    {
     "name": "stderr",
     "output_type": "stream",
     "text": [
      "\r",
      "  3%|██▍                                                                             | 85/2731 [00:01<00:52, 50.72it/s]"
     ]
    },
    {
     "name": "stdout",
     "output_type": "stream",
     "text": [
      "nb de mots enregistrés :  330 in row  79\n",
      "nb de mots enregistrés :  331 in row  80\n",
      "nb de mots enregistrés :  360 in row  81\n",
      "nb de mots enregistrés :  383 in row  82\n",
      "nb de mots enregistrés :  383 in row  83\n",
      "nb de mots enregistrés :  387 in row  84\n",
      "nb de mots enregistrés :  387 in row  85\n",
      "nb de mots enregistrés :  401 in row  86\n",
      "nb de mots enregistrés :  401 in row  87\n",
      "nb de mots enregistrés :  402 in row  88\n",
      "nb de mots enregistrés :  411 in row  89\n",
      "nb de mots enregistrés :  432 in row  90\n"
     ]
    },
    {
     "name": "stderr",
     "output_type": "stream",
     "text": [
      "  4%|██▊                                                                             | 97/2731 [00:01<00:53, 49.23it/s]"
     ]
    },
    {
     "name": "stdout",
     "output_type": "stream",
     "text": [
      "nb de mots enregistrés :  443 in row  91\n",
      "nb de mots enregistrés :  444 in row  92\n",
      "nb de mots enregistrés :  451 in row  93\n",
      "nb de mots enregistrés :  455 in row  94\n",
      "nb de mots enregistrés :  456 in row  95\n",
      "nb de mots enregistrés :  477 in row  96\n",
      "nb de mots enregistrés :  487 in row  97\n",
      "nb de mots enregistrés :  488 in row  98\n",
      "nb de mots enregistrés :  492 in row  99\n",
      "nb de mots enregistrés :  493 in row  100\n",
      "nb de mots enregistrés :  497 in row  101\n"
     ]
    },
    {
     "name": "stderr",
     "output_type": "stream",
     "text": [
      "  4%|███▏                                                                           | 109/2731 [00:02<00:52, 49.65it/s]"
     ]
    },
    {
     "name": "stdout",
     "output_type": "stream",
     "text": [
      "nb de mots enregistrés :  498 in row  102\n",
      "nb de mots enregistrés :  503 in row  103\n",
      "nb de mots enregistrés :  503 in row  104\n",
      "nb de mots enregistrés :  504 in row  105\n",
      "nb de mots enregistrés :  510 in row  106\n",
      "nb de mots enregistrés :  511 in row  107\n",
      "nb de mots enregistrés :  516 in row  108\n",
      "nb de mots enregistrés :  517 in row  109\n",
      "nb de mots enregistrés :  523 in row  110\n",
      "nb de mots enregistrés :  525 in row  111\n"
     ]
    },
    {
     "name": "stderr",
     "output_type": "stream",
     "text": [
      "  5%|███▋                                                                           | 128/2731 [00:02<00:48, 53.24it/s]"
     ]
    },
    {
     "name": "stdout",
     "output_type": "stream",
     "text": [
      "nb de mots enregistrés :  535 in row  112\n",
      "nb de mots enregistrés :  583 in row  113\n",
      "nb de mots enregistrés :  584 in row  114\n",
      "nb de mots enregistrés :  604 in row  115\n",
      "nb de mots enregistrés :  622 in row  116\n",
      "nb de mots enregistrés :  622 in row  117\n",
      "nb de mots enregistrés :  623 in row  118\n",
      "nb de mots enregistrés :  623 in row  119\n",
      "nb de mots enregistrés :  642 in row  120\n",
      "nb de mots enregistrés :  642 in row  121\n",
      "nb de mots enregistrés :  643 in row  122\n",
      "nb de mots enregistrés :  656 in row  123\n",
      "nb de mots enregistrés :  677 in row  124\n",
      "nb de mots enregistrés :  677 in row  125\n",
      "nb de mots enregistrés :  678 in row  126\n",
      "nb de mots enregistrés :  678 in row  127\n"
     ]
    },
    {
     "name": "stderr",
     "output_type": "stream",
     "text": [
      "  5%|████▎                                                                          | 147/2731 [00:02<00:45, 56.32it/s]"
     ]
    },
    {
     "name": "stdout",
     "output_type": "stream",
     "text": [
      "nb de mots enregistrés :  692 in row  128\n",
      "nb de mots enregistrés :  692 in row  129\n",
      "nb de mots enregistrés :  693 in row  130\n",
      "nb de mots enregistrés :  701 in row  131\n",
      "nb de mots enregistrés :  728 in row  132\n",
      "nb de mots enregistrés :  735 in row  133\n",
      "nb de mots enregistrés :  735 in row  134\n",
      "nb de mots enregistrés :  736 in row  135\n",
      "nb de mots enregistrés :  736 in row  136\n",
      "nb de mots enregistrés :  748 in row  137\n",
      "nb de mots enregistrés :  748 in row  138\n",
      "nb de mots enregistrés :  749 in row  139\n",
      "nb de mots enregistrés :  777 in row  140\n",
      "nb de mots enregistrés :  788 in row  141\n",
      "nb de mots enregistrés :  788 in row  142\n",
      "nb de mots enregistrés :  789 in row  143\n",
      "nb de mots enregistrés :  789 in row  144\n",
      "nb de mots enregistrés :  805 in row  145\n",
      "nb de mots enregistrés :  805 in row  146\n"
     ]
    },
    {
     "name": "stderr",
     "output_type": "stream",
     "text": [
      "  6%|████▌                                                                          | 159/2731 [00:03<00:48, 52.66it/s]"
     ]
    },
    {
     "name": "stdout",
     "output_type": "stream",
     "text": [
      "nb de mots enregistrés :  810 in row  147\n",
      "nb de mots enregistrés :  858 in row  148\n",
      "nb de mots enregistrés :  892 in row  149\n",
      "nb de mots enregistrés :  905 in row  150\n",
      "nb de mots enregistrés :  933 in row  151\n",
      "nb de mots enregistrés :  933 in row  152\n",
      "nb de mots enregistrés :  934 in row  153\n",
      "nb de mots enregistrés :  943 in row  154\n",
      "nb de mots enregistrés :  944 in row  155\n",
      "nb de mots enregistrés :  964 in row  156\n",
      "nb de mots enregistrés :  973 in row  157\n",
      "nb de mots enregistrés :  973 in row  158\n"
     ]
    },
    {
     "name": "stderr",
     "output_type": "stream",
     "text": [
      "  6%|████▉                                                                          | 171/2731 [00:03<00:47, 53.35it/s]"
     ]
    },
    {
     "name": "stdout",
     "output_type": "stream",
     "text": [
      "nb de mots enregistrés :  976 in row  159\n",
      "nb de mots enregistrés :  976 in row  160\n",
      "nb de mots enregistrés :  995 in row  161\n",
      "nb de mots enregistrés :  995 in row  162\n",
      "nb de mots enregistrés :  1003 in row  163\n",
      "nb de mots enregistrés :  1013 in row  164\n",
      "nb de mots enregistrés :  1016 in row  165\n",
      "nb de mots enregistrés :  1026 in row  166\n",
      "nb de mots enregistrés :  1026 in row  167\n",
      "nb de mots enregistrés :  1029 in row  168\n",
      "nb de mots enregistrés :  1039 in row  169\n",
      "nb de mots enregistrés :  1042 in row  170\n",
      "nb de mots enregistrés :  1049 in row  171\n",
      "nb de mots enregistrés :  1052 in row  172\n",
      "nb de mots enregistrés :  1060 in row  173\n",
      "nb de mots enregistrés :  1061 in row  174\n"
     ]
    },
    {
     "name": "stderr",
     "output_type": "stream",
     "text": [
      "  7%|█████▎                                                                         | 183/2731 [00:03<00:51, 49.14it/s]"
     ]
    },
    {
     "name": "stdout",
     "output_type": "stream",
     "text": [
      "nb de mots enregistrés :  1071 in row  175\n",
      "nb de mots enregistrés :  1095 in row  176\n",
      "nb de mots enregistrés :  1095 in row  177\n",
      "nb de mots enregistrés :  1101 in row  178\n",
      "nb de mots enregistrés :  1101 in row  179\n",
      "nb de mots enregistrés :  1127 in row  180\n",
      "nb de mots enregistrés :  1127 in row  181\n",
      "nb de mots enregistrés :  1127 in row  182\n",
      "step  AUTRE   PROLOGUE  detecté in row  183\n",
      "nb de mots enregistrés :  0 in row  184\n",
      "nb de mots enregistrés :  0 in row  185\n"
     ]
    },
    {
     "name": "stderr",
     "output_type": "stream",
     "text": [
      "  7%|█████▋                                                                         | 196/2731 [00:03<00:47, 53.47it/s]"
     ]
    },
    {
     "name": "stdout",
     "output_type": "stream",
     "text": [
      "nb de mots enregistrés :  0 in row  186\n",
      "nb de mots enregistrés :  0 in row  187\n",
      "nb de mots enregistrés :  0 in row  188\n",
      "nb de mots enregistrés :  0 in row  189\n",
      "nb de mots enregistrés :  0 in row  190\n",
      "nb de mots enregistrés :  4 in row  191\n",
      "nb de mots enregistrés :  4 in row  192\n",
      "nb de mots enregistrés :  4 in row  193\n",
      "nb de mots enregistrés :  12 in row  194\n",
      "nb de mots enregistrés :  17 in row  195\n",
      "nb de mots enregistrés :  26 in row  196\n",
      "nb de mots enregistrés :  31 in row  197\n",
      "nb de mots enregistrés :  39 in row  198\n",
      "nb de mots enregistrés :  39 in row  199\n",
      "nb de mots enregistrés :  39 in row  200\n"
     ]
    },
    {
     "name": "stderr",
     "output_type": "stream",
     "text": [
      "  8%|██████                                                                         | 208/2731 [00:04<00:48, 52.06it/s]"
     ]
    },
    {
     "name": "stdout",
     "output_type": "stream",
     "text": [
      "nb de mots enregistrés :  46 in row  201\n",
      "nb de mots enregistrés :  49 in row  202\n",
      "nb de mots enregistrés :  55 in row  203\n",
      "nb de mots enregistrés :  61 in row  204\n",
      "nb de mots enregistrés :  66 in row  205\n",
      "nb de mots enregistrés :  73 in row  206\n",
      "nb de mots enregistrés :  81 in row  207\n",
      "nb de mots enregistrés :  81 in row  208\n",
      "nb de mots enregistrés :  81 in row  209\n"
     ]
    },
    {
     "name": "stderr",
     "output_type": "stream",
     "text": [
      "  8%|██████▍                                                                        | 221/2731 [00:04<00:46, 53.47it/s]"
     ]
    },
    {
     "name": "stdout",
     "output_type": "stream",
     "text": [
      "nb de mots enregistrés :  89 in row  210\n",
      "nb de mots enregistrés :  95 in row  211\n",
      "nb de mots enregistrés :  105 in row  212\n",
      "nb de mots enregistrés :  113 in row  213\n",
      "nb de mots enregistrés :  117 in row  214\n",
      "nb de mots enregistrés :  125 in row  215\n",
      "nb de mots enregistrés :  130 in row  216\n",
      "nb de mots enregistrés :  130 in row  217\n",
      "nb de mots enregistrés :  130 in row  218\n",
      "nb de mots enregistrés :  141 in row  219\n",
      "nb de mots enregistrés :  141 in row  220\n",
      "step  ACTE   I  detecté in row  221\n",
      "nb de mots enregistrés :  0 in row  222\n",
      "nb de mots enregistrés :  0 in row  223\n",
      "nb de mots enregistrés :  0 in row  224\n",
      "nb de mots enregistrés :  0 in row  225\n",
      "step  SCENE   I.  detecté in row  226\n",
      "nb de mots enregistrés :  0 in row  227\n"
     ]
    },
    {
     "name": "stderr",
     "output_type": "stream",
     "text": [
      "  9%|██████▊                                                                        | 236/2731 [00:04<00:43, 57.16it/s]"
     ]
    },
    {
     "name": "stdout",
     "output_type": "stream",
     "text": [
      "nb de mots enregistrés :  0 in row  228\n",
      "nb de mots enregistrés :  194 in row  230\n",
      "nb de mots enregistrés :  194 in row  231\n",
      "step  SCENE   II.  detecté in row  232\n",
      "nb de mots enregistrés :  0 in row  233\n",
      "nb de mots enregistrés :  0 in row  234\n",
      "nb de mots enregistrés :  3 in row  236\n",
      "nb de mots enregistrés :  34 in row  238\n"
     ]
    },
    {
     "name": "stderr",
     "output_type": "stream",
     "text": [
      "  9%|███████▍                                                                       | 256/2731 [00:04<00:43, 57.51it/s]"
     ]
    },
    {
     "name": "stdout",
     "output_type": "stream",
     "text": [
      "nb de mots enregistrés :  79 in row  240\n",
      "nb de mots enregistrés :  83 in row  242\n",
      "nb de mots enregistrés :  85 in row  244\n",
      "nb de mots enregistrés :  88 in row  246\n",
      "nb de mots enregistrés :  90 in row  248\n",
      "nb de mots enregistrés :  95 in row  250\n",
      "nb de mots enregistrés :  97 in row  252\n",
      "nb de mots enregistrés :  100 in row  254\n"
     ]
    },
    {
     "name": "stderr",
     "output_type": "stream",
     "text": [
      " 10%|███████▉                                                                       | 276/2731 [00:05<00:40, 61.07it/s]"
     ]
    },
    {
     "name": "stdout",
     "output_type": "stream",
     "text": [
      "nb de mots enregistrés :  102 in row  256\n",
      "nb de mots enregistrés :  135 in row  258\n",
      "nb de mots enregistrés :  148 in row  260\n",
      "nb de mots enregistrés :  153 in row  262\n",
      "nb de mots enregistrés :  171 in row  264\n",
      "nb de mots enregistrés :  173 in row  266\n",
      "nb de mots enregistrés :  178 in row  268\n",
      "nb de mots enregistrés :  181 in row  270\n",
      "nb de mots enregistrés :  183 in row  272\n",
      "nb de mots enregistrés :  186 in row  274\n"
     ]
    },
    {
     "name": "stderr",
     "output_type": "stream",
     "text": [
      " 11%|████████▎                                                                      | 289/2731 [00:05<00:42, 57.04it/s]"
     ]
    },
    {
     "name": "stdout",
     "output_type": "stream",
     "text": [
      "nb de mots enregistrés :  188 in row  276\n",
      "nb de mots enregistrés :  202 in row  278\n",
      "nb de mots enregistrés :  210 in row  280\n",
      "nb de mots enregistrés :  219 in row  282\n",
      "nb de mots enregistrés :  238 in row  284\n",
      "nb de mots enregistrés :  262 in row  286\n",
      "nb de mots enregistrés :  265 in row  288\n",
      "nb de mots enregistrés :  273 in row  290\n",
      "nb de mots enregistrés :  297 in row  292\n"
     ]
    },
    {
     "name": "stderr",
     "output_type": "stream",
     "text": [
      " 11%|████████▋                                                                      | 301/2731 [00:05<00:43, 56.45it/s]"
     ]
    },
    {
     "name": "stdout",
     "output_type": "stream",
     "text": [
      "nb de mots enregistrés :  313 in row  294\n",
      "nb de mots enregistrés :  326 in row  296\n",
      "nb de mots enregistrés :  353 in row  298\n",
      "nb de mots enregistrés :  364 in row  300\n",
      "nb de mots enregistrés :  364 in row  301\n",
      "step  SCENE   III.  detecté in row  302\n",
      "nb de mots enregistrés :  0 in row  303\n",
      "nb de mots enregistrés :  0 in row  304\n",
      "nb de mots enregistrés :  6 in row  306\n"
     ]
    },
    {
     "name": "stderr",
     "output_type": "stream",
     "text": [
      " 12%|█████████▎                                                                     | 320/2731 [00:05<00:40, 58.81it/s]"
     ]
    },
    {
     "name": "stdout",
     "output_type": "stream",
     "text": [
      "nb de mots enregistrés :  12 in row  308\n",
      "nb de mots enregistrés :  22 in row  310\n",
      "nb de mots enregistrés :  32 in row  312\n",
      "nb de mots enregistrés :  32 in row  313\n",
      "step  SCENE   IV.  detecté in row  314\n",
      "nb de mots enregistrés :  0 in row  315\n",
      "nb de mots enregistrés :  0 in row  316\n",
      "nb de mots enregistrés :  1 in row  318\n",
      "nb de mots enregistrés :  3 in row  320\n",
      "nb de mots enregistrés :  6 in row  322\n",
      "nb de mots enregistrés :  11 in row  324\n"
     ]
    },
    {
     "name": "stderr",
     "output_type": "stream",
     "text": [
      " 12%|█████████▋                                                                     | 333/2731 [00:06<00:40, 59.29it/s]"
     ]
    },
    {
     "name": "stdout",
     "output_type": "stream",
     "text": [
      "nb de mots enregistrés :  12 in row  326\n",
      "nb de mots enregistrés :  17 in row  328\n",
      "nb de mots enregistrés :  26 in row  330\n",
      "nb de mots enregistrés :  34 in row  332\n",
      "nb de mots enregistrés :  59 in row  334\n"
     ]
    },
    {
     "name": "stderr",
     "output_type": "stream",
     "text": [
      " 13%|█████████▉                                                                     | 345/2731 [00:06<00:41, 57.32it/s]"
     ]
    },
    {
     "name": "stdout",
     "output_type": "stream",
     "text": [
      "nb de mots enregistrés :  77 in row  336\n",
      "nb de mots enregistrés :  116 in row  338\n",
      "nb de mots enregistrés :  119 in row  340\n",
      "nb de mots enregistrés :  128 in row  342\n",
      "nb de mots enregistrés :  133 in row  344\n",
      "nb de mots enregistrés :  151 in row  346\n",
      "nb de mots enregistrés :  156 in row  348\n",
      "nb de mots enregistrés :  179 in row  350\n"
     ]
    },
    {
     "name": "stderr",
     "output_type": "stream",
     "text": [
      " 13%|██████████▌                                                                    | 364/2731 [00:06<00:42, 56.04it/s]"
     ]
    },
    {
     "name": "stdout",
     "output_type": "stream",
     "text": [
      "nb de mots enregistrés :  180 in row  352\n",
      "nb de mots enregistrés :  200 in row  354\n",
      "nb de mots enregistrés :  201 in row  356\n",
      "nb de mots enregistrés :  211 in row  358\n",
      "nb de mots enregistrés :  212 in row  360\n",
      "nb de mots enregistrés :  224 in row  362\n",
      "nb de mots enregistrés :  226 in row  364\n",
      "nb de mots enregistrés :  238 in row  366\n",
      "nb de mots enregistrés :  239 in row  368\n"
     ]
    },
    {
     "name": "stderr",
     "output_type": "stream",
     "text": [
      " 14%|███████████▎                                                                   | 392/2731 [00:07<00:39, 59.24it/s]"
     ]
    },
    {
     "name": "stdout",
     "output_type": "stream",
     "text": [
      "nb de mots enregistrés :  246 in row  370\n",
      "nb de mots enregistrés :  248 in row  372\n",
      "nb de mots enregistrés :  260 in row  374\n",
      "nb de mots enregistrés :  263 in row  376\n",
      "nb de mots enregistrés :  278 in row  378\n",
      "nb de mots enregistrés :  281 in row  380\n",
      "nb de mots enregistrés :  312 in row  382\n",
      "nb de mots enregistrés :  315 in row  384\n",
      "nb de mots enregistrés :  328 in row  386\n",
      "nb de mots enregistrés :  347 in row  388\n",
      "nb de mots enregistrés :  371 in row  390\n"
     ]
    },
    {
     "name": "stderr",
     "output_type": "stream",
     "text": [
      " 15%|███████████▉                                                                   | 414/2731 [00:07<00:37, 61.88it/s]"
     ]
    },
    {
     "name": "stdout",
     "output_type": "stream",
     "text": [
      "nb de mots enregistrés :  379 in row  392\n",
      "nb de mots enregistrés :  394 in row  394\n",
      "nb de mots enregistrés :  399 in row  396\n",
      "nb de mots enregistrés :  399 in row  397\n",
      "step  SCENE   V.  detecté in row  398\n",
      "nb de mots enregistrés :  0 in row  399\n",
      "nb de mots enregistrés :  0 in row  400\n",
      "nb de mots enregistrés :  72 in row  402\n",
      "nb de mots enregistrés :  84 in row  404\n",
      "nb de mots enregistrés :  103 in row  406\n",
      "nb de mots enregistrés :  114 in row  408\n",
      "nb de mots enregistrés :  146 in row  410\n",
      "nb de mots enregistrés :  152 in row  412\n"
     ]
    },
    {
     "name": "stderr",
     "output_type": "stream",
     "text": [
      "\r",
      " 15%|████████████▏                                                                  | 421/2731 [00:07<00:43, 53.67it/s]"
     ]
    },
    {
     "name": "stdout",
     "output_type": "stream",
     "text": [
      "nb de mots enregistrés :  169 in row  414\n",
      "nb de mots enregistrés :  182 in row  416\n",
      "nb de mots enregistrés :  204 in row  418\n",
      "nb de mots enregistrés :  211 in row  420\n",
      "nb de mots enregistrés :  214 in row  422\n",
      "nb de mots enregistrés :  218 in row  424\n"
     ]
    },
    {
     "name": "stderr",
     "output_type": "stream",
     "text": [
      " 16%|████████████▊                                                                  | 441/2731 [00:08<00:39, 58.45it/s]"
     ]
    },
    {
     "name": "stdout",
     "output_type": "stream",
     "text": [
      "nb de mots enregistrés :  271 in row  426\n",
      "nb de mots enregistrés :  303 in row  428\n",
      "nb de mots enregistrés :  306 in row  430\n",
      "nb de mots enregistrés :  309 in row  432\n",
      "nb de mots enregistrés :  311 in row  434\n",
      "nb de mots enregistrés :  315 in row  436\n",
      "nb de mots enregistrés :  316 in row  438\n",
      "nb de mots enregistrés :  319 in row  440\n"
     ]
    },
    {
     "name": "stderr",
     "output_type": "stream",
     "text": [
      " 17%|█████████████▏                                                                 | 455/2731 [00:08<00:39, 57.25it/s]"
     ]
    },
    {
     "name": "stdout",
     "output_type": "stream",
     "text": [
      "nb de mots enregistrés :  321 in row  442\n",
      "nb de mots enregistrés :  325 in row  444\n",
      "nb de mots enregistrés :  328 in row  446\n",
      "nb de mots enregistrés :  330 in row  448\n",
      "nb de mots enregistrés :  335 in row  450\n",
      "nb de mots enregistrés :  341 in row  452\n",
      "nb de mots enregistrés :  348 in row  454\n",
      "nb de mots enregistrés :  356 in row  456\n",
      "nb de mots enregistrés :  360 in row  458\n"
     ]
    },
    {
     "name": "stderr",
     "output_type": "stream",
     "text": [
      " 17%|█████████████▌                                                                 | 468/2731 [00:08<00:40, 55.58it/s]"
     ]
    },
    {
     "name": "stdout",
     "output_type": "stream",
     "text": [
      "nb de mots enregistrés :  369 in row  460\n",
      "nb de mots enregistrés :  378 in row  462\n",
      "nb de mots enregistrés :  380 in row  464\n",
      "nb de mots enregistrés :  387 in row  466\n",
      "nb de mots enregistrés :  390 in row  468\n",
      "nb de mots enregistrés :  395 in row  470\n"
     ]
    },
    {
     "name": "stderr",
     "output_type": "stream",
     "text": [
      " 18%|█████████████▉                                                                 | 480/2731 [00:08<00:43, 51.25it/s]"
     ]
    },
    {
     "name": "stdout",
     "output_type": "stream",
     "text": [
      "nb de mots enregistrés :  409 in row  472\n",
      "nb de mots enregistrés :  411 in row  474\n",
      "nb de mots enregistrés :  457 in row  476\n",
      "nb de mots enregistrés :  475 in row  478\n",
      "nb de mots enregistrés :  511 in row  480\n"
     ]
    },
    {
     "name": "stderr",
     "output_type": "stream",
     "text": [
      " 18%|██████████████▎                                                                | 493/2731 [00:08<00:40, 54.72it/s]"
     ]
    },
    {
     "name": "stdout",
     "output_type": "stream",
     "text": [
      "nb de mots enregistrés :  522 in row  482\n",
      "nb de mots enregistrés :  559 in row  484\n",
      "nb de mots enregistrés :  611 in row  486\n",
      "nb de mots enregistrés :  644 in row  488\n",
      "nb de mots enregistrés :  657 in row  490\n",
      "nb de mots enregistrés :  684 in row  492\n",
      "nb de mots enregistrés :  693 in row  494\n",
      "nb de mots enregistrés :  705 in row  496\n"
     ]
    },
    {
     "name": "stderr",
     "output_type": "stream",
     "text": [
      " 18%|██████████████▌                                                                | 505/2731 [00:09<00:40, 54.48it/s]"
     ]
    },
    {
     "name": "stdout",
     "output_type": "stream",
     "text": [
      "nb de mots enregistrés :  710 in row  498\n",
      "nb de mots enregistrés :  717 in row  500\n",
      "nb de mots enregistrés :  721 in row  502\n",
      "nb de mots enregistrés :  730 in row  504\n",
      "nb de mots enregistrés :  735 in row  506\n",
      "nb de mots enregistrés :  736 in row  508\n"
     ]
    },
    {
     "name": "stderr",
     "output_type": "stream",
     "text": [
      " 19%|██████████████▉                                                                | 517/2731 [00:09<00:41, 52.80it/s]"
     ]
    },
    {
     "name": "stdout",
     "output_type": "stream",
     "text": [
      "nb de mots enregistrés :  739 in row  510\n",
      "nb de mots enregistrés :  764 in row  512\n",
      "nb de mots enregistrés :  787 in row  514\n",
      "nb de mots enregistrés :  800 in row  516\n",
      "nb de mots enregistrés :  814 in row  518\n"
     ]
    },
    {
     "name": "stderr",
     "output_type": "stream",
     "text": [
      " 19%|███████████████▎                                                               | 530/2731 [00:09<00:41, 53.53it/s]"
     ]
    },
    {
     "name": "stdout",
     "output_type": "stream",
     "text": [
      "nb de mots enregistrés :  821 in row  520\n",
      "nb de mots enregistrés :  828 in row  522\n",
      "nb de mots enregistrés :  834 in row  524\n",
      "nb de mots enregistrés :  842 in row  526\n",
      "nb de mots enregistrés :  845 in row  528\n",
      "nb de mots enregistrés :  852 in row  530\n",
      "nb de mots enregistrés :  864 in row  532\n",
      "nb de mots enregistrés :  883 in row  534\n"
     ]
    },
    {
     "name": "stderr",
     "output_type": "stream",
     "text": [
      " 20%|███████████████▊                                                               | 548/2731 [00:10<00:39, 55.56it/s]"
     ]
    },
    {
     "name": "stdout",
     "output_type": "stream",
     "text": [
      "nb de mots enregistrés :  892 in row  536\n",
      "nb de mots enregistrés :  896 in row  538\n",
      "nb de mots enregistrés :  903 in row  540\n",
      "nb de mots enregistrés :  913 in row  542\n",
      "nb de mots enregistrés :  915 in row  544\n",
      "nb de mots enregistrés :  916 in row  546\n",
      "nb de mots enregistrés :  917 in row  548\n",
      "nb de mots enregistrés :  920 in row  550\n",
      "nb de mots enregistrés :  928 in row  552\n"
     ]
    },
    {
     "name": "stderr",
     "output_type": "stream",
     "text": [
      " 21%|████████████████▏                                                              | 561/2731 [00:10<00:37, 57.66it/s]"
     ]
    },
    {
     "name": "stdout",
     "output_type": "stream",
     "text": [
      "nb de mots enregistrés :  937 in row  554\n",
      "nb de mots enregistrés :  938 in row  556\n",
      "nb de mots enregistrés :  939 in row  558\n",
      "nb de mots enregistrés :  940 in row  560\n",
      "nb de mots enregistrés :  958 in row  562\n",
      "nb de mots enregistrés :  961 in row  564\n",
      "nb de mots enregistrés :  965 in row  566\n"
     ]
    },
    {
     "name": "stderr",
     "output_type": "stream",
     "text": [
      " 21%|████████████████▌                                                              | 573/2731 [00:10<00:40, 53.50it/s]"
     ]
    },
    {
     "name": "stdout",
     "output_type": "stream",
     "text": [
      "nb de mots enregistrés :  966 in row  568\n",
      "nb de mots enregistrés :  968 in row  570\n",
      "nb de mots enregistrés :  974 in row  572\n",
      "nb de mots enregistrés :  976 in row  574\n",
      "nb de mots enregistrés :  979 in row  576\n"
     ]
    },
    {
     "name": "stderr",
     "output_type": "stream",
     "text": [
      " 21%|████████████████▉                                                              | 586/2731 [00:10<00:38, 55.64it/s]"
     ]
    },
    {
     "name": "stdout",
     "output_type": "stream",
     "text": [
      "nb de mots enregistrés :  984 in row  578\n",
      "nb de mots enregistrés :  989 in row  580\n",
      "nb de mots enregistrés :  994 in row  582\n",
      "nb de mots enregistrés :  1016 in row  584\n",
      "nb de mots enregistrés :  1021 in row  586\n",
      "nb de mots enregistrés :  1023 in row  588\n",
      "nb de mots enregistrés :  1031 in row  590\n"
     ]
    },
    {
     "name": "stderr",
     "output_type": "stream",
     "text": [
      " 22%|█████████████████▍                                                             | 604/2731 [00:11<00:40, 52.41it/s]"
     ]
    },
    {
     "name": "stdout",
     "output_type": "stream",
     "text": [
      "nb de mots enregistrés :  1044 in row  592\n",
      "nb de mots enregistrés :  1050 in row  594\n",
      "nb de mots enregistrés :  1059 in row  596\n",
      "nb de mots enregistrés :  1071 in row  598\n",
      "nb de mots enregistrés :  1081 in row  600\n",
      "nb de mots enregistrés :  1095 in row  602\n",
      "nb de mots enregistrés :  1104 in row  604\n"
     ]
    },
    {
     "name": "stderr",
     "output_type": "stream",
     "text": [
      " 23%|█████████████████▊                                                             | 616/2731 [00:11<00:41, 51.28it/s]"
     ]
    },
    {
     "name": "stdout",
     "output_type": "stream",
     "text": [
      "nb de mots enregistrés :  1130 in row  606\n",
      "nb de mots enregistrés :  1150 in row  608\n",
      "nb de mots enregistrés :  1158 in row  610\n",
      "nb de mots enregistrés :  1171 in row  612\n",
      "nb de mots enregistrés :  1178 in row  614\n"
     ]
    },
    {
     "name": "stderr",
     "output_type": "stream",
     "text": [
      " 23%|██████████████████▏                                                            | 630/2731 [00:11<00:37, 55.51it/s]"
     ]
    },
    {
     "name": "stdout",
     "output_type": "stream",
     "text": [
      "nb de mots enregistrés :  1191 in row  616\n",
      "nb de mots enregistrés :  1193 in row  618\n",
      "nb de mots enregistrés :  1201 in row  620\n",
      "nb de mots enregistrés :  1222 in row  622\n",
      "nb de mots enregistrés :  1231 in row  624\n",
      "nb de mots enregistrés :  1233 in row  626\n",
      "nb de mots enregistrés :  1239 in row  628\n"
     ]
    },
    {
     "name": "stderr",
     "output_type": "stream",
     "text": [
      " 24%|██████████████████▌                                                            | 642/2731 [00:11<00:38, 53.84it/s]"
     ]
    },
    {
     "name": "stdout",
     "output_type": "stream",
     "text": [
      "nb de mots enregistrés :  1248 in row  630\n",
      "nb de mots enregistrés :  1256 in row  632\n",
      "nb de mots enregistrés :  1266 in row  634\n",
      "nb de mots enregistrés :  1275 in row  636\n",
      "nb de mots enregistrés :  1288 in row  638\n",
      "nb de mots enregistrés :  1288 in row  639\n",
      "step  SCENE   VI.  detecté in row  640\n",
      "nb de mots enregistrés :  0 in row  641\n",
      "nb de mots enregistrés :  0 in row  642\n",
      "nb de mots enregistrés :  5 in row  644\n"
     ]
    },
    {
     "name": "stderr",
     "output_type": "stream",
     "text": [
      " 24%|███████████████████▏                                                           | 662/2731 [00:12<00:36, 57.15it/s]"
     ]
    },
    {
     "name": "stdout",
     "output_type": "stream",
     "text": [
      "nb de mots enregistrés :  10 in row  646\n",
      "nb de mots enregistrés :  16 in row  648\n",
      "nb de mots enregistrés :  27 in row  650\n",
      "nb de mots enregistrés :  28 in row  652\n",
      "nb de mots enregistrés :  30 in row  654\n",
      "nb de mots enregistrés :  37 in row  656\n",
      "nb de mots enregistrés :  47 in row  658\n",
      "nb de mots enregistrés :  57 in row  660\n"
     ]
    },
    {
     "name": "stderr",
     "output_type": "stream",
     "text": [
      " 25%|███████████████████▌                                                           | 675/2731 [00:12<00:36, 56.01it/s]"
     ]
    },
    {
     "name": "stdout",
     "output_type": "stream",
     "text": [
      "nb de mots enregistrés :  62 in row  662\n",
      "nb de mots enregistrés :  67 in row  664\n",
      "nb de mots enregistrés :  70 in row  666\n",
      "nb de mots enregistrés :  82 in row  668\n",
      "nb de mots enregistrés :  86 in row  670\n",
      "nb de mots enregistrés :  99 in row  672\n",
      "nb de mots enregistrés :  102 in row  674\n",
      "nb de mots enregistrés :  110 in row  676\n"
     ]
    },
    {
     "name": "stderr",
     "output_type": "stream",
     "text": [
      " 25%|███████████████████▊                                                           | 687/2731 [00:12<00:39, 51.89it/s]"
     ]
    },
    {
     "name": "stdout",
     "output_type": "stream",
     "text": [
      "nb de mots enregistrés :  116 in row  678\n",
      "nb de mots enregistrés :  122 in row  680\n",
      "nb de mots enregistrés :  126 in row  682\n",
      "nb de mots enregistrés :  137 in row  684\n",
      "nb de mots enregistrés :  142 in row  686\n",
      "nb de mots enregistrés :  158 in row  688\n"
     ]
    },
    {
     "name": "stderr",
     "output_type": "stream",
     "text": [
      " 26%|████████████████████▏                                                          | 699/2731 [00:12<00:40, 50.80it/s]"
     ]
    },
    {
     "name": "stdout",
     "output_type": "stream",
     "text": [
      "nb de mots enregistrés :  196 in row  690\n",
      "nb de mots enregistrés :  197 in row  692\n",
      "nb de mots enregistrés :  208 in row  694\n",
      "nb de mots enregistrés :  233 in row  696\n",
      "nb de mots enregistrés :  237 in row  698\n",
      "nb de mots enregistrés :  253 in row  700\n",
      "nb de mots enregistrés :  267 in row  702\n"
     ]
    },
    {
     "name": "stderr",
     "output_type": "stream",
     "text": [
      " 26%|████████████████████▊                                                          | 718/2731 [00:13<00:36, 55.78it/s]"
     ]
    },
    {
     "name": "stdout",
     "output_type": "stream",
     "text": [
      "nb de mots enregistrés :  273 in row  704\n",
      "nb de mots enregistrés :  322 in row  706\n",
      "nb de mots enregistrés :  339 in row  708\n",
      "nb de mots enregistrés :  368 in row  710\n",
      "nb de mots enregistrés :  406 in row  712\n",
      "nb de mots enregistrés :  411 in row  714\n",
      "nb de mots enregistrés :  421 in row  716\n"
     ]
    },
    {
     "name": "stderr",
     "output_type": "stream",
     "text": [
      " 27%|█████████████████████▏                                                         | 731/2731 [00:13<00:35, 56.04it/s]"
     ]
    },
    {
     "name": "stdout",
     "output_type": "stream",
     "text": [
      "nb de mots enregistrés :  429 in row  718\n",
      "nb de mots enregistrés :  439 in row  720\n",
      "nb de mots enregistrés :  458 in row  722\n",
      "nb de mots enregistrés :  466 in row  724\n",
      "nb de mots enregistrés :  472 in row  726\n",
      "nb de mots enregistrés :  475 in row  728\n",
      "nb de mots enregistrés :  496 in row  730\n",
      "nb de mots enregistrés :  514 in row  732\n",
      "nb de mots enregistrés :  525 in row  734\n"
     ]
    },
    {
     "name": "stderr",
     "output_type": "stream",
     "text": [
      " 27%|█████████████████████▍                                                         | 743/2731 [00:13<00:36, 54.30it/s]"
     ]
    },
    {
     "name": "stdout",
     "output_type": "stream",
     "text": [
      "nb de mots enregistrés :  533 in row  736\n",
      "nb de mots enregistrés :  537 in row  738\n",
      "nb de mots enregistrés :  557 in row  740\n",
      "nb de mots enregistrés :  557 in row  741\n",
      "step  SCENE   VII.  detecté in row  742\n",
      "nb de mots enregistrés :  0 in row  743\n",
      "nb de mots enregistrés :  0 in row  744\n",
      "nb de mots enregistrés :  29 in row  746\n",
      "nb de mots enregistrés :  41 in row  748\n",
      "nb de mots enregistrés :  43 in row  749\n"
     ]
    },
    {
     "name": "stderr",
     "output_type": "stream",
     "text": [
      " 28%|██████████████████████                                                         | 762/2731 [00:13<00:36, 54.05it/s]"
     ]
    },
    {
     "name": "stdout",
     "output_type": "stream",
     "text": [
      "nb de mots enregistrés :  57 in row  750\n",
      "nb de mots enregistrés :  60 in row  752\n",
      "nb de mots enregistrés :  62 in row  753\n",
      "nb de mots enregistrés :  78 in row  754\n",
      "nb de mots enregistrés :  117 in row  756\n",
      "nb de mots enregistrés :  119 in row  757\n",
      "nb de mots enregistrés :  175 in row  758\n",
      "nb de mots enregistrés :  207 in row  760\n",
      "nb de mots enregistrés :  209 in row  761\n",
      "nb de mots enregistrés :  238 in row  762\n"
     ]
    },
    {
     "name": "stderr",
     "output_type": "stream",
     "text": [
      " 28%|██████████████████████▍                                                        | 774/2731 [00:14<00:38, 50.48it/s]"
     ]
    },
    {
     "name": "stdout",
     "output_type": "stream",
     "text": [
      "nb de mots enregistrés :  263 in row  764\n",
      "nb de mots enregistrés :  264 in row  766\n",
      "nb de mots enregistrés :  275 in row  768\n",
      "nb de mots enregistrés :  279 in row  770\n",
      "nb de mots enregistrés :  287 in row  772\n",
      "nb de mots enregistrés :  289 in row  774\n",
      "nb de mots enregistrés :  304 in row  776\n",
      "nb de mots enregistrés :  315 in row  778\n"
     ]
    },
    {
     "name": "stderr",
     "output_type": "stream",
     "text": [
      " 29%|██████████████████████▋                                                        | 786/2731 [00:14<00:38, 50.56it/s]"
     ]
    },
    {
     "name": "stdout",
     "output_type": "stream",
     "text": [
      "nb de mots enregistrés :  317 in row  779\n",
      "nb de mots enregistrés :  331 in row  780\n",
      "nb de mots enregistrés :  346 in row  782\n",
      "nb de mots enregistrés :  372 in row  784\n",
      "nb de mots enregistrés :  374 in row  785\n",
      "nb de mots enregistrés :  378 in row  786\n",
      "nb de mots enregistrés :  390 in row  788\n"
     ]
    },
    {
     "name": "stderr",
     "output_type": "stream",
     "text": [
      " 29%|███████████████████████                                                        | 798/2731 [00:14<00:38, 49.67it/s]"
     ]
    },
    {
     "name": "stdout",
     "output_type": "stream",
     "text": [
      "nb de mots enregistrés :  410 in row  790\n",
      "nb de mots enregistrés :  414 in row  792\n",
      "nb de mots enregistrés :  432 in row  794\n",
      "nb de mots enregistrés :  444 in row  796\n",
      "nb de mots enregistrés :  459 in row  798\n",
      "nb de mots enregistrés :  461 in row  799\n",
      "nb de mots enregistrés :  468 in row  800\n",
      "nb de mots enregistrés :  470 in row  802\n",
      "nb de mots enregistrés :  475 in row  804\n"
     ]
    },
    {
     "name": "stderr",
     "output_type": "stream",
     "text": [
      " 30%|███████████████████████▌                                                       | 814/2731 [00:14<00:32, 59.29it/s]"
     ]
    },
    {
     "name": "stdout",
     "output_type": "stream",
     "text": [
      "nb de mots enregistrés :  475 in row  805\n",
      "step  SCENE   VIII.  detecté in row  806\n",
      "nb de mots enregistrés :  0 in row  807\n",
      "nb de mots enregistrés :  0 in row  808\n",
      "nb de mots enregistrés :  30 in row  810\n",
      "nb de mots enregistrés :  68 in row  812\n",
      "nb de mots enregistrés :  113 in row  814\n",
      "nb de mots enregistrés :  128 in row  816\n"
     ]
    },
    {
     "name": "stderr",
     "output_type": "stream",
     "text": [
      " 31%|████████████████████████                                                       | 833/2731 [00:15<00:31, 59.45it/s]"
     ]
    },
    {
     "name": "stdout",
     "output_type": "stream",
     "text": [
      "nb de mots enregistrés :  166 in row  818\n",
      "nb de mots enregistrés :  167 in row  820\n",
      "nb de mots enregistrés :  181 in row  822\n",
      "nb de mots enregistrés :  181 in row  823\n",
      "step  PREMIER   INTERMEDE  detecté in row  824\n",
      "nb de mots enregistrés :  0 in row  825\n",
      "nb de mots enregistrés :  0 in row  826\n",
      "nb de mots enregistrés :  0 in row  827\n",
      "nb de mots enregistrés :  0 in row  828\n",
      "nb de mots enregistrés :  1 in row  829\n",
      "nb de mots enregistrés :  1 in row  830\n",
      "nb de mots enregistrés :  38 in row  831\n",
      "nb de mots enregistrés :  38 in row  832\n"
     ]
    },
    {
     "name": "stderr",
     "output_type": "stream",
     "text": [
      " 31%|████████████████████████▋                                                      | 854/2731 [00:15<00:32, 58.62it/s]"
     ]
    },
    {
     "name": "stdout",
     "output_type": "stream",
     "text": [
      "nb de mots enregistrés :  39 in row  833\n",
      "nb de mots enregistrés :  98 in row  834\n",
      "nb de mots enregistrés :  98 in row  835\n",
      "nb de mots enregistrés :  104 in row  836\n",
      "nb de mots enregistrés :  110 in row  837\n",
      "nb de mots enregistrés :  116 in row  838\n",
      "nb de mots enregistrés :  120 in row  839\n",
      "nb de mots enregistrés :  120 in row  840\n",
      "nb de mots enregistrés :  120 in row  841\n",
      "nb de mots enregistrés :  123 in row  842\n",
      "nb de mots enregistrés :  126 in row  843\n",
      "nb de mots enregistrés :  128 in row  844\n",
      "nb de mots enregistrés :  131 in row  845\n",
      "nb de mots enregistrés :  134 in row  846\n",
      "nb de mots enregistrés :  137 in row  847\n",
      "nb de mots enregistrés :  139 in row  848\n",
      "nb de mots enregistrés :  142 in row  849\n",
      "nb de mots enregistrés :  149 in row  850\n",
      "nb de mots enregistrés :  155 in row  851\n",
      "nb de mots enregistrés :  161 in row  852\n",
      "nb de mots enregistrés :  167 in row  853\n"
     ]
    },
    {
     "name": "stderr",
     "output_type": "stream",
     "text": [
      " 32%|█████████████████████████▏                                                     | 872/2731 [00:15<00:32, 57.90it/s]"
     ]
    },
    {
     "name": "stdout",
     "output_type": "stream",
     "text": [
      "nb de mots enregistrés :  171 in row  854\n",
      "nb de mots enregistrés :  171 in row  855\n",
      "nb de mots enregistrés :  171 in row  856\n",
      "nb de mots enregistrés :  174 in row  857\n",
      "nb de mots enregistrés :  176 in row  858\n",
      "nb de mots enregistrés :  178 in row  859\n",
      "nb de mots enregistrés :  182 in row  860\n",
      "nb de mots enregistrés :  185 in row  861\n",
      "nb de mots enregistrés :  188 in row  862\n",
      "nb de mots enregistrés :  190 in row  863\n",
      "nb de mots enregistrés :  194 in row  864\n",
      "nb de mots enregistrés :  200 in row  865\n",
      "nb de mots enregistrés :  206 in row  866\n",
      "nb de mots enregistrés :  212 in row  867\n",
      "nb de mots enregistrés :  218 in row  868\n",
      "nb de mots enregistrés :  222 in row  869\n",
      "nb de mots enregistrés :  222 in row  870\n",
      "nb de mots enregistrés :  222 in row  871\n"
     ]
    },
    {
     "name": "stderr",
     "output_type": "stream",
     "text": [
      " 33%|█████████████████████████▊                                                     | 891/2731 [00:16<00:31, 59.34it/s]"
     ]
    },
    {
     "name": "stdout",
     "output_type": "stream",
     "text": [
      "nb de mots enregistrés :  222 in row  872\n",
      "nb de mots enregistrés :  239 in row  873\n",
      "nb de mots enregistrés :  239 in row  874\n",
      "nb de mots enregistrés :  239 in row  875\n",
      "nb de mots enregistrés :  246 in row  876\n",
      "nb de mots enregistrés :  248 in row  877\n",
      "nb de mots enregistrés :  250 in row  878\n",
      "nb de mots enregistrés :  252 in row  879\n",
      "nb de mots enregistrés :  256 in row  880\n",
      "nb de mots enregistrés :  260 in row  881\n",
      "nb de mots enregistrés :  265 in row  882\n",
      "nb de mots enregistrés :  270 in row  883\n",
      "nb de mots enregistrés :  273 in row  884\n",
      "nb de mots enregistrés :  281 in row  885\n",
      "nb de mots enregistrés :  281 in row  886\n",
      "nb de mots enregistrés :  281 in row  887\n",
      "nb de mots enregistrés :  284 in row  888\n",
      "nb de mots enregistrés :  286 in row  889\n",
      "nb de mots enregistrés :  289 in row  890\n"
     ]
    },
    {
     "name": "stderr",
     "output_type": "stream",
     "text": [
      " 33%|██████████████████████████▎                                                    | 910/2731 [00:16<00:30, 58.80it/s]"
     ]
    },
    {
     "name": "stdout",
     "output_type": "stream",
     "text": [
      "nb de mots enregistrés :  292 in row  891\n",
      "nb de mots enregistrés :  296 in row  892\n",
      "nb de mots enregistrés :  298 in row  893\n",
      "nb de mots enregistrés :  301 in row  894\n",
      "nb de mots enregistrés :  305 in row  895\n",
      "nb de mots enregistrés :  308 in row  896\n",
      "nb de mots enregistrés :  311 in row  897\n",
      "nb de mots enregistrés :  316 in row  898\n",
      "nb de mots enregistrés :  321 in row  899\n",
      "nb de mots enregistrés :  324 in row  900\n",
      "nb de mots enregistrés :  332 in row  901\n",
      "nb de mots enregistrés :  332 in row  902\n",
      "nb de mots enregistrés :  332 in row  903\n",
      "nb de mots enregistrés :  333 in row  904\n",
      "nb de mots enregistrés :  334 in row  905\n",
      "nb de mots enregistrés :  571 in row  906\n",
      "nb de mots enregistrés :  584 in row  907\n",
      "nb de mots enregistrés :  591 in row  908\n",
      "nb de mots enregistrés :  594 in row  909\n"
     ]
    },
    {
     "name": "stderr",
     "output_type": "stream",
     "text": [
      " 34%|██████████████████████████▋                                                    | 922/2731 [00:16<00:31, 56.92it/s]"
     ]
    },
    {
     "name": "stdout",
     "output_type": "stream",
     "text": [
      "nb de mots enregistrés :  609 in row  910\n",
      "nb de mots enregistrés :  610 in row  911\n",
      "nb de mots enregistrés :  620 in row  912\n",
      "nb de mots enregistrés :  622 in row  913\n",
      "nb de mots enregistrés :  625 in row  914\n",
      "nb de mots enregistrés :  626 in row  915\n",
      "nb de mots enregistrés :  635 in row  916\n",
      "nb de mots enregistrés :  636 in row  917\n",
      "nb de mots enregistrés :  640 in row  918\n",
      "nb de mots enregistrés :  641 in row  919\n",
      "nb de mots enregistrés :  648 in row  920\n",
      "nb de mots enregistrés :  649 in row  921\n"
     ]
    },
    {
     "name": "stderr",
     "output_type": "stream",
     "text": [
      " 34%|███████████████████████████                                                    | 935/2731 [00:17<00:32, 55.22it/s]"
     ]
    },
    {
     "name": "stdout",
     "output_type": "stream",
     "text": [
      "nb de mots enregistrés :  655 in row  922\n",
      "nb de mots enregistrés :  656 in row  923\n",
      "nb de mots enregistrés :  665 in row  924\n",
      "nb de mots enregistrés :  670 in row  925\n",
      "nb de mots enregistrés :  677 in row  926\n",
      "nb de mots enregistrés :  678 in row  927\n",
      "nb de mots enregistrés :  687 in row  928\n",
      "nb de mots enregistrés :  687 in row  929\n",
      "nb de mots enregistrés :  690 in row  930\n",
      "nb de mots enregistrés :  690 in row  931\n",
      "nb de mots enregistrés :  703 in row  932\n",
      "nb de mots enregistrés :  703 in row  933\n",
      "nb de mots enregistrés :  704 in row  934\n",
      "nb de mots enregistrés :  777 in row  935\n",
      "nb de mots enregistrés :  778 in row  936\n",
      "nb de mots enregistrés :  790 in row  937\n",
      "nb de mots enregistrés :  790 in row  938\n",
      "nb de mots enregistrés :  791 in row  939\n",
      "nb de mots enregistrés :  791 in row  940\n",
      "nb de mots enregistrés :  798 in row  941\n"
     ]
    },
    {
     "name": "stderr",
     "output_type": "stream",
     "text": [
      " 35%|███████████████████████████▋                                                   | 955/2731 [00:17<00:31, 57.16it/s]"
     ]
    },
    {
     "name": "stdout",
     "output_type": "stream",
     "text": [
      "nb de mots enregistrés :  798 in row  942\n",
      "nb de mots enregistrés :  799 in row  943\n",
      "nb de mots enregistrés :  816 in row  944\n",
      "nb de mots enregistrés :  822 in row  945\n",
      "nb de mots enregistrés :  823 in row  946\n",
      "nb de mots enregistrés :  828 in row  947\n",
      "nb de mots enregistrés :  829 in row  948\n",
      "nb de mots enregistrés :  846 in row  949\n",
      "nb de mots enregistrés :  846 in row  950\n",
      "nb de mots enregistrés :  847 in row  951\n",
      "nb de mots enregistrés :  853 in row  952\n",
      "nb de mots enregistrés :  854 in row  953\n",
      "nb de mots enregistrés :  856 in row  954\n"
     ]
    },
    {
     "name": "stderr",
     "output_type": "stream",
     "text": [
      " 35%|███████████████████████████▉                                                   | 967/2731 [00:17<00:30, 57.89it/s]"
     ]
    },
    {
     "name": "stdout",
     "output_type": "stream",
     "text": [
      "nb de mots enregistrés :  857 in row  955\n",
      "nb de mots enregistrés :  864 in row  956\n",
      "nb de mots enregistrés :  865 in row  957\n",
      "nb de mots enregistrés :  867 in row  958\n",
      "nb de mots enregistrés :  868 in row  959\n",
      "nb de mots enregistrés :  871 in row  960\n",
      "nb de mots enregistrés :  872 in row  961\n",
      "nb de mots enregistrés :  877 in row  962\n",
      "nb de mots enregistrés :  878 in row  963\n",
      "nb de mots enregistrés :  881 in row  964\n",
      "nb de mots enregistrés :  882 in row  965\n",
      "nb de mots enregistrés :  883 in row  966\n",
      "nb de mots enregistrés :  884 in row  967\n",
      "nb de mots enregistrés :  887 in row  968\n",
      "nb de mots enregistrés :  888 in row  969\n",
      "nb de mots enregistrés :  889 in row  970\n",
      "nb de mots enregistrés :  890 in row  971\n"
     ]
    },
    {
     "name": "stderr",
     "output_type": "stream",
     "text": [
      " 36%|████████████████████████████▎                                                  | 979/2731 [00:17<00:33, 51.88it/s]"
     ]
    },
    {
     "name": "stdout",
     "output_type": "stream",
     "text": [
      "nb de mots enregistrés :  892 in row  972\n",
      "nb de mots enregistrés :  893 in row  973\n",
      "nb de mots enregistrés :  894 in row  974\n",
      "nb de mots enregistrés :  895 in row  975\n",
      "nb de mots enregistrés :  897 in row  976\n",
      "nb de mots enregistrés :  898 in row  977\n",
      "nb de mots enregistrés :  900 in row  978\n",
      "nb de mots enregistrés :  901 in row  979\n",
      "nb de mots enregistrés :  902 in row  980\n",
      "nb de mots enregistrés :  903 in row  981\n"
     ]
    },
    {
     "name": "stderr",
     "output_type": "stream",
     "text": [
      " 37%|████████████████████████████▉                                                  | 999/2731 [00:18<00:31, 54.72it/s]"
     ]
    },
    {
     "name": "stdout",
     "output_type": "stream",
     "text": [
      "nb de mots enregistrés :  906 in row  982\n",
      "nb de mots enregistrés :  907 in row  983\n",
      "nb de mots enregistrés :  910 in row  984\n",
      "nb de mots enregistrés :  911 in row  985\n",
      "nb de mots enregistrés :  913 in row  986\n",
      "nb de mots enregistrés :  914 in row  987\n",
      "nb de mots enregistrés :  916 in row  988\n",
      "nb de mots enregistrés :  917 in row  989\n",
      "nb de mots enregistrés :  919 in row  990\n",
      "nb de mots enregistrés :  920 in row  991\n",
      "nb de mots enregistrés :  925 in row  992\n",
      "nb de mots enregistrés :  926 in row  993\n",
      "nb de mots enregistrés :  928 in row  994\n",
      "nb de mots enregistrés :  929 in row  995\n",
      "nb de mots enregistrés :  931 in row  996\n",
      "nb de mots enregistrés :  932 in row  997\n",
      "nb de mots enregistrés :  948 in row  998\n"
     ]
    },
    {
     "name": "stderr",
     "output_type": "stream",
     "text": [
      " 37%|████████████████████████████▉                                                 | 1011/2731 [00:18<00:30, 55.97it/s]"
     ]
    },
    {
     "name": "stdout",
     "output_type": "stream",
     "text": [
      "nb de mots enregistrés :  949 in row  999\n",
      "nb de mots enregistrés :  961 in row  1000\n",
      "nb de mots enregistrés :  962 in row  1001\n",
      "nb de mots enregistrés :  977 in row  1002\n",
      "nb de mots enregistrés :  983 in row  1003\n",
      "nb de mots enregistrés :  984 in row  1004\n",
      "nb de mots enregistrés :  997 in row  1005\n",
      "nb de mots enregistrés :  998 in row  1006\n",
      "nb de mots enregistrés :  1040 in row  1007\n",
      "nb de mots enregistrés :  1045 in row  1008\n",
      "nb de mots enregistrés :  1046 in row  1009\n",
      "nb de mots enregistrés :  1061 in row  1010\n",
      "nb de mots enregistrés :  1062 in row  1011\n",
      "nb de mots enregistrés :  1069 in row  1012\n",
      "nb de mots enregistrés :  1069 in row  1013\n",
      "nb de mots enregistrés :  1070 in row  1014\n",
      "nb de mots enregistrés :  1070 in row  1015\n",
      "nb de mots enregistrés :  1078 in row  1016\n",
      "nb de mots enregistrés :  1078 in row  1017\n"
     ]
    },
    {
     "name": "stderr",
     "output_type": "stream",
     "text": [
      " 38%|█████████████████████████████▎                                                | 1025/2731 [00:18<00:30, 56.34it/s]"
     ]
    },
    {
     "name": "stdout",
     "output_type": "stream",
     "text": [
      "nb de mots enregistrés :  1079 in row  1018\n",
      "nb de mots enregistrés :  1103 in row  1019\n",
      "nb de mots enregistrés :  1104 in row  1020\n",
      "nb de mots enregistrés :  1110 in row  1021\n",
      "nb de mots enregistrés :  1110 in row  1022\n",
      "nb de mots enregistrés :  1111 in row  1023\n",
      "nb de mots enregistrés :  1140 in row  1024\n",
      "nb de mots enregistrés :  1141 in row  1025\n",
      "nb de mots enregistrés :  1153 in row  1026\n",
      "nb de mots enregistrés :  1153 in row  1027\n"
     ]
    },
    {
     "name": "stderr",
     "output_type": "stream",
     "text": [
      " 38%|█████████████████████████████▊                                                | 1043/2731 [00:19<00:32, 52.64it/s]"
     ]
    },
    {
     "name": "stdout",
     "output_type": "stream",
     "text": [
      "nb de mots enregistrés :  1154 in row  1028\n",
      "nb de mots enregistrés :  1154 in row  1029\n",
      "nb de mots enregistrés :  1165 in row  1030\n",
      "nb de mots enregistrés :  1165 in row  1031\n",
      "nb de mots enregistrés :  1166 in row  1032\n",
      "nb de mots enregistrés :  1189 in row  1033\n",
      "nb de mots enregistrés :  1190 in row  1034\n",
      "nb de mots enregistrés :  1205 in row  1035\n",
      "nb de mots enregistrés :  1206 in row  1036\n",
      "nb de mots enregistrés :  1212 in row  1037\n",
      "nb de mots enregistrés :  1213 in row  1038\n",
      "nb de mots enregistrés :  1218 in row  1039\n",
      "nb de mots enregistrés :  1218 in row  1040\n",
      "nb de mots enregistrés :  1219 in row  1041\n",
      "nb de mots enregistrés :  1221 in row  1042\n"
     ]
    },
    {
     "name": "stderr",
     "output_type": "stream",
     "text": [
      " 39%|██████████████████████████████▏                                               | 1055/2731 [00:19<00:30, 54.46it/s]"
     ]
    },
    {
     "name": "stdout",
     "output_type": "stream",
     "text": [
      "nb de mots enregistrés :  1222 in row  1043\n",
      "nb de mots enregistrés :  1227 in row  1044\n",
      "nb de mots enregistrés :  1228 in row  1045\n",
      "nb de mots enregistrés :  1231 in row  1046\n",
      "nb de mots enregistrés :  1232 in row  1047\n",
      "nb de mots enregistrés :  1237 in row  1048\n",
      "nb de mots enregistrés :  1238 in row  1049\n",
      "nb de mots enregistrés :  1240 in row  1050\n",
      "nb de mots enregistrés :  1240 in row  1051\n",
      "nb de mots enregistrés :  1241 in row  1052\n",
      "nb de mots enregistrés :  1241 in row  1053\n",
      "nb de mots enregistrés :  1259 in row  1054\n",
      "nb de mots enregistrés :  1259 in row  1055\n",
      "nb de mots enregistrés :  1259 in row  1056\n",
      "step  ACTE   II  detecté in row  1057\n",
      "nb de mots enregistrés :  0 in row  1058\n",
      "nb de mots enregistrés :  0 in row  1059\n",
      "nb de mots enregistrés :  0 in row  1060\n"
     ]
    },
    {
     "name": "stderr",
     "output_type": "stream",
     "text": [
      " 39%|██████████████████████████████▋                                               | 1074/2731 [00:19<00:30, 54.49it/s]"
     ]
    },
    {
     "name": "stdout",
     "output_type": "stream",
     "text": [
      "nb de mots enregistrés :  0 in row  1061\n",
      "step  SCENE   I.  detecté in row  1062\n",
      "nb de mots enregistrés :  0 in row  1063\n",
      "nb de mots enregistrés :  0 in row  1064\n",
      "nb de mots enregistrés :  4 in row  1066\n",
      "nb de mots enregistrés :  9 in row  1068\n",
      "nb de mots enregistrés :  38 in row  1070\n",
      "nb de mots enregistrés :  41 in row  1072\n",
      "nb de mots enregistrés :  55 in row  1074\n",
      "nb de mots enregistrés :  88 in row  1076\n"
     ]
    },
    {
     "name": "stderr",
     "output_type": "stream",
     "text": [
      " 40%|███████████████████████████████                                               | 1088/2731 [00:19<00:26, 61.23it/s]"
     ]
    },
    {
     "name": "stdout",
     "output_type": "stream",
     "text": [
      "nb de mots enregistrés :  103 in row  1078\n",
      "nb de mots enregistrés :  103 in row  1079\n",
      "step  SCENE   II.  detecté in row  1080\n",
      "nb de mots enregistrés :  0 in row  1081\n",
      "nb de mots enregistrés :  0 in row  1082\n",
      "nb de mots enregistrés :  17 in row  1084\n",
      "nb de mots enregistrés :  20 in row  1086\n",
      "nb de mots enregistrés :  44 in row  1088\n",
      "nb de mots enregistrés :  49 in row  1090\n",
      "nb de mots enregistrés :  53 in row  1092\n"
     ]
    },
    {
     "name": "stderr",
     "output_type": "stream",
     "text": [
      " 40%|███████████████████████████████▍                                              | 1101/2731 [00:20<00:28, 56.85it/s]"
     ]
    },
    {
     "name": "stdout",
     "output_type": "stream",
     "text": [
      "nb de mots enregistrés :  54 in row  1094\n",
      "nb de mots enregistrés :  56 in row  1096\n",
      "nb de mots enregistrés :  60 in row  1098\n",
      "nb de mots enregistrés :  65 in row  1100\n",
      "nb de mots enregistrés :  76 in row  1102\n",
      "nb de mots enregistrés :  84 in row  1104\n",
      "nb de mots enregistrés :  85 in row  1106\n"
     ]
    },
    {
     "name": "stderr",
     "output_type": "stream",
     "text": [
      " 41%|████████████████████████████████                                              | 1122/2731 [00:20<00:26, 59.96it/s]"
     ]
    },
    {
     "name": "stdout",
     "output_type": "stream",
     "text": [
      "nb de mots enregistrés :  97 in row  1108\n",
      "nb de mots enregistrés :  113 in row  1110\n",
      "nb de mots enregistrés :  127 in row  1112\n",
      "nb de mots enregistrés :  140 in row  1114\n",
      "nb de mots enregistrés :  171 in row  1116\n",
      "nb de mots enregistrés :  174 in row  1118\n",
      "nb de mots enregistrés :  184 in row  1120\n",
      "nb de mots enregistrés :  187 in row  1122\n",
      "nb de mots enregistrés :  216 in row  1124\n",
      "nb de mots enregistrés :  220 in row  1126\n",
      "nb de mots enregistrés :  232 in row  1128\n"
     ]
    },
    {
     "name": "stderr",
     "output_type": "stream",
     "text": [
      " 42%|████████████████████████████████▋                                             | 1143/2731 [00:20<00:25, 62.27it/s]"
     ]
    },
    {
     "name": "stdout",
     "output_type": "stream",
     "text": [
      "nb de mots enregistrés :  235 in row  1130\n",
      "nb de mots enregistrés :  249 in row  1132\n",
      "nb de mots enregistrés :  253 in row  1134\n",
      "nb de mots enregistrés :  278 in row  1136\n",
      "nb de mots enregistrés :  301 in row  1138\n",
      "nb de mots enregistrés :  301 in row  1139\n",
      "step  SCENE   III.  detecté in row  1140\n",
      "nb de mots enregistrés :  0 in row  1141\n",
      "nb de mots enregistrés :  0 in row  1142\n",
      "nb de mots enregistrés :  24 in row  1144\n",
      "nb de mots enregistrés :  27 in row  1146\n"
     ]
    },
    {
     "name": "stderr",
     "output_type": "stream",
     "text": [
      " 43%|█████████████████████████████████▎                                            | 1165/2731 [00:21<00:25, 61.58it/s]"
     ]
    },
    {
     "name": "stdout",
     "output_type": "stream",
     "text": [
      "nb de mots enregistrés :  34 in row  1148\n",
      "nb de mots enregistrés :  35 in row  1150\n",
      "nb de mots enregistrés :  44 in row  1152\n",
      "nb de mots enregistrés :  54 in row  1154\n",
      "nb de mots enregistrés :  56 in row  1156\n",
      "nb de mots enregistrés :  95 in row  1158\n",
      "nb de mots enregistrés :  110 in row  1160\n",
      "nb de mots enregistrés :  110 in row  1161\n",
      "step  SCENE   IV.  detecté in row  1162\n",
      "nb de mots enregistrés :  0 in row  1163\n",
      "nb de mots enregistrés :  0 in row  1164\n"
     ]
    },
    {
     "name": "stderr",
     "output_type": "stream",
     "text": [
      " 43%|█████████████████████████████████▋                                            | 1179/2731 [00:21<00:25, 60.80it/s]"
     ]
    },
    {
     "name": "stdout",
     "output_type": "stream",
     "text": [
      "nb de mots enregistrés :  71 in row  1166\n",
      "nb de mots enregistrés :  96 in row  1168\n",
      "nb de mots enregistrés :  110 in row  1170\n",
      "nb de mots enregistrés :  124 in row  1172\n",
      "nb de mots enregistrés :  126 in row  1174\n",
      "nb de mots enregistrés :  141 in row  1176\n",
      "nb de mots enregistrés :  145 in row  1178\n",
      "nb de mots enregistrés :  150 in row  1180\n",
      "nb de mots enregistrés :  155 in row  1182\n",
      "nb de mots enregistrés :  161 in row  1184\n",
      "nb de mots enregistrés :  161 in row  1185\n"
     ]
    },
    {
     "name": "stderr",
     "output_type": "stream",
     "text": [
      " 44%|██████████████████████████████████▎                                           | 1200/2731 [00:21<00:24, 61.36it/s]"
     ]
    },
    {
     "name": "stdout",
     "output_type": "stream",
     "text": [
      "step  SCENE   V.  detecté in row  1186\n",
      "nb de mots enregistrés :  0 in row  1187\n",
      "nb de mots enregistrés :  0 in row  1188\n",
      "nb de mots enregistrés :  17 in row  1190\n",
      "nb de mots enregistrés :  35 in row  1192\n",
      "nb de mots enregistrés :  48 in row  1194\n",
      "nb de mots enregistrés :  52 in row  1196\n",
      "nb de mots enregistrés :  56 in row  1198\n",
      "nb de mots enregistrés :  61 in row  1200\n"
     ]
    },
    {
     "name": "stderr",
     "output_type": "stream",
     "text": [
      "\r",
      " 44%|██████████████████████████████████▍                                           | 1207/2731 [00:21<00:26, 57.22it/s]"
     ]
    },
    {
     "name": "stdout",
     "output_type": "stream",
     "text": [
      "nb de mots enregistrés :  66 in row  1202\n",
      "nb de mots enregistrés :  69 in row  1204\n",
      "nb de mots enregistrés :  72 in row  1206\n",
      "nb de mots enregistrés :  77 in row  1208\n",
      "nb de mots enregistrés :  82 in row  1210\n",
      "nb de mots enregistrés :  89 in row  1212\n"
     ]
    },
    {
     "name": "stderr",
     "output_type": "stream",
     "text": [
      " 45%|██████████████████████████████████▉                                           | 1225/2731 [00:22<00:28, 53.11it/s]"
     ]
    },
    {
     "name": "stdout",
     "output_type": "stream",
     "text": [
      "nb de mots enregistrés :  93 in row  1214\n",
      "nb de mots enregistrés :  98 in row  1216\n",
      "nb de mots enregistrés :  102 in row  1218\n",
      "nb de mots enregistrés :  105 in row  1220\n",
      "nb de mots enregistrés :  111 in row  1222\n",
      "nb de mots enregistrés :  114 in row  1224\n",
      "nb de mots enregistrés :  120 in row  1226\n",
      "nb de mots enregistrés :  123 in row  1228\n",
      "nb de mots enregistrés :  128 in row  1230\n"
     ]
    },
    {
     "name": "stderr",
     "output_type": "stream",
     "text": [
      " 46%|███████████████████████████████████▌                                          | 1243/2731 [00:22<00:27, 54.18it/s]"
     ]
    },
    {
     "name": "stdout",
     "output_type": "stream",
     "text": [
      "nb de mots enregistrés :  137 in row  1232\n",
      "nb de mots enregistrés :  142 in row  1234\n",
      "nb de mots enregistrés :  147 in row  1236\n",
      "nb de mots enregistrés :  152 in row  1238\n",
      "nb de mots enregistrés :  157 in row  1240\n",
      "nb de mots enregistrés :  163 in row  1242\n",
      "nb de mots enregistrés :  182 in row  1244\n",
      "nb de mots enregistrés :  191 in row  1246\n",
      "nb de mots enregistrés :  192 in row  1248\n"
     ]
    },
    {
     "name": "stderr",
     "output_type": "stream",
     "text": [
      " 46%|████████████████████████████████████▏                                         | 1268/2731 [00:22<00:26, 56.16it/s]"
     ]
    },
    {
     "name": "stdout",
     "output_type": "stream",
     "text": [
      "nb de mots enregistrés :  205 in row  1250\n",
      "nb de mots enregistrés :  214 in row  1252\n",
      "nb de mots enregistrés :  221 in row  1254\n",
      "nb de mots enregistrés :  222 in row  1256\n",
      "nb de mots enregistrés :  225 in row  1258\n",
      "nb de mots enregistrés :  227 in row  1260\n",
      "nb de mots enregistrés :  229 in row  1262\n",
      "nb de mots enregistrés :  245 in row  1264\n",
      "nb de mots enregistrés :  257 in row  1266\n"
     ]
    },
    {
     "name": "stderr",
     "output_type": "stream",
     "text": [
      " 47%|████████████████████████████████████▌                                         | 1280/2731 [00:23<00:26, 54.05it/s]"
     ]
    },
    {
     "name": "stdout",
     "output_type": "stream",
     "text": [
      "nb de mots enregistrés :  261 in row  1268\n",
      "nb de mots enregistrés :  264 in row  1270\n",
      "nb de mots enregistrés :  271 in row  1272\n",
      "nb de mots enregistrés :  277 in row  1274\n",
      "nb de mots enregistrés :  434 in row  1276\n",
      "nb de mots enregistrés :  447 in row  1278\n",
      "nb de mots enregistrés :  454 in row  1280\n",
      "nb de mots enregistrés :  478 in row  1282\n",
      "nb de mots enregistrés :  494 in row  1284\n"
     ]
    },
    {
     "name": "stderr",
     "output_type": "stream",
     "text": [
      " 48%|█████████████████████████████████████                                         | 1299/2731 [00:23<00:25, 56.52it/s]"
     ]
    },
    {
     "name": "stdout",
     "output_type": "stream",
     "text": [
      "nb de mots enregistrés :  507 in row  1286\n",
      "nb de mots enregistrés :  682 in row  1288\n",
      "nb de mots enregistrés :  710 in row  1290\n",
      "nb de mots enregistrés :  727 in row  1292\n",
      "nb de mots enregistrés :  743 in row  1294\n",
      "nb de mots enregistrés :  771 in row  1296\n",
      "nb de mots enregistrés :  796 in row  1298\n"
     ]
    },
    {
     "name": "stderr",
     "output_type": "stream",
     "text": [
      " 48%|█████████████████████████████████████▍                                        | 1311/2731 [00:23<00:26, 54.34it/s]"
     ]
    },
    {
     "name": "stdout",
     "output_type": "stream",
     "text": [
      "nb de mots enregistrés :  852 in row  1300\n",
      "nb de mots enregistrés :  873 in row  1302\n",
      "nb de mots enregistrés :  964 in row  1304\n",
      "nb de mots enregistrés :  981 in row  1306\n",
      "nb de mots enregistrés :  994 in row  1308\n",
      "nb de mots enregistrés :  1004 in row  1310\n"
     ]
    },
    {
     "name": "stderr",
     "output_type": "stream",
     "text": [
      " 48%|█████████████████████████████████████▊                                        | 1323/2731 [00:23<00:26, 53.87it/s]"
     ]
    },
    {
     "name": "stdout",
     "output_type": "stream",
     "text": [
      "nb de mots enregistrés :  1036 in row  1312\n",
      "nb de mots enregistrés :  1038 in row  1314\n",
      "nb de mots enregistrés :  1068 in row  1316\n",
      "nb de mots enregistrés :  1073 in row  1318\n",
      "nb de mots enregistrés :  1117 in row  1320\n",
      "nb de mots enregistrés :  1120 in row  1322\n"
     ]
    },
    {
     "name": "stderr",
     "output_type": "stream",
     "text": [
      " 49%|██████████████████████████████████████▏                                       | 1335/2731 [00:24<00:26, 53.48it/s]"
     ]
    },
    {
     "name": "stdout",
     "output_type": "stream",
     "text": [
      "nb de mots enregistrés :  1182 in row  1324\n",
      "nb de mots enregistrés :  1182 in row  1325\n",
      "nb de mots enregistrés :  1213 in row  1327\n",
      "nb de mots enregistrés :  1233 in row  1329\n",
      "nb de mots enregistrés :  1237 in row  1331\n",
      "nb de mots enregistrés :  1252 in row  1332\n",
      "nb de mots enregistrés :  1265 in row  1334\n",
      "nb de mots enregistrés :  1265 in row  1335\n",
      "nb de mots enregistrés :  1281 in row  1337\n"
     ]
    },
    {
     "name": "stderr",
     "output_type": "stream",
     "text": [
      " 49%|██████████████████████████████████████▍                                       | 1347/2731 [00:24<00:26, 52.57it/s]"
     ]
    },
    {
     "name": "stdout",
     "output_type": "stream",
     "text": [
      "nb de mots enregistrés :  1286 in row  1339\n",
      "nb de mots enregistrés :  1290 in row  1341\n",
      "nb de mots enregistrés :  1290 in row  1342\n",
      "nb de mots enregistrés :  1293 in row  1344\n",
      "nb de mots enregistrés :  1301 in row  1346\n",
      "nb de mots enregistrés :  1312 in row  1348\n",
      "nb de mots enregistrés :  1322 in row  1350\n",
      "nb de mots enregistrés :  1341 in row  1351\n"
     ]
    },
    {
     "name": "stderr",
     "output_type": "stream",
     "text": [
      " 50%|██████████████████████████████████████▊                                       | 1359/2731 [00:24<00:25, 53.40it/s]"
     ]
    },
    {
     "name": "stdout",
     "output_type": "stream",
     "text": [
      "nb de mots enregistrés :  1350 in row  1353\n",
      "nb de mots enregistrés :  1360 in row  1354\n",
      "nb de mots enregistrés :  1369 in row  1356\n",
      "nb de mots enregistrés :  1377 in row  1358\n",
      "nb de mots enregistrés :  1382 in row  1359\n",
      "nb de mots enregistrés :  1391 in row  1361\n"
     ]
    },
    {
     "name": "stderr",
     "output_type": "stream",
     "text": [
      " 50%|███████████████████████████████████████▎                                      | 1377/2731 [00:24<00:26, 51.35it/s]"
     ]
    },
    {
     "name": "stdout",
     "output_type": "stream",
     "text": [
      "nb de mots enregistrés :  1395 in row  1363\n",
      "nb de mots enregistrés :  1410 in row  1365\n",
      "nb de mots enregistrés :  1414 in row  1367\n",
      "nb de mots enregistrés :  1471 in row  1369\n",
      "nb de mots enregistrés :  1492 in row  1371\n",
      "nb de mots enregistrés :  1510 in row  1373\n",
      "nb de mots enregistrés :  1514 in row  1375\n"
     ]
    },
    {
     "name": "stderr",
     "output_type": "stream",
     "text": [
      " 51%|███████████████████████████████████████▋                                      | 1389/2731 [00:25<00:25, 53.26it/s]"
     ]
    },
    {
     "name": "stdout",
     "output_type": "stream",
     "text": [
      "nb de mots enregistrés :  1524 in row  1377\n",
      "nb de mots enregistrés :  1524 in row  1378\n",
      "step  SCENE   VI.  detecté in row  1379\n",
      "nb de mots enregistrés :  0 in row  1380\n",
      "nb de mots enregistrés :  0 in row  1381\n",
      "nb de mots enregistrés :  7 in row  1383\n",
      "nb de mots enregistrés :  27 in row  1385\n",
      "nb de mots enregistrés :  42 in row  1387\n"
     ]
    },
    {
     "name": "stderr",
     "output_type": "stream",
     "text": [
      " 51%|████████████████████████████████████████                                      | 1401/2731 [00:25<00:25, 52.49it/s]"
     ]
    },
    {
     "name": "stdout",
     "output_type": "stream",
     "text": [
      "nb de mots enregistrés :  70 in row  1389\n",
      "nb de mots enregistrés :  77 in row  1391\n",
      "nb de mots enregistrés :  86 in row  1393\n",
      "nb de mots enregistrés :  138 in row  1395\n",
      "nb de mots enregistrés :  156 in row  1397\n",
      "nb de mots enregistrés :  158 in row  1399\n",
      "nb de mots enregistrés :  168 in row  1401\n",
      "nb de mots enregistrés :  201 in row  1403\n"
     ]
    },
    {
     "name": "stderr",
     "output_type": "stream",
     "text": [
      " 52%|████████████████████████████████████████▎                                     | 1413/2731 [00:25<00:27, 47.60it/s]"
     ]
    },
    {
     "name": "stdout",
     "output_type": "stream",
     "text": [
      "nb de mots enregistrés :  219 in row  1405\n",
      "nb de mots enregistrés :  249 in row  1407\n",
      "nb de mots enregistrés :  265 in row  1409\n",
      "nb de mots enregistrés :  279 in row  1411\n",
      "nb de mots enregistrés :  282 in row  1413\n",
      "nb de mots enregistrés :  297 in row  1415\n"
     ]
    },
    {
     "name": "stderr",
     "output_type": "stream",
     "text": [
      " 52%|████████████████████████████████████████▉                                     | 1432/2731 [00:26<00:26, 49.79it/s]"
     ]
    },
    {
     "name": "stdout",
     "output_type": "stream",
     "text": [
      "nb de mots enregistrés :  337 in row  1417\n",
      "nb de mots enregistrés :  390 in row  1419\n",
      "nb de mots enregistrés :  398 in row  1421\n",
      "nb de mots enregistrés :  412 in row  1423\n",
      "nb de mots enregistrés :  414 in row  1425\n",
      "nb de mots enregistrés :  447 in row  1427\n",
      "nb de mots enregistrés :  454 in row  1429\n",
      "nb de mots enregistrés :  470 in row  1431\n"
     ]
    },
    {
     "name": "stderr",
     "output_type": "stream",
     "text": [
      " 53%|█████████████████████████████████████████▏                                    | 1444/2731 [00:26<00:25, 51.47it/s]"
     ]
    },
    {
     "name": "stdout",
     "output_type": "stream",
     "text": [
      "nb de mots enregistrés :  477 in row  1433\n",
      "nb de mots enregistrés :  499 in row  1435\n",
      "nb de mots enregistrés :  515 in row  1437\n",
      "nb de mots enregistrés :  541 in row  1439\n",
      "nb de mots enregistrés :  563 in row  1441\n",
      "nb de mots enregistrés :  573 in row  1443\n",
      "nb de mots enregistrés :  606 in row  1445\n",
      "nb de mots enregistrés :  614 in row  1447\n"
     ]
    },
    {
     "name": "stderr",
     "output_type": "stream",
     "text": [
      " 53%|█████████████████████████████████████████▌                                    | 1456/2731 [00:26<00:25, 49.25it/s]"
     ]
    },
    {
     "name": "stdout",
     "output_type": "stream",
     "text": [
      "nb de mots enregistrés :  726 in row  1449\n",
      "nb de mots enregistrés :  744 in row  1451\n",
      "nb de mots enregistrés :  755 in row  1453\n",
      "nb de mots enregistrés :  766 in row  1455\n",
      "nb de mots enregistrés :  786 in row  1457\n",
      "nb de mots enregistrés :  793 in row  1459\n"
     ]
    },
    {
     "name": "stderr",
     "output_type": "stream",
     "text": [
      " 54%|██████████████████████████████████████████                                    | 1471/2731 [00:26<00:22, 55.88it/s]"
     ]
    },
    {
     "name": "stdout",
     "output_type": "stream",
     "text": [
      "nb de mots enregistrés :  799 in row  1461\n",
      "nb de mots enregistrés :  817 in row  1463\n",
      "nb de mots enregistrés :  831 in row  1465\n",
      "nb de mots enregistrés :  860 in row  1467\n",
      "nb de mots enregistrés :  883 in row  1469\n",
      "nb de mots enregistrés :  884 in row  1470\n",
      "nb de mots enregistrés :  898 in row  1471\n",
      "nb de mots enregistrés :  902 in row  1473\n",
      "nb de mots enregistrés :  913 in row  1475\n"
     ]
    },
    {
     "name": "stderr",
     "output_type": "stream",
     "text": [
      " 55%|██████████████████████████████████████████▌                                   | 1489/2731 [00:27<00:21, 57.50it/s]"
     ]
    },
    {
     "name": "stdout",
     "output_type": "stream",
     "text": [
      "nb de mots enregistrés :  920 in row  1477\n",
      "nb de mots enregistrés :  932 in row  1479\n",
      "nb de mots enregistrés :  954 in row  1481\n",
      "nb de mots enregistrés :  971 in row  1483\n",
      "nb de mots enregistrés :  972 in row  1485\n",
      "nb de mots enregistrés :  990 in row  1487\n",
      "nb de mots enregistrés :  992 in row  1489\n",
      "nb de mots enregistrés :  993 in row  1491\n",
      "nb de mots enregistrés :  994 in row  1493\n"
     ]
    },
    {
     "name": "stderr",
     "output_type": "stream",
     "text": [
      " 55%|██████████████████████████████████████████▉                                   | 1502/2731 [00:27<00:21, 56.75it/s]"
     ]
    },
    {
     "name": "stdout",
     "output_type": "stream",
     "text": [
      "nb de mots enregistrés :  1020 in row  1495\n",
      "nb de mots enregistrés :  1021 in row  1497\n",
      "nb de mots enregistrés :  1065 in row  1499\n",
      "nb de mots enregistrés :  1067 in row  1501\n",
      "nb de mots enregistrés :  1078 in row  1503\n",
      "nb de mots enregistrés :  1144 in row  1505\n"
     ]
    },
    {
     "name": "stderr",
     "output_type": "stream",
     "text": [
      " 56%|███████████████████████████████████████████▎                                  | 1516/2731 [00:27<00:20, 60.19it/s]"
     ]
    },
    {
     "name": "stdout",
     "output_type": "stream",
     "text": [
      "nb de mots enregistrés :  1149 in row  1507\n",
      "nb de mots enregistrés :  1169 in row  1509\n",
      "nb de mots enregistrés :  1183 in row  1511\n",
      "nb de mots enregistrés :  1190 in row  1513\n",
      "nb de mots enregistrés :  1193 in row  1515\n",
      "nb de mots enregistrés :  1193 in row  1516\n",
      "step  SCENE   VII.  detecté in row  1517\n",
      "nb de mots enregistrés :  0 in row  1518\n",
      "nb de mots enregistrés :  0 in row  1519\n",
      "nb de mots enregistrés :  41 in row  1521\n"
     ]
    },
    {
     "name": "stderr",
     "output_type": "stream",
     "text": [
      " 56%|███████████████████████████████████████████▉                                  | 1537/2731 [00:27<00:18, 63.55it/s]"
     ]
    },
    {
     "name": "stdout",
     "output_type": "stream",
     "text": [
      "nb de mots enregistrés :  48 in row  1523\n",
      "nb de mots enregistrés :  63 in row  1525\n",
      "nb de mots enregistrés :  66 in row  1527\n",
      "nb de mots enregistrés :  66 in row  1528\n",
      "step  SCENE   VIII.  detecté in row  1529\n",
      "nb de mots enregistrés :  0 in row  1530\n",
      "nb de mots enregistrés :  0 in row  1531\n",
      "nb de mots enregistrés :  14 in row  1533\n",
      "nb de mots enregistrés :  26 in row  1535\n"
     ]
    },
    {
     "name": "stderr",
     "output_type": "stream",
     "text": [
      " 57%|████████████████████████████████████████████▎                                 | 1551/2731 [00:28<00:18, 62.39it/s]"
     ]
    },
    {
     "name": "stdout",
     "output_type": "stream",
     "text": [
      "nb de mots enregistrés :  30 in row  1537\n",
      "nb de mots enregistrés :  31 in row  1539\n",
      "nb de mots enregistrés :  33 in row  1541\n",
      "nb de mots enregistrés :  39 in row  1543\n",
      "nb de mots enregistrés :  83 in row  1545\n",
      "nb de mots enregistrés :  91 in row  1547\n",
      "nb de mots enregistrés :  94 in row  1549\n"
     ]
    },
    {
     "name": "stderr",
     "output_type": "stream",
     "text": [
      " 57%|████████████████████████████████████████████▋                                 | 1565/2731 [00:28<00:19, 59.89it/s]"
     ]
    },
    {
     "name": "stdout",
     "output_type": "stream",
     "text": [
      "nb de mots enregistrés :  105 in row  1551\n",
      "nb de mots enregistrés :  108 in row  1553\n",
      "nb de mots enregistrés :  114 in row  1555\n",
      "nb de mots enregistrés :  116 in row  1557\n",
      "nb de mots enregistrés :  132 in row  1559\n",
      "nb de mots enregistrés :  135 in row  1561\n",
      "nb de mots enregistrés :  138 in row  1563\n"
     ]
    },
    {
     "name": "stderr",
     "output_type": "stream",
     "text": [
      "\r",
      " 58%|████████████████████████████████████████████▉                                 | 1572/2731 [00:28<00:19, 59.14it/s]"
     ]
    },
    {
     "name": "stdout",
     "output_type": "stream",
     "text": [
      "nb de mots enregistrés :  151 in row  1565\n",
      "nb de mots enregistrés :  157 in row  1567\n",
      "nb de mots enregistrés :  160 in row  1569\n",
      "nb de mots enregistrés :  162 in row  1571\n",
      "nb de mots enregistrés :  165 in row  1573\n",
      "nb de mots enregistrés :  167 in row  1575\n",
      "nb de mots enregistrés :  168 in row  1577\n"
     ]
    },
    {
     "name": "stderr",
     "output_type": "stream",
     "text": [
      " 58%|█████████████████████████████████████████████▍                                | 1590/2731 [00:28<00:22, 50.70it/s]"
     ]
    },
    {
     "name": "stdout",
     "output_type": "stream",
     "text": [
      "nb de mots enregistrés :  187 in row  1579\n",
      "nb de mots enregistrés :  191 in row  1581\n",
      "nb de mots enregistrés :  240 in row  1583\n",
      "nb de mots enregistrés :  243 in row  1585\n",
      "nb de mots enregistrés :  249 in row  1587\n",
      "nb de mots enregistrés :  269 in row  1589\n"
     ]
    },
    {
     "name": "stderr",
     "output_type": "stream",
     "text": [
      " 59%|█████████████████████████████████████████████▊                                | 1603/2731 [00:29<00:20, 54.14it/s]"
     ]
    },
    {
     "name": "stdout",
     "output_type": "stream",
     "text": [
      "nb de mots enregistrés :  286 in row  1591\n",
      "nb de mots enregistrés :  290 in row  1593\n",
      "nb de mots enregistrés :  292 in row  1595\n",
      "nb de mots enregistrés :  301 in row  1597\n",
      "nb de mots enregistrés :  303 in row  1599\n",
      "nb de mots enregistrés :  314 in row  1601\n"
     ]
    },
    {
     "name": "stderr",
     "output_type": "stream",
     "text": [
      "\r",
      " 59%|█████████████████████████████████████████████▉                                | 1609/2731 [00:29<00:23, 47.36it/s]"
     ]
    },
    {
     "name": "stdout",
     "output_type": "stream",
     "text": [
      "nb de mots enregistrés :  316 in row  1603\n",
      "nb de mots enregistrés :  331 in row  1605\n",
      "nb de mots enregistrés :  341 in row  1607\n",
      "nb de mots enregistrés :  357 in row  1609\n",
      "nb de mots enregistrés :  377 in row  1611\n",
      "nb de mots enregistrés :  381 in row  1613\n",
      "nb de mots enregistrés :  400 in row  1615\n"
     ]
    },
    {
     "name": "stderr",
     "output_type": "stream",
     "text": [
      " 60%|██████████████████████████████████████████████▍                               | 1628/2731 [00:29<00:21, 51.98it/s]"
     ]
    },
    {
     "name": "stdout",
     "output_type": "stream",
     "text": [
      "nb de mots enregistrés :  414 in row  1617\n",
      "nb de mots enregistrés :  416 in row  1619\n",
      "nb de mots enregistrés :  433 in row  1621\n",
      "nb de mots enregistrés :  436 in row  1623\n",
      "nb de mots enregistrés :  453 in row  1625\n",
      "nb de mots enregistrés :  460 in row  1627\n",
      "nb de mots enregistrés :  465 in row  1629\n"
     ]
    },
    {
     "name": "stderr",
     "output_type": "stream",
     "text": [
      " 60%|██████████████████████████████████████████████▊                               | 1640/2731 [00:29<00:21, 51.84it/s]"
     ]
    },
    {
     "name": "stdout",
     "output_type": "stream",
     "text": [
      "nb de mots enregistrés :  468 in row  1631\n",
      "nb de mots enregistrés :  483 in row  1633\n",
      "nb de mots enregistrés :  486 in row  1635\n",
      "nb de mots enregistrés :  493 in row  1637\n",
      "nb de mots enregistrés :  498 in row  1639\n",
      "nb de mots enregistrés :  507 in row  1641\n",
      "nb de mots enregistrés :  511 in row  1643\n"
     ]
    },
    {
     "name": "stderr",
     "output_type": "stream",
     "text": [
      " 61%|███████████████████████████████████████████████▏                              | 1653/2731 [00:30<00:19, 56.29it/s]"
     ]
    },
    {
     "name": "stdout",
     "output_type": "stream",
     "text": [
      "nb de mots enregistrés :  529 in row  1645\n",
      "nb de mots enregistrés :  533 in row  1647\n",
      "nb de mots enregistrés :  543 in row  1649\n",
      "nb de mots enregistrés :  547 in row  1651\n",
      "nb de mots enregistrés :  555 in row  1653\n",
      "nb de mots enregistrés :  559 in row  1655\n"
     ]
    },
    {
     "name": "stderr",
     "output_type": "stream",
     "text": [
      " 61%|███████████████████████████████████████████████▌                              | 1666/2731 [00:30<00:19, 55.72it/s]"
     ]
    },
    {
     "name": "stdout",
     "output_type": "stream",
     "text": [
      "nb de mots enregistrés :  573 in row  1657\n",
      "nb de mots enregistrés :  580 in row  1659\n",
      "nb de mots enregistrés :  583 in row  1661\n",
      "nb de mots enregistrés :  603 in row  1663\n",
      "nb de mots enregistrés :  613 in row  1665\n",
      "nb de mots enregistrés :  615 in row  1667\n",
      "nb de mots enregistrés :  627 in row  1669\n"
     ]
    },
    {
     "name": "stderr",
     "output_type": "stream",
     "text": [
      " 62%|███████████████████████████████████████████████▉                              | 1680/2731 [00:30<00:17, 60.71it/s]"
     ]
    },
    {
     "name": "stdout",
     "output_type": "stream",
     "text": [
      "nb de mots enregistrés :  653 in row  1671\n",
      "nb de mots enregistrés :  653 in row  1672\n",
      "step  SCENE   IX.  detecté in row  1673\n",
      "nb de mots enregistrés :  0 in row  1674\n",
      "nb de mots enregistrés :  0 in row  1675\n",
      "nb de mots enregistrés :  9 in row  1677\n",
      "nb de mots enregistrés :  15 in row  1679\n",
      "nb de mots enregistrés :  19 in row  1681\n",
      "nb de mots enregistrés :  32 in row  1683\n"
     ]
    },
    {
     "name": "stderr",
     "output_type": "stream",
     "text": [
      " 62%|████████████████████████████████████████████████▌                             | 1700/2731 [00:30<00:18, 54.88it/s]"
     ]
    },
    {
     "name": "stdout",
     "output_type": "stream",
     "text": [
      "nb de mots enregistrés :  36 in row  1685\n",
      "nb de mots enregistrés :  45 in row  1687\n",
      "nb de mots enregistrés :  58 in row  1689\n",
      "nb de mots enregistrés :  85 in row  1691\n",
      "nb de mots enregistrés :  174 in row  1693\n",
      "nb de mots enregistrés :  174 in row  1694\n",
      "step  SECOND   INTERMEDE  detecté in row  1695\n",
      "nb de mots enregistrés :  0 in row  1696\n",
      "nb de mots enregistrés :  0 in row  1697\n",
      "nb de mots enregistrés :  0 in row  1698\n",
      "nb de mots enregistrés :  0 in row  1699\n"
     ]
    },
    {
     "name": "stderr",
     "output_type": "stream",
     "text": [
      " 63%|████████████████████████████████████████████████▉                             | 1712/2731 [00:31<00:20, 50.06it/s]"
     ]
    },
    {
     "name": "stdout",
     "output_type": "stream",
     "text": [
      "nb de mots enregistrés :  1 in row  1700\n",
      "nb de mots enregistrés :  1 in row  1701\n",
      "nb de mots enregistrés :  25 in row  1702\n",
      "nb de mots enregistrés :  25 in row  1703\n",
      "step  PREMIERE   FEMME  detecté in row  1704\n",
      "nb de mots enregistrés :  0 in row  1705\n",
      "nb de mots enregistrés :  0 in row  1706\n",
      "nb de mots enregistrés :  3 in row  1707\n",
      "nb de mots enregistrés :  7 in row  1708\n",
      "nb de mots enregistrés :  9 in row  1709\n",
      "nb de mots enregistrés :  12 in row  1710\n",
      "nb de mots enregistrés :  16 in row  1711\n",
      "nb de mots enregistrés :  20 in row  1712\n",
      "nb de mots enregistrés :  20 in row  1713\n",
      "nb de mots enregistrés :  20 in row  1714\n",
      "nb de mots enregistrés :  25 in row  1715\n",
      "nb de mots enregistrés :  28 in row  1716\n"
     ]
    },
    {
     "name": "stderr",
     "output_type": "stream",
     "text": [
      "\r",
      " 63%|█████████████████████████████████████████████████                             | 1718/2731 [00:31<00:26, 37.58it/s]"
     ]
    },
    {
     "name": "stdout",
     "output_type": "stream",
     "text": [
      "nb de mots enregistrés :  32 in row  1717\n",
      "nb de mots enregistrés :  37 in row  1718\n",
      "nb de mots enregistrés :  37 in row  1719\n",
      "nb de mots enregistrés :  37 in row  1720\n",
      "nb de mots enregistrés :  40 in row  1721\n",
      "nb de mots enregistrés :  44 in row  1722\n"
     ]
    },
    {
     "name": "stderr",
     "output_type": "stream",
     "text": [
      " 63%|█████████████████████████████████████████████████▍                            | 1732/2731 [00:31<00:27, 35.89it/s]"
     ]
    },
    {
     "name": "stdout",
     "output_type": "stream",
     "text": [
      "nb de mots enregistrés :  46 in row  1723\n",
      "nb de mots enregistrés :  49 in row  1724\n",
      "nb de mots enregistrés :  53 in row  1725\n",
      "nb de mots enregistrés :  57 in row  1726\n",
      "nb de mots enregistrés :  57 in row  1727\n",
      "nb de mots enregistrés :  57 in row  1728\n",
      "nb de mots enregistrés :  63 in row  1729\n",
      "nb de mots enregistrés :  66 in row  1730\n",
      "nb de mots enregistrés :  69 in row  1731\n"
     ]
    },
    {
     "name": "stderr",
     "output_type": "stream",
     "text": [
      " 64%|█████████████████████████████████████████████████▊                            | 1743/2731 [00:32<00:24, 40.02it/s]"
     ]
    },
    {
     "name": "stdout",
     "output_type": "stream",
     "text": [
      "nb de mots enregistrés :  72 in row  1732\n",
      "nb de mots enregistrés :  76 in row  1733\n",
      "nb de mots enregistrés :  85 in row  1734\n",
      "nb de mots enregistrés :  85 in row  1735\n",
      "nb de mots enregistrés :  85 in row  1736\n",
      "nb de mots enregistrés :  88 in row  1737\n",
      "nb de mots enregistrés :  92 in row  1738\n",
      "nb de mots enregistrés :  94 in row  1739\n",
      "nb de mots enregistrés :  97 in row  1740\n",
      "nb de mots enregistrés :  101 in row  1741\n",
      "nb de mots enregistrés :  105 in row  1742\n",
      "nb de mots enregistrés :  105 in row  1743\n",
      "nb de mots enregistrés :  105 in row  1744\n",
      "nb de mots enregistrés :  105 in row  1745\n",
      "step  SECONDE   FEMME  detecté in row  1746\n"
     ]
    },
    {
     "name": "stderr",
     "output_type": "stream",
     "text": [
      " 64%|██████████████████████████████████████████████████                            | 1755/2731 [00:32<00:21, 46.03it/s]"
     ]
    },
    {
     "name": "stdout",
     "output_type": "stream",
     "text": [
      "nb de mots enregistrés :  0 in row  1747\n",
      "nb de mots enregistrés :  0 in row  1748\n",
      "nb de mots enregistrés :  5 in row  1749\n",
      "nb de mots enregistrés :  9 in row  1750\n",
      "nb de mots enregistrés :  14 in row  1751\n",
      "nb de mots enregistrés :  18 in row  1752\n",
      "nb de mots enregistrés :  22 in row  1753\n",
      "nb de mots enregistrés :  27 in row  1754\n",
      "nb de mots enregistrés :  31 in row  1755\n",
      "nb de mots enregistrés :  36 in row  1756\n",
      "nb de mots enregistrés :  40 in row  1757\n",
      "nb de mots enregistrés :  45 in row  1758\n"
     ]
    },
    {
     "name": "stderr",
     "output_type": "stream",
     "text": [
      "\r",
      " 64%|██████████████████████████████████████████████████▎                           | 1761/2731 [00:32<00:20, 47.59it/s]"
     ]
    },
    {
     "name": "stdout",
     "output_type": "stream",
     "text": [
      "nb de mots enregistrés :  50 in row  1759\n",
      "nb de mots enregistrés :  53 in row  1760\n",
      "nb de mots enregistrés :  59 in row  1761\n",
      "nb de mots enregistrés :  63 in row  1762\n"
     ]
    },
    {
     "name": "stderr",
     "output_type": "stream",
     "text": [
      " 65%|██████████████████████████████████████████████████▌                           | 1770/2731 [00:32<00:31, 30.36it/s]"
     ]
    },
    {
     "name": "stdout",
     "output_type": "stream",
     "text": [
      "nb de mots enregistrés :  66 in row  1763\n",
      "nb de mots enregistrés :  66 in row  1764\n",
      "nb de mots enregistrés :  66 in row  1765\n",
      "nb de mots enregistrés :  66 in row  1766\n",
      "step  TROISIEME   FEMME  detecté in row  1767\n",
      "nb de mots enregistrés :  0 in row  1768\n",
      "nb de mots enregistrés :  0 in row  1769\n"
     ]
    },
    {
     "name": "stderr",
     "output_type": "stream",
     "text": [
      " 65%|██████████████████████████████████████████████████▉                           | 1782/2731 [00:33<00:24, 39.26it/s]"
     ]
    },
    {
     "name": "stdout",
     "output_type": "stream",
     "text": [
      "nb de mots enregistrés :  6 in row  1770\n",
      "nb de mots enregistrés :  8 in row  1771\n",
      "nb de mots enregistrés :  10 in row  1772\n",
      "nb de mots enregistrés :  13 in row  1773\n",
      "nb de mots enregistrés :  17 in row  1774\n",
      "nb de mots enregistrés :  22 in row  1775\n",
      "nb de mots enregistrés :  22 in row  1776\n",
      "nb de mots enregistrés :  22 in row  1777\n",
      "nb de mots enregistrés :  22 in row  1778\n",
      "nb de mots enregistrés :  25 in row  1779\n",
      "nb de mots enregistrés :  25 in row  1780\n",
      "nb de mots enregistrés :  25 in row  1781\n",
      "nb de mots enregistrés :  29 in row  1782\n",
      "nb de mots enregistrés :  33 in row  1783\n",
      "nb de mots enregistrés :  35 in row  1784\n",
      "nb de mots enregistrés :  38 in row  1785\n"
     ]
    },
    {
     "name": "stderr",
     "output_type": "stream",
     "text": [
      " 66%|███████████████████████████████████████████████████▏                          | 1792/2731 [00:33<00:22, 41.33it/s]"
     ]
    },
    {
     "name": "stdout",
     "output_type": "stream",
     "text": [
      "nb de mots enregistrés :  42 in row  1786\n",
      "nb de mots enregistrés :  45 in row  1787\n",
      "nb de mots enregistrés :  45 in row  1788\n",
      "nb de mots enregistrés :  45 in row  1789\n",
      "nb de mots enregistrés :  45 in row  1790\n",
      "step  SECONDE   FEMME  detecté in row  1791\n",
      "nb de mots enregistrés :  0 in row  1792\n",
      "nb de mots enregistrés :  0 in row  1793\n",
      "nb de mots enregistrés :  4 in row  1794\n"
     ]
    },
    {
     "name": "stderr",
     "output_type": "stream",
     "text": [
      " 66%|███████████████████████████████████████████████████▍                          | 1802/2731 [00:33<00:20, 44.32it/s]"
     ]
    },
    {
     "name": "stdout",
     "output_type": "stream",
     "text": [
      "nb de mots enregistrés :  9 in row  1795\n",
      "nb de mots enregistrés :  9 in row  1796\n",
      "nb de mots enregistrés :  9 in row  1797\n",
      "nb de mots enregistrés :  9 in row  1798\n",
      "nb de mots enregistrés :  12 in row  1799\n",
      "nb de mots enregistrés :  12 in row  1800\n",
      "nb de mots enregistrés :  12 in row  1801\n",
      "nb de mots enregistrés :  16 in row  1802\n",
      "nb de mots enregistrés :  20 in row  1803\n",
      "nb de mots enregistrés :  20 in row  1804\n",
      "nb de mots enregistrés :  20 in row  1805\n"
     ]
    },
    {
     "name": "stderr",
     "output_type": "stream",
     "text": [
      " 67%|████████████████████████████████████████████████████▏                         | 1827/2731 [00:34<00:16, 54.60it/s]"
     ]
    },
    {
     "name": "stdout",
     "output_type": "stream",
     "text": [
      "nb de mots enregistrés :  20 in row  1806\n",
      "nb de mots enregistrés :  21 in row  1807\n",
      "nb de mots enregistrés :  21 in row  1808\n",
      "nb de mots enregistrés :  21 in row  1809\n",
      "nb de mots enregistrés :  25 in row  1810\n",
      "nb de mots enregistrés :  29 in row  1811\n",
      "nb de mots enregistrés :  32 in row  1812\n",
      "nb de mots enregistrés :  36 in row  1813\n",
      "nb de mots enregistrés :  40 in row  1814\n",
      "nb de mots enregistrés :  44 in row  1815\n",
      "nb de mots enregistrés :  44 in row  1816\n",
      "nb de mots enregistrés :  44 in row  1817\n",
      "nb de mots enregistrés :  44 in row  1818\n",
      "nb de mots enregistrés :  44 in row  1819\n",
      "nb de mots enregistrés :  47 in row  1820\n",
      "nb de mots enregistrés :  47 in row  1821\n",
      "nb de mots enregistrés :  62 in row  1822\n",
      "nb de mots enregistrés :  62 in row  1823\n",
      "nb de mots enregistrés :  62 in row  1824\n",
      "step  ACTE   III  detecté in row  1825\n",
      "nb de mots enregistrés :  0 in row  1826\n"
     ]
    },
    {
     "name": "stderr",
     "output_type": "stream",
     "text": [
      " 68%|████████████████████████████████████████████████████▋                         | 1846/2731 [00:34<00:16, 53.80it/s]"
     ]
    },
    {
     "name": "stdout",
     "output_type": "stream",
     "text": [
      "nb de mots enregistrés :  0 in row  1827\n",
      "nb de mots enregistrés :  0 in row  1828\n",
      "nb de mots enregistrés :  0 in row  1829\n",
      "step  SCENE   I.  detecté in row  1830\n",
      "nb de mots enregistrés :  0 in row  1831\n",
      "nb de mots enregistrés :  15 in row  1832\n",
      "nb de mots enregistrés :  15 in row  1833\n",
      "nb de mots enregistrés :  33 in row  1835\n",
      "nb de mots enregistrés :  39 in row  1837\n",
      "nb de mots enregistrés :  49 in row  1839\n",
      "nb de mots enregistrés :  58 in row  1841\n",
      "nb de mots enregistrés :  71 in row  1843\n",
      "nb de mots enregistrés :  74 in row  1845\n"
     ]
    },
    {
     "name": "stderr",
     "output_type": "stream",
     "text": [
      " 68%|█████████████████████████████████████████████████████▎                        | 1865/2731 [00:34<00:14, 58.46it/s]"
     ]
    },
    {
     "name": "stdout",
     "output_type": "stream",
     "text": [
      "nb de mots enregistrés :  74 in row  1846\n",
      "step  SCENE   II.  detecté in row  1847\n",
      "nb de mots enregistrés :  0 in row  1848\n",
      "nb de mots enregistrés :  0 in row  1849\n",
      "nb de mots enregistrés :  10 in row  1851\n",
      "nb de mots enregistrés :  19 in row  1853\n",
      "nb de mots enregistrés :  97 in row  1855\n",
      "nb de mots enregistrés :  99 in row  1857\n",
      "nb de mots enregistrés :  120 in row  1859\n",
      "nb de mots enregistrés :  120 in row  1860\n",
      "step  SCENE   III.  detecté in row  1861\n",
      "nb de mots enregistrés :  0 in row  1862\n",
      "nb de mots enregistrés :  0 in row  1863\n"
     ]
    },
    {
     "name": "stderr",
     "output_type": "stream",
     "text": [
      " 69%|█████████████████████████████████████████████████████▋                        | 1878/2731 [00:34<00:15, 56.78it/s]"
     ]
    },
    {
     "name": "stdout",
     "output_type": "stream",
     "text": [
      "nb de mots enregistrés :  21 in row  1865\n",
      "nb de mots enregistrés :  25 in row  1867\n",
      "nb de mots enregistrés :  37 in row  1869\n",
      "nb de mots enregistrés :  38 in row  1871\n",
      "nb de mots enregistrés :  57 in row  1873\n",
      "nb de mots enregistrés :  65 in row  1875\n",
      "nb de mots enregistrés :  80 in row  1877\n",
      "nb de mots enregistrés :  99 in row  1879\n"
     ]
    },
    {
     "name": "stderr",
     "output_type": "stream",
     "text": [
      " 69%|█████████████████████████████████████████████████████▉                        | 1890/2731 [00:35<00:16, 50.07it/s]"
     ]
    },
    {
     "name": "stdout",
     "output_type": "stream",
     "text": [
      "nb de mots enregistrés :  137 in row  1881\n",
      "nb de mots enregistrés :  163 in row  1883\n",
      "nb de mots enregistrés :  168 in row  1885\n",
      "nb de mots enregistrés :  182 in row  1887\n",
      "nb de mots enregistrés :  218 in row  1889\n",
      "nb de mots enregistrés :  228 in row  1891\n",
      "nb de mots enregistrés :  245 in row  1893\n"
     ]
    },
    {
     "name": "stderr",
     "output_type": "stream",
     "text": [
      " 70%|██████████████████████████████████████████████████████▎                       | 1902/2731 [00:35<00:16, 51.64it/s]"
     ]
    },
    {
     "name": "stdout",
     "output_type": "stream",
     "text": [
      "nb de mots enregistrés :  268 in row  1895\n",
      "nb de mots enregistrés :  283 in row  1897\n",
      "nb de mots enregistrés :  286 in row  1899\n",
      "nb de mots enregistrés :  341 in row  1901\n",
      "nb de mots enregistrés :  346 in row  1903\n",
      "nb de mots enregistrés :  390 in row  1905\n",
      "nb de mots enregistrés :  419 in row  1907\n"
     ]
    },
    {
     "name": "stderr",
     "output_type": "stream",
     "text": [
      " 70%|██████████████████████████████████████████████████████▊                       | 1921/2731 [00:35<00:14, 55.38it/s]"
     ]
    },
    {
     "name": "stdout",
     "output_type": "stream",
     "text": [
      "nb de mots enregistrés :  437 in row  1909\n",
      "nb de mots enregistrés :  452 in row  1911\n",
      "nb de mots enregistrés :  469 in row  1913\n",
      "nb de mots enregistrés :  490 in row  1915\n",
      "nb de mots enregistrés :  534 in row  1917\n",
      "nb de mots enregistrés :  548 in row  1919\n",
      "nb de mots enregistrés :  570 in row  1921\n",
      "nb de mots enregistrés :  580 in row  1923\n",
      "nb de mots enregistrés :  592 in row  1925\n",
      "nb de mots enregistrés :  609 in row  1927\n"
     ]
    },
    {
     "name": "stderr",
     "output_type": "stream",
     "text": [
      " 71%|███████████████████████████████████████████████████████▍                      | 1940/2731 [00:36<00:14, 55.55it/s]"
     ]
    },
    {
     "name": "stdout",
     "output_type": "stream",
     "text": [
      "nb de mots enregistrés :  623 in row  1929\n",
      "nb de mots enregistrés :  639 in row  1931\n",
      "nb de mots enregistrés :  655 in row  1933\n",
      "nb de mots enregistrés :  671 in row  1935\n",
      "nb de mots enregistrés :  705 in row  1937\n",
      "nb de mots enregistrés :  730 in row  1939\n",
      "nb de mots enregistrés :  733 in row  1941\n",
      "nb de mots enregistrés :  735 in row  1943\n",
      "nb de mots enregistrés :  784 in row  1945\n"
     ]
    },
    {
     "name": "stderr",
     "output_type": "stream",
     "text": [
      " 72%|███████████████████████████████████████████████████████▉                      | 1959/2731 [00:36<00:13, 57.74it/s]"
     ]
    },
    {
     "name": "stdout",
     "output_type": "stream",
     "text": [
      "nb de mots enregistrés :  800 in row  1947\n",
      "nb de mots enregistrés :  814 in row  1949\n",
      "nb de mots enregistrés :  840 in row  1951\n",
      "nb de mots enregistrés :  865 in row  1953\n",
      "nb de mots enregistrés :  896 in row  1955\n",
      "nb de mots enregistrés :  944 in row  1957\n",
      "nb de mots enregistrés :  967 in row  1959\n",
      "nb de mots enregistrés :  981 in row  1961\n",
      "nb de mots enregistrés :  994 in row  1963\n"
     ]
    },
    {
     "name": "stderr",
     "output_type": "stream",
     "text": [
      " 73%|████████████████████████████████████████████████████████▋                     | 1986/2731 [00:36<00:12, 60.87it/s]"
     ]
    },
    {
     "name": "stdout",
     "output_type": "stream",
     "text": [
      "nb de mots enregistrés :  1026 in row  1965\n",
      "nb de mots enregistrés :  1043 in row  1967\n",
      "nb de mots enregistrés :  1050 in row  1969\n",
      "nb de mots enregistrés :  1066 in row  1971\n",
      "nb de mots enregistrés :  1082 in row  1973\n",
      "nb de mots enregistrés :  1092 in row  1975\n",
      "nb de mots enregistrés :  1126 in row  1977\n",
      "nb de mots enregistrés :  1152 in row  1979\n",
      "nb de mots enregistrés :  1237 in row  1981\n",
      "nb de mots enregistrés :  1237 in row  1982\n",
      "step  SCENE   IV.  detecté in row  1983\n",
      "nb de mots enregistrés :  0 in row  1984\n",
      "nb de mots enregistrés :  0 in row  1985\n"
     ]
    },
    {
     "name": "stderr",
     "output_type": "stream",
     "text": [
      " 73%|█████████████████████████████████████████████████████████                     | 1999/2731 [00:37<00:12, 59.01it/s]"
     ]
    },
    {
     "name": "stdout",
     "output_type": "stream",
     "text": [
      "nb de mots enregistrés :  7 in row  1987\n",
      "nb de mots enregistrés :  12 in row  1989\n",
      "nb de mots enregistrés :  20 in row  1991\n",
      "nb de mots enregistrés :  49 in row  1993\n",
      "nb de mots enregistrés :  59 in row  1995\n",
      "nb de mots enregistrés :  121 in row  1997\n"
     ]
    },
    {
     "name": "stderr",
     "output_type": "stream",
     "text": [
      " 74%|█████████████████████████████████████████████████████████▍                    | 2012/2731 [00:37<00:12, 57.07it/s]"
     ]
    },
    {
     "name": "stdout",
     "output_type": "stream",
     "text": [
      "nb de mots enregistrés :  136 in row  1999\n",
      "nb de mots enregistrés :  184 in row  2001\n",
      "nb de mots enregistrés :  193 in row  2003\n",
      "nb de mots enregistrés :  240 in row  2005\n",
      "nb de mots enregistrés :  254 in row  2007\n",
      "nb de mots enregistrés :  259 in row  2009\n",
      "nb de mots enregistrés :  281 in row  2011\n",
      "nb de mots enregistrés :  281 in row  2012\n",
      "step  SCENE   V.  detecté in row  2013\n",
      "nb de mots enregistrés :  0 in row  2014\n",
      "nb de mots enregistrés :  0 in row  2015\n",
      "nb de mots enregistrés :  29 in row  2017\n",
      "nb de mots enregistrés :  33 in row  2019\n"
     ]
    },
    {
     "name": "stderr",
     "output_type": "stream",
     "text": [
      " 75%|██████████████████████████████████████████████████████████▎                   | 2041/2731 [00:37<00:11, 60.07it/s]"
     ]
    },
    {
     "name": "stdout",
     "output_type": "stream",
     "text": [
      "nb de mots enregistrés :  46 in row  2021\n",
      "nb de mots enregistrés :  49 in row  2023\n",
      "nb de mots enregistrés :  58 in row  2025\n",
      "nb de mots enregistrés :  62 in row  2027\n",
      "nb de mots enregistrés :  71 in row  2029\n",
      "nb de mots enregistrés :  74 in row  2031\n",
      "nb de mots enregistrés :  84 in row  2033\n",
      "nb de mots enregistrés :  87 in row  2035\n",
      "nb de mots enregistrés :  92 in row  2037\n",
      "nb de mots enregistrés :  94 in row  2039\n"
     ]
    },
    {
     "name": "stderr",
     "output_type": "stream",
     "text": [
      " 75%|██████████████████████████████████████████████████████████▋                   | 2055/2731 [00:38<00:11, 56.99it/s]"
     ]
    },
    {
     "name": "stdout",
     "output_type": "stream",
     "text": [
      "nb de mots enregistrés :  98 in row  2041\n",
      "nb de mots enregistrés :  101 in row  2043\n",
      "nb de mots enregistrés :  107 in row  2045\n",
      "nb de mots enregistrés :  110 in row  2047\n",
      "nb de mots enregistrés :  120 in row  2049\n",
      "nb de mots enregistrés :  123 in row  2051\n",
      "nb de mots enregistrés :  132 in row  2053\n",
      "nb de mots enregistrés :  135 in row  2055\n"
     ]
    },
    {
     "name": "stderr",
     "output_type": "stream",
     "text": [
      " 76%|███████████████████████████████████████████████████████████                   | 2067/2731 [00:38<00:12, 53.47it/s]"
     ]
    },
    {
     "name": "stdout",
     "output_type": "stream",
     "text": [
      "nb de mots enregistrés :  143 in row  2057\n",
      "nb de mots enregistrés :  146 in row  2059\n",
      "nb de mots enregistrés :  167 in row  2061\n",
      "nb de mots enregistrés :  176 in row  2063\n",
      "nb de mots enregistrés :  180 in row  2065\n",
      "nb de mots enregistrés :  187 in row  2067\n",
      "nb de mots enregistrés :  196 in row  2069\n",
      "nb de mots enregistrés :  201 in row  2071\n"
     ]
    },
    {
     "name": "stderr",
     "output_type": "stream",
     "text": [
      " 76%|███████████████████████████████████████████████████████████▌                  | 2087/2731 [00:38<00:11, 55.83it/s]"
     ]
    },
    {
     "name": "stdout",
     "output_type": "stream",
     "text": [
      "nb de mots enregistrés :  212 in row  2073\n",
      "nb de mots enregistrés :  216 in row  2075\n",
      "nb de mots enregistrés :  231 in row  2077\n",
      "nb de mots enregistrés :  237 in row  2079\n",
      "nb de mots enregistrés :  247 in row  2081\n",
      "nb de mots enregistrés :  252 in row  2083\n",
      "nb de mots enregistrés :  265 in row  2085\n"
     ]
    },
    {
     "name": "stderr",
     "output_type": "stream",
     "text": [
      " 77%|███████████████████████████████████████████████████████████▉                  | 2100/2731 [00:38<00:11, 55.26it/s]"
     ]
    },
    {
     "name": "stdout",
     "output_type": "stream",
     "text": [
      "nb de mots enregistrés :  268 in row  2087\n",
      "nb de mots enregistrés :  280 in row  2089\n",
      "nb de mots enregistrés :  284 in row  2091\n",
      "nb de mots enregistrés :  319 in row  2093\n",
      "nb de mots enregistrés :  323 in row  2095\n",
      "nb de mots enregistrés :  326 in row  2097\n",
      "nb de mots enregistrés :  340 in row  2099\n",
      "nb de mots enregistrés :  344 in row  2101\n",
      "nb de mots enregistrés :  361 in row  2103\n",
      "nb de mots enregistrés :  364 in row  2105\n"
     ]
    },
    {
     "name": "stderr",
     "output_type": "stream",
     "text": [
      " 78%|████████████████████████████████████████████████████████████▍                 | 2118/2731 [00:39<00:11, 54.69it/s]"
     ]
    },
    {
     "name": "stdout",
     "output_type": "stream",
     "text": [
      "nb de mots enregistrés :  374 in row  2107\n",
      "nb de mots enregistrés :  376 in row  2109\n",
      "nb de mots enregistrés :  385 in row  2111\n",
      "nb de mots enregistrés :  387 in row  2113\n",
      "nb de mots enregistrés :  444 in row  2115\n",
      "nb de mots enregistrés :  446 in row  2117\n",
      "nb de mots enregistrés :  508 in row  2119\n",
      "nb de mots enregistrés :  510 in row  2121\n"
     ]
    },
    {
     "name": "stderr",
     "output_type": "stream",
     "text": [
      " 78%|████████████████████████████████████████████████████████████▊                 | 2130/2731 [00:39<00:11, 53.76it/s]"
     ]
    },
    {
     "name": "stdout",
     "output_type": "stream",
     "text": [
      "nb de mots enregistrés :  534 in row  2123\n",
      "nb de mots enregistrés :  536 in row  2125\n",
      "nb de mots enregistrés :  551 in row  2127\n",
      "nb de mots enregistrés :  551 in row  2128\n",
      "step  SCENE   VI.  detecté in row  2129\n",
      "nb de mots enregistrés :  0 in row  2130\n",
      "nb de mots enregistrés :  0 in row  2131\n",
      "nb de mots enregistrés :  12 in row  2133\n",
      "nb de mots enregistrés :  17 in row  2135\n"
     ]
    },
    {
     "name": "stderr",
     "output_type": "stream",
     "text": [
      " 78%|█████████████████████████████████████████████████████████████▏                | 2143/2731 [00:39<00:10, 53.63it/s]"
     ]
    },
    {
     "name": "stdout",
     "output_type": "stream",
     "text": [
      "nb de mots enregistrés :  29 in row  2137\n",
      "nb de mots enregistrés :  59 in row  2139\n",
      "nb de mots enregistrés :  70 in row  2141\n",
      "nb de mots enregistrés :  77 in row  2143\n",
      "nb de mots enregistrés :  88 in row  2145\n"
     ]
    },
    {
     "name": "stderr",
     "output_type": "stream",
     "text": [
      " 79%|█████████████████████████████████████████████████████████████▌                | 2155/2731 [00:39<00:10, 52.50it/s]"
     ]
    },
    {
     "name": "stdout",
     "output_type": "stream",
     "text": [
      "nb de mots enregistrés :  211 in row  2147\n",
      "nb de mots enregistrés :  228 in row  2149\n",
      "nb de mots enregistrés :  249 in row  2151\n",
      "nb de mots enregistrés :  249 in row  2152\n",
      "step  SCENE   VII.  detecté in row  2153\n",
      "nb de mots enregistrés :  0 in row  2154\n",
      "nb de mots enregistrés :  0 in row  2155\n",
      "nb de mots enregistrés :  9 in row  2157\n",
      "nb de mots enregistrés :  13 in row  2159\n"
     ]
    },
    {
     "name": "stderr",
     "output_type": "stream",
     "text": [
      " 80%|██████████████████████████████████████████████████████████████                | 2173/2731 [00:40<00:10, 53.52it/s]"
     ]
    },
    {
     "name": "stdout",
     "output_type": "stream",
     "text": [
      "nb de mots enregistrés :  18 in row  2161\n",
      "nb de mots enregistrés :  25 in row  2163\n",
      "nb de mots enregistrés :  30 in row  2165\n",
      "nb de mots enregistrés :  32 in row  2167\n",
      "nb de mots enregistrés :  45 in row  2169\n",
      "nb de mots enregistrés :  56 in row  2171\n",
      "nb de mots enregistrés :  64 in row  2173\n",
      "nb de mots enregistrés :  78 in row  2175\n",
      "nb de mots enregistrés :  78 in row  2176\n",
      "step  SCENE   VIII.  detecté in row  2177\n",
      "nb de mots enregistrés :  0 in row  2178\n"
     ]
    },
    {
     "name": "stderr",
     "output_type": "stream",
     "text": [
      " 80%|██████████████████████████████████████████████████████████████▋               | 2193/2731 [00:40<00:09, 57.97it/s]"
     ]
    },
    {
     "name": "stdout",
     "output_type": "stream",
     "text": [
      "nb de mots enregistrés :  0 in row  2179\n",
      "nb de mots enregistrés :  25 in row  2181\n",
      "nb de mots enregistrés :  37 in row  2183\n",
      "nb de mots enregistrés :  57 in row  2185\n",
      "nb de mots enregistrés :  67 in row  2187\n",
      "nb de mots enregistrés :  106 in row  2189\n",
      "nb de mots enregistrés :  112 in row  2191\n",
      "nb de mots enregistrés :  112 in row  2192\n"
     ]
    },
    {
     "name": "stderr",
     "output_type": "stream",
     "text": [
      "\r",
      " 81%|██████████████████████████████████████████████████████████████▊               | 2199/2731 [00:40<00:09, 58.02it/s]"
     ]
    },
    {
     "name": "stdout",
     "output_type": "stream",
     "text": [
      "step  SCENE   IX.  detecté in row  2193\n",
      "nb de mots enregistrés :  0 in row  2194\n",
      "nb de mots enregistrés :  0 in row  2195\n",
      "nb de mots enregistrés :  4 in row  2197\n",
      "nb de mots enregistrés :  6 in row  2199\n",
      "nb de mots enregistrés :  11 in row  2201\n"
     ]
    },
    {
     "name": "stderr",
     "output_type": "stream",
     "text": [
      "\r",
      " 81%|██████████████████████████████████████████████████████████████▉               | 2205/2731 [00:40<00:11, 45.78it/s]"
     ]
    },
    {
     "name": "stdout",
     "output_type": "stream",
     "text": [
      "nb de mots enregistrés :  14 in row  2203\n",
      "nb de mots enregistrés :  39 in row  2205\n",
      "nb de mots enregistrés :  50 in row  2207\n",
      "nb de mots enregistrés :  60 in row  2209\n"
     ]
    },
    {
     "name": "stderr",
     "output_type": "stream",
     "text": [
      " 81%|███████████████████████████████████████████████████████████████▍              | 2222/2731 [00:41<00:10, 47.27it/s]"
     ]
    },
    {
     "name": "stdout",
     "output_type": "stream",
     "text": [
      "nb de mots enregistrés :  73 in row  2211\n",
      "nb de mots enregistrés :  97 in row  2213\n",
      "nb de mots enregistrés :  112 in row  2215\n",
      "nb de mots enregistrés :  112 in row  2216\n",
      "step  SCENE   X.  detecté in row  2217\n",
      "nb de mots enregistrés :  0 in row  2218\n",
      "nb de mots enregistrés :  0 in row  2219\n",
      "nb de mots enregistrés :  9 in row  2221\n"
     ]
    },
    {
     "name": "stderr",
     "output_type": "stream",
     "text": [
      " 82%|███████████████████████████████████████████████████████████████▊              | 2235/2731 [00:41<00:09, 51.06it/s]"
     ]
    },
    {
     "name": "stdout",
     "output_type": "stream",
     "text": [
      "nb de mots enregistrés :  13 in row  2223\n",
      "nb de mots enregistrés :  47 in row  2225\n",
      "nb de mots enregistrés :  52 in row  2227\n",
      "nb de mots enregistrés :  67 in row  2229\n",
      "nb de mots enregistrés :  80 in row  2231\n",
      "nb de mots enregistrés :  89 in row  2233\n",
      "nb de mots enregistrés :  91 in row  2235\n",
      "nb de mots enregistrés :  108 in row  2237\n",
      "nb de mots enregistrés :  120 in row  2239\n"
     ]
    },
    {
     "name": "stderr",
     "output_type": "stream",
     "text": [
      " 82%|████████████████████████████████████████████████████████████████▏             | 2248/2731 [00:41<00:09, 51.71it/s]"
     ]
    },
    {
     "name": "stdout",
     "output_type": "stream",
     "text": [
      "nb de mots enregistrés :  273 in row  2241\n",
      "nb de mots enregistrés :  285 in row  2243\n",
      "nb de mots enregistrés :  310 in row  2245\n",
      "nb de mots enregistrés :  312 in row  2247\n",
      "nb de mots enregistrés :  332 in row  2249\n",
      "nb de mots enregistrés :  346 in row  2251\n",
      "nb de mots enregistrés :  358 in row  2253\n"
     ]
    },
    {
     "name": "stderr",
     "output_type": "stream",
     "text": [
      " 83%|████████████████████████████████████████████████████████████████▋             | 2267/2731 [00:42<00:08, 54.93it/s]"
     ]
    },
    {
     "name": "stdout",
     "output_type": "stream",
     "text": [
      "nb de mots enregistrés :  361 in row  2255\n",
      "nb de mots enregistrés :  365 in row  2257\n",
      "nb de mots enregistrés :  375 in row  2259\n",
      "nb de mots enregistrés :  378 in row  2261\n",
      "nb de mots enregistrés :  389 in row  2263\n",
      "nb de mots enregistrés :  391 in row  2265\n"
     ]
    },
    {
     "name": "stderr",
     "output_type": "stream",
     "text": [
      " 83%|█████████████████████████████████████████████████████████████████             | 2280/2731 [00:42<00:08, 53.15it/s]"
     ]
    },
    {
     "name": "stdout",
     "output_type": "stream",
     "text": [
      "nb de mots enregistrés :  397 in row  2267\n",
      "nb de mots enregistrés :  399 in row  2269\n",
      "nb de mots enregistrés :  408 in row  2271\n",
      "nb de mots enregistrés :  410 in row  2273\n",
      "nb de mots enregistrés :  425 in row  2275\n",
      "nb de mots enregistrés :  436 in row  2277\n",
      "nb de mots enregistrés :  438 in row  2279\n",
      "nb de mots enregistrés :  449 in row  2281\n"
     ]
    },
    {
     "name": "stderr",
     "output_type": "stream",
     "text": [
      " 84%|█████████████████████████████████████████████████████████████████▍            | 2291/2731 [00:42<00:11, 38.01it/s]"
     ]
    },
    {
     "name": "stdout",
     "output_type": "stream",
     "text": [
      "nb de mots enregistrés :  451 in row  2283\n",
      "nb de mots enregistrés :  470 in row  2285\n",
      "nb de mots enregistrés :  472 in row  2287\n",
      "nb de mots enregistrés :  487 in row  2289\n",
      "nb de mots enregistrés :  491 in row  2291\n",
      "nb de mots enregistrés :  492 in row  2293\n",
      "nb de mots enregistrés :  495 in row  2295\n"
     ]
    },
    {
     "name": "stderr",
     "output_type": "stream",
     "text": [
      " 84%|█████████████████████████████████████████████████████████████████▊            | 2304/2731 [00:42<00:08, 47.45it/s]"
     ]
    },
    {
     "name": "stdout",
     "output_type": "stream",
     "text": [
      "nb de mots enregistrés :  496 in row  2297\n",
      "nb de mots enregistrés :  498 in row  2299\n",
      "nb de mots enregistrés :  499 in row  2301\n",
      "nb de mots enregistrés :  501 in row  2303\n",
      "nb de mots enregistrés :  502 in row  2305\n",
      "nb de mots enregistrés :  505 in row  2307\n",
      "nb de mots enregistrés :  506 in row  2309\n"
     ]
    },
    {
     "name": "stderr",
     "output_type": "stream",
     "text": [
      " 85%|██████████████████████████████████████████████████████████████████▍           | 2328/2731 [00:43<00:08, 49.22it/s]"
     ]
    },
    {
     "name": "stdout",
     "output_type": "stream",
     "text": [
      "nb de mots enregistrés :  516 in row  2311\n",
      "nb de mots enregistrés :  517 in row  2313\n",
      "nb de mots enregistrés :  525 in row  2315\n",
      "nb de mots enregistrés :  535 in row  2317\n",
      "nb de mots enregistrés :  538 in row  2319\n",
      "nb de mots enregistrés :  545 in row  2321\n",
      "nb de mots enregistrés :  547 in row  2323\n",
      "nb de mots enregistrés :  563 in row  2325\n",
      "nb de mots enregistrés :  566 in row  2327\n"
     ]
    },
    {
     "name": "stderr",
     "output_type": "stream",
     "text": [
      " 86%|██████████████████████████████████████████████████████████████████▊           | 2341/2731 [00:43<00:07, 51.65it/s]"
     ]
    },
    {
     "name": "stdout",
     "output_type": "stream",
     "text": [
      "nb de mots enregistrés :  584 in row  2329\n",
      "nb de mots enregistrés :  585 in row  2331\n",
      "nb de mots enregistrés :  602 in row  2333\n",
      "nb de mots enregistrés :  606 in row  2335\n",
      "nb de mots enregistrés :  632 in row  2337\n",
      "nb de mots enregistrés :  636 in row  2339\n",
      "nb de mots enregistrés :  666 in row  2341\n",
      "nb de mots enregistrés :  673 in row  2343\n",
      "nb de mots enregistrés :  689 in row  2345\n"
     ]
    },
    {
     "name": "stderr",
     "output_type": "stream",
     "text": [
      " 86%|███████████████████████████████████████████████████████████████████▏          | 2354/2731 [00:43<00:07, 52.88it/s]"
     ]
    },
    {
     "name": "stdout",
     "output_type": "stream",
     "text": [
      "nb de mots enregistrés :  697 in row  2347\n",
      "nb de mots enregistrés :  705 in row  2349\n",
      "nb de mots enregistrés :  713 in row  2351\n",
      "nb de mots enregistrés :  720 in row  2353\n",
      "nb de mots enregistrés :  756 in row  2355\n"
     ]
    },
    {
     "name": "stderr",
     "output_type": "stream",
     "text": [
      " 87%|███████████████████████████████████████████████████████████████████▋          | 2368/2731 [00:44<00:06, 58.30it/s]"
     ]
    },
    {
     "name": "stdout",
     "output_type": "stream",
     "text": [
      "nb de mots enregistrés :  756 in row  2356\n",
      "step  SCENE   XI.  detecté in row  2357\n",
      "nb de mots enregistrés :  0 in row  2358\n",
      "nb de mots enregistrés :  0 in row  2359\n",
      "nb de mots enregistrés :  12 in row  2361\n",
      "nb de mots enregistrés :  16 in row  2363\n",
      "nb de mots enregistrés :  27 in row  2365\n",
      "nb de mots enregistrés :  36 in row  2367\n",
      "nb de mots enregistrés :  64 in row  2369\n",
      "nb de mots enregistrés :  102 in row  2371\n"
     ]
    },
    {
     "name": "stderr",
     "output_type": "stream",
     "text": [
      " 87%|████████████████████████████████████████████████████████████████████          | 2381/2731 [00:44<00:05, 59.28it/s]"
     ]
    },
    {
     "name": "stdout",
     "output_type": "stream",
     "text": [
      "nb de mots enregistrés :  134 in row  2373\n",
      "nb de mots enregistrés :  147 in row  2375\n",
      "nb de mots enregistrés :  153 in row  2377\n",
      "nb de mots enregistrés :  168 in row  2379\n",
      "nb de mots enregistrés :  186 in row  2381\n",
      "nb de mots enregistrés :  221 in row  2383\n"
     ]
    },
    {
     "name": "stderr",
     "output_type": "stream",
     "text": [
      " 88%|████████████████████████████████████████████████████████████████████▌         | 2400/2731 [00:44<00:05, 59.04it/s]"
     ]
    },
    {
     "name": "stdout",
     "output_type": "stream",
     "text": [
      "nb de mots enregistrés :  229 in row  2385\n",
      "nb de mots enregistrés :  232 in row  2387\n",
      "nb de mots enregistrés :  238 in row  2389\n",
      "nb de mots enregistrés :  239 in row  2391\n",
      "nb de mots enregistrés :  250 in row  2393\n",
      "nb de mots enregistrés :  304 in row  2395\n",
      "nb de mots enregistrés :  306 in row  2397\n",
      "nb de mots enregistrés :  333 in row  2399\n"
     ]
    },
    {
     "name": "stderr",
     "output_type": "stream",
     "text": [
      " 89%|█████████████████████████████████████████████████████████████████████▏        | 2422/2731 [00:45<00:04, 62.90it/s]"
     ]
    },
    {
     "name": "stdout",
     "output_type": "stream",
     "text": [
      "nb de mots enregistrés :  337 in row  2401\n",
      "nb de mots enregistrés :  353 in row  2403\n",
      "nb de mots enregistrés :  355 in row  2405\n",
      "nb de mots enregistrés :  360 in row  2407\n",
      "nb de mots enregistrés :  370 in row  2409\n",
      "nb de mots enregistrés :  393 in row  2411\n",
      "nb de mots enregistrés :  393 in row  2412\n",
      "step  SCENE   XII.  detecté in row  2413\n",
      "nb de mots enregistrés :  0 in row  2414\n",
      "nb de mots enregistrés :  0 in row  2415\n",
      "nb de mots enregistrés :  12 in row  2417\n",
      "nb de mots enregistrés :  15 in row  2419\n",
      "nb de mots enregistrés :  18 in row  2421\n"
     ]
    },
    {
     "name": "stderr",
     "output_type": "stream",
     "text": [
      " 89%|█████████████████████████████████████████████████████████████████████▌        | 2436/2731 [00:45<00:04, 63.46it/s]"
     ]
    },
    {
     "name": "stdout",
     "output_type": "stream",
     "text": [
      "nb de mots enregistrés :  21 in row  2423\n",
      "nb de mots enregistrés :  25 in row  2425\n",
      "nb de mots enregistrés :  30 in row  2427\n",
      "nb de mots enregistrés :  37 in row  2429\n",
      "nb de mots enregistrés :  39 in row  2431\n",
      "nb de mots enregistrés :  71 in row  2433\n",
      "nb de mots enregistrés :  94 in row  2435\n",
      "nb de mots enregistrés :  100 in row  2437\n",
      "nb de mots enregistrés :  164 in row  2439\n",
      "nb de mots enregistrés :  169 in row  2441\n"
     ]
    },
    {
     "name": "stderr",
     "output_type": "stream",
     "text": [
      " 90%|█████████████████████████████████████████████████████████████████████▉        | 2450/2731 [00:45<00:04, 59.43it/s]"
     ]
    },
    {
     "name": "stdout",
     "output_type": "stream",
     "text": [
      "nb de mots enregistrés :  256 in row  2443\n",
      "nb de mots enregistrés :  257 in row  2445\n",
      "nb de mots enregistrés :  259 in row  2447\n",
      "nb de mots enregistrés :  269 in row  2449\n",
      "nb de mots enregistrés :  277 in row  2451\n"
     ]
    },
    {
     "name": "stderr",
     "output_type": "stream",
     "text": [
      " 90%|██████████████████████████████████████████████████████████████████████▎       | 2462/2731 [00:45<00:05, 52.63it/s]"
     ]
    },
    {
     "name": "stdout",
     "output_type": "stream",
     "text": [
      "nb de mots enregistrés :  316 in row  2453\n",
      "nb de mots enregistrés :  323 in row  2455\n",
      "nb de mots enregistrés :  357 in row  2457\n",
      "nb de mots enregistrés :  357 in row  2458\n",
      "step  SCENE   XIII.  detecté in row  2459\n",
      "nb de mots enregistrés :  0 in row  2460\n",
      "nb de mots enregistrés :  0 in row  2461\n",
      "nb de mots enregistrés :  10 in row  2463\n",
      "nb de mots enregistrés :  17 in row  2465\n",
      "nb de mots enregistrés :  26 in row  2467\n"
     ]
    },
    {
     "name": "stderr",
     "output_type": "stream",
     "text": [
      " 91%|██████████████████████████████████████████████████████████████████████▉       | 2483/2731 [00:46<00:04, 58.62it/s]"
     ]
    },
    {
     "name": "stdout",
     "output_type": "stream",
     "text": [
      "nb de mots enregistrés :  29 in row  2469\n",
      "nb de mots enregistrés :  33 in row  2471\n",
      "nb de mots enregistrés :  39 in row  2473\n",
      "nb de mots enregistrés :  57 in row  2475\n",
      "nb de mots enregistrés :  83 in row  2477\n",
      "nb de mots enregistrés :  83 in row  2478\n",
      "step  SCENE   XIV  detecté in row  2479\n",
      "nb de mots enregistrés :  0 in row  2480\n",
      "nb de mots enregistrés :  0 in row  2481\n",
      "nb de mots enregistrés :  10 in row  2483\n",
      "nb de mots enregistrés :  37 in row  2485\n",
      "nb de mots enregistrés :  87 in row  2487\n",
      "nb de mots enregistrés :  173 in row  2489\n"
     ]
    },
    {
     "name": "stderr",
     "output_type": "stream",
     "text": [
      " 92%|███████████████████████████████████████████████████████████████████████▌      | 2504/2731 [00:46<00:03, 59.59it/s]"
     ]
    },
    {
     "name": "stdout",
     "output_type": "stream",
     "text": [
      "nb de mots enregistrés :  178 in row  2491\n",
      "nb de mots enregistrés :  180 in row  2493\n",
      "nb de mots enregistrés :  208 in row  2495\n",
      "nb de mots enregistrés :  279 in row  2497\n",
      "nb de mots enregistrés :  302 in row  2499\n",
      "nb de mots enregistrés :  309 in row  2501\n",
      "nb de mots enregistrés :  316 in row  2503\n"
     ]
    },
    {
     "name": "stderr",
     "output_type": "stream",
     "text": [
      "\r",
      " 92%|███████████████████████████████████████████████████████████████████████▋      | 2511/2731 [00:46<00:03, 60.86it/s]"
     ]
    },
    {
     "name": "stdout",
     "output_type": "stream",
     "text": [
      "nb de mots enregistrés :  332 in row  2505\n",
      "nb de mots enregistrés :  370 in row  2507\n",
      "nb de mots enregistrés :  395 in row  2509\n",
      "nb de mots enregistrés :  406 in row  2511\n",
      "nb de mots enregistrés :  425 in row  2513\n"
     ]
    },
    {
     "name": "stderr",
     "output_type": "stream",
     "text": [
      " 93%|████████████████████████████████████████████████████████████████████████▎     | 2530/2731 [00:46<00:03, 52.85it/s]"
     ]
    },
    {
     "name": "stdout",
     "output_type": "stream",
     "text": [
      "nb de mots enregistrés :  431 in row  2515\n",
      "nb de mots enregistrés :  448 in row  2517\n",
      "nb de mots enregistrés :  471 in row  2519\n",
      "nb de mots enregistrés :  484 in row  2521\n",
      "nb de mots enregistrés :  506 in row  2523\n",
      "nb de mots enregistrés :  528 in row  2525\n",
      "nb de mots enregistrés :  536 in row  2527\n",
      "nb de mots enregistrés :  545 in row  2529\n"
     ]
    },
    {
     "name": "stderr",
     "output_type": "stream",
     "text": [
      " 93%|████████████████████████████████████████████████████████████████████████▌     | 2542/2731 [00:47<00:03, 49.06it/s]"
     ]
    },
    {
     "name": "stdout",
     "output_type": "stream",
     "text": [
      "nb de mots enregistrés :  550 in row  2531\n",
      "nb de mots enregistrés :  555 in row  2533\n",
      "nb de mots enregistrés :  559 in row  2535\n",
      "nb de mots enregistrés :  584 in row  2537\n",
      "nb de mots enregistrés :  591 in row  2539\n",
      "nb de mots enregistrés :  619 in row  2541\n",
      "nb de mots enregistrés :  622 in row  2543\n"
     ]
    },
    {
     "name": "stderr",
     "output_type": "stream",
     "text": [
      "\r",
      " 93%|████████████████████████████████████████████████████████████████████████▊     | 2548/2731 [00:47<00:04, 38.70it/s]"
     ]
    },
    {
     "name": "stdout",
     "output_type": "stream",
     "text": [
      "nb de mots enregistrés :  633 in row  2545\n",
      "nb de mots enregistrés :  639 in row  2547\n",
      "nb de mots enregistrés :  683 in row  2549\n"
     ]
    },
    {
     "name": "stderr",
     "output_type": "stream",
     "text": [
      " 94%|█████████████████████████████████████████████████████████████████████████▎    | 2566/2731 [00:47<00:03, 49.10it/s]"
     ]
    },
    {
     "name": "stdout",
     "output_type": "stream",
     "text": [
      "nb de mots enregistrés :  699 in row  2551\n",
      "nb de mots enregistrés :  745 in row  2553\n",
      "nb de mots enregistrés :  748 in row  2555\n",
      "nb de mots enregistrés :  754 in row  2557\n",
      "nb de mots enregistrés :  754 in row  2558\n",
      "step  TROISIEME   INTERMEDE  detecté in row  2559\n",
      "nb de mots enregistrés :  0 in row  2560\n",
      "nb de mots enregistrés :  13 in row  2561\n",
      "nb de mots enregistrés :  13 in row  2562\n",
      "nb de mots enregistrés :  13 in row  2563\n",
      "nb de mots enregistrés :  13 in row  2564\n",
      "nb de mots enregistrés :  16 in row  2565\n"
     ]
    },
    {
     "name": "stderr",
     "output_type": "stream",
     "text": [
      "\r",
      " 94%|█████████████████████████████████████████████████████████████████████████▍    | 2572/2731 [00:47<00:03, 48.77it/s]"
     ]
    },
    {
     "name": "stdout",
     "output_type": "stream",
     "text": [
      "nb de mots enregistrés :  16 in row  2566\n",
      "nb de mots enregistrés :  62 in row  2567\n",
      "nb de mots enregistrés :  62 in row  2568\n",
      "nb de mots enregistrés :  63 in row  2569\n",
      "nb de mots enregistrés :  63 in row  2570\n",
      "nb de mots enregistrés :  63 in row  2571\n",
      "nb de mots enregistrés :  65 in row  2572\n",
      "nb de mots enregistrés :  67 in row  2573\n",
      "nb de mots enregistrés :  71 in row  2574\n",
      "nb de mots enregistrés :  75 in row  2575\n"
     ]
    },
    {
     "name": "stderr",
     "output_type": "stream",
     "text": [
      " 95%|█████████████████████████████████████████████████████████████████████████▊    | 2585/2731 [00:48<00:02, 52.75it/s]"
     ]
    },
    {
     "name": "stdout",
     "output_type": "stream",
     "text": [
      "nb de mots enregistrés :  77 in row  2576\n",
      "nb de mots enregistrés :  79 in row  2577\n",
      "nb de mots enregistrés :  82 in row  2578\n",
      "nb de mots enregistrés :  86 in row  2579\n",
      "nb de mots enregistrés :  90 in row  2580\n",
      "nb de mots enregistrés :  93 in row  2581\n",
      "nb de mots enregistrés :  93 in row  2582\n",
      "nb de mots enregistrés :  93 in row  2583\n",
      "nb de mots enregistrés :  97 in row  2584\n",
      "nb de mots enregistrés :  101 in row  2585\n",
      "nb de mots enregistrés :  104 in row  2586\n",
      "nb de mots enregistrés :  108 in row  2587\n",
      "nb de mots enregistrés :  115 in row  2588\n",
      "nb de mots enregistrés :  118 in row  2589\n"
     ]
    },
    {
     "name": "stderr",
     "output_type": "stream",
     "text": [
      " 95%|██████████████████████████████████████████████████████████████████████████▏   | 2598/2731 [00:48<00:02, 56.39it/s]"
     ]
    },
    {
     "name": "stdout",
     "output_type": "stream",
     "text": [
      "nb de mots enregistrés :  122 in row  2590\n",
      "nb de mots enregistrés :  124 in row  2591\n",
      "nb de mots enregistrés :  128 in row  2592\n",
      "nb de mots enregistrés :  132 in row  2593\n",
      "nb de mots enregistrés :  137 in row  2594\n",
      "nb de mots enregistrés :  137 in row  2595\n",
      "nb de mots enregistrés :  137 in row  2596\n",
      "nb de mots enregistrés :  141 in row  2597\n",
      "nb de mots enregistrés :  145 in row  2598\n",
      "nb de mots enregistrés :  150 in row  2599\n",
      "nb de mots enregistrés :  154 in row  2600\n",
      "nb de mots enregistrés :  160 in row  2601\n",
      "nb de mots enregistrés :  164 in row  2602\n"
     ]
    },
    {
     "name": "stderr",
     "output_type": "stream",
     "text": [
      " 96%|██████████████████████████████████████████████████████████████████████████▌   | 2610/2731 [00:48<00:02, 53.39it/s]"
     ]
    },
    {
     "name": "stdout",
     "output_type": "stream",
     "text": [
      "nb de mots enregistrés :  167 in row  2603\n",
      "nb de mots enregistrés :  172 in row  2604\n",
      "nb de mots enregistrés :  172 in row  2605\n",
      "nb de mots enregistrés :  172 in row  2606\n",
      "nb de mots enregistrés :  177 in row  2607\n",
      "nb de mots enregistrés :  181 in row  2608\n",
      "nb de mots enregistrés :  184 in row  2609\n",
      "nb de mots enregistrés :  188 in row  2610\n",
      "nb de mots enregistrés :  194 in row  2611\n",
      "nb de mots enregistrés :  200 in row  2612\n",
      "nb de mots enregistrés :  204 in row  2613\n"
     ]
    },
    {
     "name": "stderr",
     "output_type": "stream",
     "text": [
      " 96%|██████████████████████████████████████████████████████████████████████████▉   | 2623/2731 [00:48<00:01, 54.52it/s]"
     ]
    },
    {
     "name": "stdout",
     "output_type": "stream",
     "text": [
      "nb de mots enregistrés :  207 in row  2614\n",
      "nb de mots enregistrés :  211 in row  2615\n",
      "nb de mots enregistrés :  214 in row  2616\n",
      "nb de mots enregistrés :  214 in row  2617\n",
      "nb de mots enregistrés :  214 in row  2618\n",
      "nb de mots enregistrés :  221 in row  2619\n",
      "nb de mots enregistrés :  225 in row  2620\n",
      "nb de mots enregistrés :  228 in row  2621\n",
      "nb de mots enregistrés :  234 in row  2622\n",
      "nb de mots enregistrés :  238 in row  2623\n",
      "nb de mots enregistrés :  241 in row  2624\n",
      "nb de mots enregistrés :  245 in row  2625\n"
     ]
    },
    {
     "name": "stderr",
     "output_type": "stream",
     "text": [
      " 96%|███████████████████████████████████████████████████████████████████████████▎  | 2635/2731 [00:49<00:02, 45.32it/s]"
     ]
    },
    {
     "name": "stdout",
     "output_type": "stream",
     "text": [
      "nb de mots enregistrés :  247 in row  2626\n",
      "nb de mots enregistrés :  247 in row  2627\n",
      "nb de mots enregistrés :  247 in row  2628\n",
      "nb de mots enregistrés :  247 in row  2629\n",
      "nb de mots enregistrés :  249 in row  2630\n",
      "nb de mots enregistrés :  255 in row  2631\n",
      "nb de mots enregistrés :  274 in row  2632\n",
      "nb de mots enregistrés :  278 in row  2633\n",
      "nb de mots enregistrés :  279 in row  2634\n"
     ]
    },
    {
     "name": "stderr",
     "output_type": "stream",
     "text": [
      " 97%|███████████████████████████████████████████████████████████████████████████▌  | 2646/2731 [00:49<00:01, 46.70it/s]"
     ]
    },
    {
     "name": "stdout",
     "output_type": "stream",
     "text": [
      "nb de mots enregistrés :  293 in row  2635\n",
      "nb de mots enregistrés :  304 in row  2636\n",
      "nb de mots enregistrés :  305 in row  2637\n",
      "nb de mots enregistrés :  311 in row  2638\n",
      "nb de mots enregistrés :  322 in row  2639\n",
      "nb de mots enregistrés :  324 in row  2640\n",
      "nb de mots enregistrés :  330 in row  2641\n",
      "nb de mots enregistrés :  346 in row  2642\n",
      "nb de mots enregistrés :  350 in row  2643\n",
      "nb de mots enregistrés :  351 in row  2644\n",
      "nb de mots enregistrés :  357 in row  2645\n",
      "nb de mots enregistrés :  357 in row  2646\n",
      "nb de mots enregistrés :  358 in row  2647\n",
      "nb de mots enregistrés :  371 in row  2648\n",
      "nb de mots enregistrés :  373 in row  2649\n",
      "nb de mots enregistrés :  380 in row  2650\n",
      "nb de mots enregistrés :  395 in row  2651\n"
     ]
    },
    {
     "name": "stderr",
     "output_type": "stream",
     "text": [
      " 97%|███████████████████████████████████████████████████████████████████████████▉  | 2659/2731 [00:49<00:01, 52.37it/s]"
     ]
    },
    {
     "name": "stdout",
     "output_type": "stream",
     "text": [
      "nb de mots enregistrés :  395 in row  2652\n",
      "nb de mots enregistrés :  396 in row  2653\n",
      "nb de mots enregistrés :  402 in row  2654\n",
      "nb de mots enregistrés :  403 in row  2655\n",
      "nb de mots enregistrés :  413 in row  2656\n",
      "nb de mots enregistrés :  417 in row  2657\n",
      "nb de mots enregistrés :  419 in row  2658\n",
      "nb de mots enregistrés :  433 in row  2659\n",
      "nb de mots enregistrés :  437 in row  2660\n",
      "nb de mots enregistrés :  458 in row  2661\n",
      "nb de mots enregistrés :  466 in row  2662\n",
      "nb de mots enregistrés :  467 in row  2663\n",
      "nb de mots enregistrés :  471 in row  2664\n"
     ]
    },
    {
     "name": "stderr",
     "output_type": "stream",
     "text": [
      " 98%|████████████████████████████████████████████████████████████████████████████▎ | 2671/2731 [00:49<00:01, 36.83it/s]"
     ]
    },
    {
     "name": "stdout",
     "output_type": "stream",
     "text": [
      "nb de mots enregistrés :  473 in row  2665\n",
      "nb de mots enregistrés :  475 in row  2666\n",
      "nb de mots enregistrés :  485 in row  2667\n",
      "nb de mots enregistrés :  485 in row  2668\n",
      "nb de mots enregistrés :  486 in row  2669\n",
      "nb de mots enregistrés :  496 in row  2670\n",
      "nb de mots enregistrés :  497 in row  2671\n",
      "nb de mots enregistrés :  503 in row  2672\n",
      "nb de mots enregistrés :  511 in row  2673\n",
      "nb de mots enregistrés :  512 in row  2674\n",
      "nb de mots enregistrés :  523 in row  2675\n"
     ]
    },
    {
     "name": "stderr",
     "output_type": "stream",
     "text": [
      " 98%|████████████████████████████████████████████████████████████████████████████▋ | 2684/2731 [00:50<00:01, 44.21it/s]"
     ]
    },
    {
     "name": "stdout",
     "output_type": "stream",
     "text": [
      "nb de mots enregistrés :  523 in row  2676\n",
      "nb de mots enregistrés :  524 in row  2677\n",
      "nb de mots enregistrés :  525 in row  2678\n",
      "nb de mots enregistrés :  526 in row  2679\n",
      "nb de mots enregistrés :  529 in row  2680\n",
      "nb de mots enregistrés :  532 in row  2681\n",
      "nb de mots enregistrés :  533 in row  2682\n",
      "nb de mots enregistrés :  534 in row  2683\n",
      "nb de mots enregistrés :  535 in row  2684\n",
      "nb de mots enregistrés :  549 in row  2685\n",
      "nb de mots enregistrés :  557 in row  2686\n",
      "nb de mots enregistrés :  558 in row  2687\n"
     ]
    },
    {
     "name": "stderr",
     "output_type": "stream",
     "text": [
      " 99%|█████████████████████████████████████████████████████████████████████████████ | 2696/2731 [00:50<00:00, 48.97it/s]"
     ]
    },
    {
     "name": "stdout",
     "output_type": "stream",
     "text": [
      "nb de mots enregistrés :  559 in row  2688\n",
      "nb de mots enregistrés :  560 in row  2689\n",
      "nb de mots enregistrés :  567 in row  2690\n",
      "nb de mots enregistrés :  576 in row  2691\n",
      "nb de mots enregistrés :  585 in row  2692\n",
      "nb de mots enregistrés :  585 in row  2693\n",
      "nb de mots enregistrés :  585 in row  2694\n",
      "nb de mots enregistrés :  588 in row  2695\n",
      "nb de mots enregistrés :  588 in row  2696\n",
      "nb de mots enregistrés :  600 in row  2697\n",
      "nb de mots enregistrés :  600 in row  2698\n",
      "nb de mots enregistrés :  601 in row  2699\n",
      "nb de mots enregistrés :  625 in row  2700\n"
     ]
    },
    {
     "name": "stderr",
     "output_type": "stream",
     "text": [
      " 99%|█████████████████████████████████████████████████████████████████████████████▎| 2708/2731 [00:50<00:00, 51.78it/s]"
     ]
    },
    {
     "name": "stdout",
     "output_type": "stream",
     "text": [
      "nb de mots enregistrés :  644 in row  2701\n",
      "nb de mots enregistrés :  649 in row  2702\n",
      "nb de mots enregistrés :  675 in row  2703\n",
      "nb de mots enregistrés :  690 in row  2704\n",
      "nb de mots enregistrés :  691 in row  2705\n",
      "nb de mots enregistrés :  698 in row  2706\n",
      "nb de mots enregistrés :  717 in row  2707\n",
      "nb de mots enregistrés :  717 in row  2708\n",
      "nb de mots enregistrés :  720 in row  2709\n",
      "nb de mots enregistrés :  720 in row  2710\n",
      "nb de mots enregistrés :  743 in row  2711\n",
      "nb de mots enregistrés :  743 in row  2712\n",
      "nb de mots enregistrés :  744 in row  2713\n",
      "nb de mots enregistrés :  749 in row  2714\n"
     ]
    },
    {
     "name": "stderr",
     "output_type": "stream",
     "text": [
      "100%|█████████████████████████████████████████████████████████████████████████████▋| 2721/2731 [00:50<00:00, 55.16it/s]"
     ]
    },
    {
     "name": "stdout",
     "output_type": "stream",
     "text": [
      "nb de mots enregistrés :  755 in row  2715\n",
      "nb de mots enregistrés :  756 in row  2716\n",
      "nb de mots enregistrés :  769 in row  2717\n",
      "nb de mots enregistrés :  780 in row  2718\n",
      "nb de mots enregistrés :  781 in row  2719\n",
      "nb de mots enregistrés :  788 in row  2720\n",
      "nb de mots enregistrés :  801 in row  2721\n",
      "nb de mots enregistrés :  802 in row  2722\n",
      "nb de mots enregistrés :  809 in row  2723\n",
      "nb de mots enregistrés :  825 in row  2724\n",
      "nb de mots enregistrés :  825 in row  2725\n"
     ]
    },
    {
     "name": "stderr",
     "output_type": "stream",
     "text": [
      "100%|██████████████████████████████████████████████████████████████████████████████| 2731/2731 [00:51<00:00, 53.50it/s]"
     ]
    },
    {
     "name": "stdout",
     "output_type": "stream",
     "text": [
      "nb de mots enregistrés :  829 in row  2726\n",
      "nb de mots enregistrés :  829 in row  2727\n",
      "nb de mots enregistrés :  848 in row  2728\n",
      "nb de mots enregistrés :  848 in row  2729\n",
      "nb de mots enregistrés :  849 in row  2730\n"
     ]
    },
    {
     "name": "stderr",
     "output_type": "stream",
     "text": [
      "\n"
     ]
    }
   ],
   "source": [
    "data = [['Acte', 'Scene', 'Personnage', 'Nb de mots']]\n",
    "lnom = ['ARGAN', 'BELINE', 'TOINETTE', 'CLEANTE', 'BERALDE', 'DIAFOIRUS', 'ANGELIQUE', 'PURGON', 'LOUISON', 'MONSIEUR']\n",
    "lstage=['ACTE','SCENE','PROLOGUE','PREMIER','SECOND','TROISIEME']\n",
    "cw = 0\n",
    "for r in tqdm.tqdm(df.index):\n",
    "    if any([step for step in lstage if step in str(df.iloc[r, :])]):\n",
    "        if r>1:\n",
    "            data[-1][3] = cw\n",
    "        data.append([f'{df.iloc[r, 0]} {df.iloc[r, 1]}', 0, 0, 0])\n",
    "        cw=0\n",
    "        print('step ', df.iloc[r, 0],' ',df.iloc[r, 1], ' detecté in row ', r)\n",
    "\n",
    "    else:\n",
    "\n",
    "        if any([nom for nom in lnom if nom in str(df.iloc[r, :])]):\n",
    "            \n",
    "            if data[-1][0]==0:\n",
    "                \n",
    "                data[-1][3] = cw\n",
    "                data.append([0, 0, df.iloc[r, 0], 0])\n",
    "\n",
    "                cw=0\n",
    "                print('nom', df.iloc[r, 0], ' detecté in row ', r)\n",
    "\n",
    "        else:\n",
    "\n",
    "            cw = cw + df.iloc[r, :].notna().sum()\n",
    "            print('nb de mots enregistrés : ', cw, 'in row ', r)"
   ]
  },
  {
   "cell_type": "code",
   "execution_count": 77,
   "id": "02a6589d",
   "metadata": {},
   "outputs": [
    {
     "data": {
      "text/plain": [
       "[['Acte', 'Scene', 'Personnage', 'Nb de mots']]"
      ]
     },
     "execution_count": 77,
     "metadata": {},
     "output_type": "execute_result"
    }
   ],
   "source": [
    "data"
   ]
  },
  {
   "cell_type": "code",
   "execution_count": 78,
   "id": "aa472c85",
   "metadata": {},
   "outputs": [
    {
     "data": {
      "text/html": [
       "<div>\n",
       "<style scoped>\n",
       "    .dataframe tbody tr th:only-of-type {\n",
       "        vertical-align: middle;\n",
       "    }\n",
       "\n",
       "    .dataframe tbody tr th {\n",
       "        vertical-align: top;\n",
       "    }\n",
       "\n",
       "    .dataframe thead th {\n",
       "        text-align: right;\n",
       "    }\n",
       "</style>\n",
       "<table border=\"1\" class=\"dataframe\">\n",
       "  <thead>\n",
       "    <tr style=\"text-align: right;\">\n",
       "      <th></th>\n",
       "      <th>Acte</th>\n",
       "      <th>Scene</th>\n",
       "      <th>Personnage</th>\n",
       "      <th>Nb de mots</th>\n",
       "    </tr>\n",
       "  </thead>\n",
       "  <tbody>\n",
       "  </tbody>\n",
       "</table>\n",
       "</div>"
      ],
      "text/plain": [
       "Empty DataFrame\n",
       "Columns: [Acte, Scene, Personnage, Nb de mots]\n",
       "Index: []"
      ]
     },
     "execution_count": 78,
     "metadata": {},
     "output_type": "execute_result"
    }
   ],
   "source": [
    "dfr=pd.DataFrame(data=data[1:], columns=data[0])\n",
    "dfr[0:30]"
   ]
  },
  {
   "cell_type": "code",
   "execution_count": 79,
   "id": "425ec983",
   "metadata": {},
   "outputs": [],
   "source": [
    "dfr.to_csv('dfr.csv',index=False)"
   ]
  },
  {
   "cell_type": "code",
   "execution_count": 80,
   "id": "8df62ef9",
   "metadata": {},
   "outputs": [],
   "source": [
    "dfrr=dfr.copy()"
   ]
  },
  {
   "cell_type": "code",
   "execution_count": 81,
   "id": "a68d6fe4",
   "metadata": {},
   "outputs": [],
   "source": [
    "for r in dfr.index:\n",
    "    if 'SCENE' in str(dfr.iloc[r,0]):\n",
    "        dfr.iloc[r,1]=dfr.iloc[r,0]\n",
    "        dfr.iloc[r,0]=0\n",
    "\n",
    "for r in dfr.index:\n",
    "    if dfr.iloc[r,1]==0:\n",
    "        try:\n",
    "            dfr.iloc[r,1]=dfr.iloc[r-1,1]\n",
    "        except:\n",
    "            continue\n",
    "\n",
    "for r in dfr.index:\n",
    "    if dfr.iloc[r,0]==0:\n",
    "        try:\n",
    "            dfr.iloc[r,0]=dfr.iloc[r-1,0]\n",
    "        except:\n",
    "            continue"
   ]
  },
  {
   "cell_type": "code",
   "execution_count": 82,
   "id": "2dfbd82a",
   "metadata": {},
   "outputs": [
    {
     "data": {
      "text/html": [
       "<div>\n",
       "<style scoped>\n",
       "    .dataframe tbody tr th:only-of-type {\n",
       "        vertical-align: middle;\n",
       "    }\n",
       "\n",
       "    .dataframe tbody tr th {\n",
       "        vertical-align: top;\n",
       "    }\n",
       "\n",
       "    .dataframe thead th {\n",
       "        text-align: right;\n",
       "    }\n",
       "</style>\n",
       "<table border=\"1\" class=\"dataframe\">\n",
       "  <thead>\n",
       "    <tr style=\"text-align: right;\">\n",
       "      <th></th>\n",
       "      <th>Acte</th>\n",
       "      <th>Scene</th>\n",
       "      <th>Personnage</th>\n",
       "      <th>Nb de mots</th>\n",
       "    </tr>\n",
       "  </thead>\n",
       "  <tbody>\n",
       "  </tbody>\n",
       "</table>\n",
       "</div>"
      ],
      "text/plain": [
       "Empty DataFrame\n",
       "Columns: [Acte, Scene, Personnage, Nb de mots]\n",
       "Index: []"
      ]
     },
     "execution_count": 82,
     "metadata": {},
     "output_type": "execute_result"
    }
   ],
   "source": [
    "dfr"
   ]
  },
  {
   "cell_type": "code",
   "execution_count": 83,
   "id": "1bed95d5",
   "metadata": {},
   "outputs": [],
   "source": [
    "dfr.iloc[:,2] = dfr.iloc[:,2].str.replace('\\W', '', regex=True)"
   ]
  },
  {
   "cell_type": "code",
   "execution_count": 84,
   "id": "da7cc211",
   "metadata": {},
   "outputs": [],
   "source": [
    "dfinal=dfr[(dfr != 0).all(1)]"
   ]
  },
  {
   "cell_type": "code",
   "execution_count": 85,
   "id": "60a86657",
   "metadata": {},
   "outputs": [
    {
     "name": "stderr",
     "output_type": "stream",
     "text": [
      "C:\\Users\\John\\AppData\\Local\\Temp\\ipykernel_12264\\527409150.py:1: FutureWarning: pivot_table dropped a column because it failed to aggregate. This behavior is deprecated and will raise in a future version of pandas. Select only the columns that can be aggregated.\n",
      "  dfp=dfinal.pivot_table(index='Personnage',columns='Acte',values='Nb de mots',aggfunc='sum')\n"
     ]
    }
   ],
   "source": [
    "dfp=dfinal.pivot_table(index='Personnage',columns='Acte',values='Nb de mots',aggfunc='sum')"
   ]
  },
  {
   "cell_type": "code",
   "execution_count": 86,
   "id": "ff1a0fbd",
   "metadata": {},
   "outputs": [
    {
     "data": {
      "text/html": [
       "<div>\n",
       "<style scoped>\n",
       "    .dataframe tbody tr th:only-of-type {\n",
       "        vertical-align: middle;\n",
       "    }\n",
       "\n",
       "    .dataframe tbody tr th {\n",
       "        vertical-align: top;\n",
       "    }\n",
       "\n",
       "    .dataframe thead th {\n",
       "        text-align: right;\n",
       "    }\n",
       "</style>\n",
       "<table border=\"1\" class=\"dataframe\">\n",
       "  <thead>\n",
       "    <tr style=\"text-align: right;\">\n",
       "      <th>Acte</th>\n",
       "    </tr>\n",
       "    <tr>\n",
       "      <th>Personnage</th>\n",
       "    </tr>\n",
       "  </thead>\n",
       "  <tbody>\n",
       "  </tbody>\n",
       "</table>\n",
       "</div>"
      ],
      "text/plain": [
       "Empty DataFrame\n",
       "Columns: []\n",
       "Index: []"
      ]
     },
     "execution_count": 86,
     "metadata": {},
     "output_type": "execute_result"
    }
   ],
   "source": [
    "dfp"
   ]
  },
  {
   "cell_type": "code",
   "execution_count": 87,
   "id": "7d148252",
   "metadata": {},
   "outputs": [],
   "source": [
    "dfinal=dfinal.loc[dfinal['Acte'].str.contains('ACTE'),:]"
   ]
  },
  {
   "cell_type": "code",
   "execution_count": 88,
   "id": "8ef5bf8a",
   "metadata": {},
   "outputs": [
    {
     "ename": "ValueError",
     "evalue": "s must be a scalar, or float array-like with the same size as x and y",
     "output_type": "error",
     "traceback": [
      "\u001b[1;31m---------------------------------------------------------------------------\u001b[0m",
      "\u001b[1;31mValueError\u001b[0m                                Traceback (most recent call last)",
      "Cell \u001b[1;32mIn[88], line 1\u001b[0m\n\u001b[1;32m----> 1\u001b[0m \u001b[43mplt\u001b[49m\u001b[38;5;241;43m.\u001b[39;49m\u001b[43mscatter\u001b[49m\u001b[43m(\u001b[49m\u001b[43my\u001b[49m\u001b[38;5;241;43m=\u001b[39;49m\u001b[43mdfinal\u001b[49m\u001b[43m[\u001b[49m\u001b[38;5;124;43m'\u001b[39;49m\u001b[38;5;124;43mPersonnage\u001b[39;49m\u001b[38;5;124;43m'\u001b[39;49m\u001b[43m]\u001b[49m\u001b[43m,\u001b[49m\u001b[43m \u001b[49m\u001b[43mx\u001b[49m\u001b[38;5;241;43m=\u001b[39;49m\u001b[43mdfinal\u001b[49m\u001b[43m[\u001b[49m\u001b[38;5;124;43m'\u001b[39;49m\u001b[38;5;124;43mActe\u001b[39;49m\u001b[38;5;124;43m'\u001b[39;49m\u001b[43m]\u001b[49m\u001b[43m,\u001b[49m\u001b[43ms\u001b[49m\u001b[38;5;241;43m=\u001b[39;49m\u001b[38;5;241;43m5\u001b[39;49m\u001b[38;5;241;43m*\u001b[39;49m\u001b[43mdfinal\u001b[49m\u001b[43m[\u001b[49m\u001b[38;5;124;43m'\u001b[39;49m\u001b[38;5;124;43mNb de mots\u001b[39;49m\u001b[38;5;124;43m'\u001b[39;49m\u001b[43m]\u001b[49m\u001b[43m)\u001b[49m\n\u001b[0;32m      2\u001b[0m \u001b[38;5;66;03m#plt.scatter(y=dfp.index, x=dfp.iloc[:,1],s=dfp.iloc[:,1])\u001b[39;00m\n\u001b[0;32m      3\u001b[0m \u001b[38;5;66;03m#plt.scatter(y=dfp.index, x=dfp.iloc[:,2],s=dfp.iloc[:,2])\u001b[39;00m\n",
      "File \u001b[1;32m~\\Desktop\\Formation\\venv\\lib\\site-packages\\matplotlib\\pyplot.py:2790\u001b[0m, in \u001b[0;36mscatter\u001b[1;34m(x, y, s, c, marker, cmap, norm, vmin, vmax, alpha, linewidths, edgecolors, plotnonfinite, data, **kwargs)\u001b[0m\n\u001b[0;32m   2785\u001b[0m \u001b[38;5;129m@_copy_docstring_and_deprecators\u001b[39m(Axes\u001b[38;5;241m.\u001b[39mscatter)\n\u001b[0;32m   2786\u001b[0m \u001b[38;5;28;01mdef\u001b[39;00m \u001b[38;5;21mscatter\u001b[39m(\n\u001b[0;32m   2787\u001b[0m         x, y, s\u001b[38;5;241m=\u001b[39m\u001b[38;5;28;01mNone\u001b[39;00m, c\u001b[38;5;241m=\u001b[39m\u001b[38;5;28;01mNone\u001b[39;00m, marker\u001b[38;5;241m=\u001b[39m\u001b[38;5;28;01mNone\u001b[39;00m, cmap\u001b[38;5;241m=\u001b[39m\u001b[38;5;28;01mNone\u001b[39;00m, norm\u001b[38;5;241m=\u001b[39m\u001b[38;5;28;01mNone\u001b[39;00m,\n\u001b[0;32m   2788\u001b[0m         vmin\u001b[38;5;241m=\u001b[39m\u001b[38;5;28;01mNone\u001b[39;00m, vmax\u001b[38;5;241m=\u001b[39m\u001b[38;5;28;01mNone\u001b[39;00m, alpha\u001b[38;5;241m=\u001b[39m\u001b[38;5;28;01mNone\u001b[39;00m, linewidths\u001b[38;5;241m=\u001b[39m\u001b[38;5;28;01mNone\u001b[39;00m, \u001b[38;5;241m*\u001b[39m,\n\u001b[0;32m   2789\u001b[0m         edgecolors\u001b[38;5;241m=\u001b[39m\u001b[38;5;28;01mNone\u001b[39;00m, plotnonfinite\u001b[38;5;241m=\u001b[39m\u001b[38;5;28;01mFalse\u001b[39;00m, data\u001b[38;5;241m=\u001b[39m\u001b[38;5;28;01mNone\u001b[39;00m, \u001b[38;5;241m*\u001b[39m\u001b[38;5;241m*\u001b[39mkwargs):\n\u001b[1;32m-> 2790\u001b[0m     __ret \u001b[38;5;241m=\u001b[39m gca()\u001b[38;5;241m.\u001b[39mscatter(\n\u001b[0;32m   2791\u001b[0m         x, y, s\u001b[38;5;241m=\u001b[39ms, c\u001b[38;5;241m=\u001b[39mc, marker\u001b[38;5;241m=\u001b[39mmarker, cmap\u001b[38;5;241m=\u001b[39mcmap, norm\u001b[38;5;241m=\u001b[39mnorm,\n\u001b[0;32m   2792\u001b[0m         vmin\u001b[38;5;241m=\u001b[39mvmin, vmax\u001b[38;5;241m=\u001b[39mvmax, alpha\u001b[38;5;241m=\u001b[39malpha, linewidths\u001b[38;5;241m=\u001b[39mlinewidths,\n\u001b[0;32m   2793\u001b[0m         edgecolors\u001b[38;5;241m=\u001b[39medgecolors, plotnonfinite\u001b[38;5;241m=\u001b[39mplotnonfinite,\n\u001b[0;32m   2794\u001b[0m         \u001b[38;5;241m*\u001b[39m\u001b[38;5;241m*\u001b[39m({\u001b[38;5;124m\"\u001b[39m\u001b[38;5;124mdata\u001b[39m\u001b[38;5;124m\"\u001b[39m: data} \u001b[38;5;28;01mif\u001b[39;00m data \u001b[38;5;129;01mis\u001b[39;00m \u001b[38;5;129;01mnot\u001b[39;00m \u001b[38;5;28;01mNone\u001b[39;00m \u001b[38;5;28;01melse\u001b[39;00m {}), \u001b[38;5;241m*\u001b[39m\u001b[38;5;241m*\u001b[39mkwargs)\n\u001b[0;32m   2795\u001b[0m     sci(__ret)\n\u001b[0;32m   2796\u001b[0m     \u001b[38;5;28;01mreturn\u001b[39;00m __ret\n",
      "File \u001b[1;32m~\\Desktop\\Formation\\venv\\lib\\site-packages\\matplotlib\\__init__.py:1423\u001b[0m, in \u001b[0;36m_preprocess_data.<locals>.inner\u001b[1;34m(ax, data, *args, **kwargs)\u001b[0m\n\u001b[0;32m   1420\u001b[0m \u001b[38;5;129m@functools\u001b[39m\u001b[38;5;241m.\u001b[39mwraps(func)\n\u001b[0;32m   1421\u001b[0m \u001b[38;5;28;01mdef\u001b[39;00m \u001b[38;5;21minner\u001b[39m(ax, \u001b[38;5;241m*\u001b[39margs, data\u001b[38;5;241m=\u001b[39m\u001b[38;5;28;01mNone\u001b[39;00m, \u001b[38;5;241m*\u001b[39m\u001b[38;5;241m*\u001b[39mkwargs):\n\u001b[0;32m   1422\u001b[0m     \u001b[38;5;28;01mif\u001b[39;00m data \u001b[38;5;129;01mis\u001b[39;00m \u001b[38;5;28;01mNone\u001b[39;00m:\n\u001b[1;32m-> 1423\u001b[0m         \u001b[38;5;28;01mreturn\u001b[39;00m func(ax, \u001b[38;5;241m*\u001b[39m\u001b[38;5;28mmap\u001b[39m(sanitize_sequence, args), \u001b[38;5;241m*\u001b[39m\u001b[38;5;241m*\u001b[39mkwargs)\n\u001b[0;32m   1425\u001b[0m     bound \u001b[38;5;241m=\u001b[39m new_sig\u001b[38;5;241m.\u001b[39mbind(ax, \u001b[38;5;241m*\u001b[39margs, \u001b[38;5;241m*\u001b[39m\u001b[38;5;241m*\u001b[39mkwargs)\n\u001b[0;32m   1426\u001b[0m     auto_label \u001b[38;5;241m=\u001b[39m (bound\u001b[38;5;241m.\u001b[39marguments\u001b[38;5;241m.\u001b[39mget(label_namer)\n\u001b[0;32m   1427\u001b[0m                   \u001b[38;5;129;01mor\u001b[39;00m bound\u001b[38;5;241m.\u001b[39mkwargs\u001b[38;5;241m.\u001b[39mget(label_namer))\n",
      "File \u001b[1;32m~\\Desktop\\Formation\\venv\\lib\\site-packages\\matplotlib\\axes\\_axes.py:4529\u001b[0m, in \u001b[0;36mAxes.scatter\u001b[1;34m(self, x, y, s, c, marker, cmap, norm, vmin, vmax, alpha, linewidths, edgecolors, plotnonfinite, **kwargs)\u001b[0m\n\u001b[0;32m   4525\u001b[0m s \u001b[38;5;241m=\u001b[39m np\u001b[38;5;241m.\u001b[39mma\u001b[38;5;241m.\u001b[39mravel(s)\n\u001b[0;32m   4526\u001b[0m \u001b[38;5;28;01mif\u001b[39;00m (\u001b[38;5;28mlen\u001b[39m(s) \u001b[38;5;129;01mnot\u001b[39;00m \u001b[38;5;129;01min\u001b[39;00m (\u001b[38;5;241m1\u001b[39m, x\u001b[38;5;241m.\u001b[39msize) \u001b[38;5;129;01mor\u001b[39;00m\n\u001b[0;32m   4527\u001b[0m         (\u001b[38;5;129;01mnot\u001b[39;00m np\u001b[38;5;241m.\u001b[39missubdtype(s\u001b[38;5;241m.\u001b[39mdtype, np\u001b[38;5;241m.\u001b[39mfloating) \u001b[38;5;129;01mand\u001b[39;00m\n\u001b[0;32m   4528\u001b[0m          \u001b[38;5;129;01mnot\u001b[39;00m np\u001b[38;5;241m.\u001b[39missubdtype(s\u001b[38;5;241m.\u001b[39mdtype, np\u001b[38;5;241m.\u001b[39minteger))):\n\u001b[1;32m-> 4529\u001b[0m     \u001b[38;5;28;01mraise\u001b[39;00m \u001b[38;5;167;01mValueError\u001b[39;00m(\n\u001b[0;32m   4530\u001b[0m         \u001b[38;5;124m\"\u001b[39m\u001b[38;5;124ms must be a scalar, \u001b[39m\u001b[38;5;124m\"\u001b[39m\n\u001b[0;32m   4531\u001b[0m         \u001b[38;5;124m\"\u001b[39m\u001b[38;5;124mor float array-like with the same size as x and y\u001b[39m\u001b[38;5;124m\"\u001b[39m)\n\u001b[0;32m   4533\u001b[0m \u001b[38;5;66;03m# get the original edgecolor the user passed before we normalize\u001b[39;00m\n\u001b[0;32m   4534\u001b[0m orig_edgecolor \u001b[38;5;241m=\u001b[39m edgecolors\n",
      "\u001b[1;31mValueError\u001b[0m: s must be a scalar, or float array-like with the same size as x and y"
     ]
    },
    {
     "data": {
      "image/png": "[encoded data removed]",
      "text/plain": [
       "<Figure size 640x480 with 1 Axes>"
      ]
     },
     "metadata": {},
     "output_type": "display_data"
    }
   ],
   "source": [
    "plt.scatter(y=dfinal['Personnage'], x=dfinal['Acte'],s=5*dfinal['Nb de mots'])\n",
    "#plt.scatter(y=dfp.index, x=dfp.iloc[:,1],s=dfp.iloc[:,1])\n",
    "#plt.scatter(y=dfp.index, x=dfp.iloc[:,2],s=dfp.iloc[:,2])"
   ]
  },
  {
   "cell_type": "code",
   "execution_count": null,
   "id": "9b152100",
   "metadata": {
    "scrolled": true
   },
   "outputs": [],
   "source": [
    "dfinal.groupby(['Acte','Personnage']).sum()"
   ]
  },
  {
   "cell_type": "code",
   "execution_count": null,
   "id": "4704ff40",
   "metadata": {},
   "outputs": [],
   "source": [
    "import pandas as pd\n",
    "import numpy as np\n",
    "import matplotlib.pyplot as plt\n",
    "import seaborn as sns\n",
    "\n",
    "test_date1, test_date2 = '20200101', '20210630'\n",
    "\n",
    "months = pd.date_range('2021-01-01', periods=12, freq='M').strftime('%B')\n",
    "K = 2000\n",
    "df = pd.DataFrame(np.random.choice(pd.date_range(test_date1, test_date2), K), columns=['Upload Date'])\n",
    "df['Year'] = df['Upload Date'].dt.year\n",
    "# df['Month'] = pd.Categorical(df['Upload Date'].dt.strftime('%B'), categories=months)\n",
    "df['YearMonth'] = df['Upload Date'].dt.strftime('%Y%m').astype(int)\n",
    "df['DocID'] = np.random.randint(100000, 200000, df.shape[0]).astype('str')\n",
    "df['DocID'] = 'DOC' + df['DocID']\n",
    "\n",
    "sns.set_style(\"white\")\n",
    "sns.set_color_codes(\"pastel\")\n",
    "fig, ax = plt.subplots(figsize=(20, 8))\n",
    "sns.countplot(x='YearMonth', data=df, ax=ax)\n",
    "sns.despine()\n",
    "yearmonth_labels = [int(l.get_text()) for l in ax.get_xticklabels()]\n",
    "ax.set_xticklabels([months[ym % 100 - 1] for ym in yearmonth_labels])\n",
    "ax.set_xlabel('')\n",
    "\n",
    "# calculate the positions of the borders between the years\n",
    "pos = []\n",
    "years = []\n",
    "prev = None\n",
    "for i, ym in enumerate(yearmonth_labels):\n",
    "    if ym // 100 != prev:\n",
    "        pos.append(i)\n",
    "        prev = ym // 100\n",
    "        years.append(prev)\n",
    "pos.append(len(yearmonth_labels))\n",
    "pos = np.array(pos) - 0.5\n",
    "# vertical lines to separate the years\n",
    "ax.vlines(pos, 0, -0.12, color='black', lw=0.8, clip_on=False, transform=ax.get_xaxis_transform())\n",
    "# years at the center of their range\n",
    "for year, pos0, pos1 in zip(years, pos[:-1], pos[1:]):\n",
    "    ax.text((pos0 + pos1) / 2, -0.07, year, ha='center', clip_on=False, transform=ax.get_xaxis_transform())\n",
    "\n",
    "ax.set_xlim(pos[0], pos[-1])\n",
    "ax.set_ylim(ymin=0)\n",
    "plt.tight_layout()\n",
    "plt.show()"
   ]
  },
  {
   "cell_type": "code",
   "execution_count": null,
   "id": "9234825a",
   "metadata": {},
   "outputs": [],
   "source": []
  }
 ],
 "metadata": {
  "kernelspec": {
   "display_name": "Python 3 (ipykernel)",
   "language": "python",
   "name": "python3"
  },
  "language_info": {
   "codemirror_mode": {
    "name": "ipython",
    "version": 3
   },
   "file_extension": ".py",
   "mimetype": "text/x-python",
   "name": "python",
   "nbconvert_exporter": "python",
   "pygments_lexer": "ipython3",
   "version": "3.9.13"
  }
 },
 "nbformat": 4,
 "nbformat_minor": 5
}
